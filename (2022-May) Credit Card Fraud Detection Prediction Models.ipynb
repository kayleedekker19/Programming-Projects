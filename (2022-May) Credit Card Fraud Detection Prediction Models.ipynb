{
 "cells": [
  {
   "cell_type": "markdown",
   "id": "a1a5b5e2-4166-4609-85c1-46bdef69acfb",
   "metadata": {},
   "source": [
    "## Individual Assignment: Fraud Detection Models "
   ]
  },
  {
   "cell_type": "code",
   "execution_count": 2,
   "id": "503fe5cd-050c-4959-b86d-5c8f8521e95d",
   "metadata": {},
   "outputs": [
    {
     "name": "stderr",
     "output_type": "stream",
     "text": [
      "Installing package into ‘/usr/local/lib/R/site-library’\n",
      "(as ‘lib’ is unspecified)\n",
      "\n"
     ]
    }
   ],
   "source": [
    "# Load the libraries \n",
    "\n",
    ".libPaths(\"/usr/local/lib/R/site-library\")\n",
    "library(randomForest) # for random forest model\n",
    "library(xgboost) # for xgboost model\n",
    "library(dplyr) # for data manipulation \n",
    "library(ggplot2) # for data visualization\n",
    "library(corrplot) # for correlations\n",
    "library(ellipse) # for correlations \n",
    "library(ROSE) # for ROC \n",
    "library(pROC) # for AUC score\n",
    "library(rpart) # for decision tree model\n",
    "library(rpart.plot) # for decision tree plots\n",
    "install.packages(\"unbalanced\")\n",
    "library(unbalanced) # for under sampling \n",
    "library(caret) # for confusion matrix\n",
    "library(MLmetrics) # for F1 score \n",
    "library(class) # for knn model"
   ]
  },
  {
   "cell_type": "code",
   "execution_count": 3,
   "id": "65fa41c9-01bd-4ae6-98cc-06f9456b191d",
   "metadata": {},
   "outputs": [],
   "source": [
    "# Load the dataset \n",
    "\n",
    "df <- read.csv(\"CreditCardFraud1.csv\")"
   ]
  },
  {
   "cell_type": "code",
   "execution_count": 4,
   "id": "3b95a416-e3a1-4c38-b589-9948774554f5",
   "metadata": {},
   "outputs": [
    {
     "data": {
      "text/html": [
       "<style>\n",
       ".list-inline {list-style: none; margin:0; padding: 0}\n",
       ".list-inline>li {display: inline-block}\n",
       ".list-inline>li:not(:last-child)::after {content: \"\\00b7\"; padding: 0 .5ex}\n",
       "</style>\n",
       "<ol class=list-inline><li>284807</li><li>31</li></ol>\n"
      ],
      "text/latex": [
       "\\begin{enumerate*}\n",
       "\\item 284807\n",
       "\\item 31\n",
       "\\end{enumerate*}\n"
      ],
      "text/markdown": [
       "1. 284807\n",
       "2. 31\n",
       "\n",
       "\n"
      ],
      "text/plain": [
       "[1] 284807     31"
      ]
     },
     "metadata": {},
     "output_type": "display_data"
    }
   ],
   "source": [
    "# Determine shape of the dataset \n",
    "\n",
    "dim(df)"
   ]
  },
  {
   "cell_type": "code",
   "execution_count": null,
   "id": "96fe2d8b-38a9-4795-8018-798bfdbbf586",
   "metadata": {},
   "outputs": [],
   "source": [
    "# View first 6 rows of the dataset \n",
    "\n",
    "head(df)"
   ]
  },
  {
   "cell_type": "code",
   "execution_count": null,
   "id": "dccc80fb-23df-431d-b364-db008d69df65",
   "metadata": {},
   "outputs": [],
   "source": [
    "# Get a summary of the dataset and its features \n",
    "\n",
    "summary(df)"
   ]
  },
  {
   "cell_type": "markdown",
   "id": "d6bd1754-fc26-41ec-bf64-e40a95437019",
   "metadata": {},
   "source": [
    "### Data visualisation - understanding the data"
   ]
  },
  {
   "cell_type": "code",
   "execution_count": null,
   "id": "b3e07ae7-057f-4490-8f03-cd0c3550d11d",
   "metadata": {},
   "outputs": [],
   "source": [
    "# Create a correlation table across all attributes \n",
    "\n",
    "library(RColorBrewer); options(repr.plot.height=10); my_colors=colorRampPalette(brewer.pal(5, \"Spectral\"))(100)\n",
    "data = cor(df[,c(0:31)],use=\"complete.obs\")\n",
    "plotcorr(main = \"Correlation Table\", data, col=my_colors[data*50+50], mar = c(0,0,0,0), cex.lab=0.7, type = \"upper\" , diag=FALSE)"
   ]
  },
  {
   "cell_type": "code",
   "execution_count": 51,
   "id": "336c1b3d-a4c4-490e-8a18-c4677d257be0",
   "metadata": {},
   "outputs": [
    {
     "ename": "ERROR",
     "evalue": "Error in cbind(Time, V1, V2, V3, V4, V5, V6, V7, V8, V9, V10, V11, V12, : object 'Time' not found\n",
     "output_type": "error",
     "traceback": [
      "Error in cbind(Time, V1, V2, V3, V4, V5, V6, V7, V8, V9, V10, V11, V12, : object 'Time' not found\nTraceback:\n",
      "1. aggregate(cbind(Time, V1, V2, V3, V4, V5, V6, V7, V8, V9, V10, \n .     V11, V12, V13, V14, V15, V16, V17, V18, V19, V20, V21, V22, \n .     V23, V24, V25, V26, V27, V28, Amount) ~ Class, data = df, \n .     FUN = mean)",
      "2. aggregate.formula(cbind(Time, V1, V2, V3, V4, V5, V6, V7, V8, \n .     V9, V10, V11, V12, V13, V14, V15, V16, V17, V18, V19, V20, \n .     V21, V22, V23, V24, V25, V26, V27, V28, Amount) ~ Class, \n .     data = df, FUN = mean)",
      "3. eval(m, parent.frame())",
      "4. eval(m, parent.frame())",
      "5. stats::model.frame(formula = cbind(Time, V1, V2, V3, V4, V5, \n .     V6, V7, V8, V9, V10, V11, V12, V13, V14, V15, V16, V17, V18, \n .     V19, V20, V21, V22, V23, V24, V25, V26, V27, V28, Amount) ~ \n .     Class, data = df)",
      "6. model.frame.default(formula = cbind(Time, V1, V2, V3, V4, V5, \n .     V6, V7, V8, V9, V10, V11, V12, V13, V14, V15, V16, V17, V18, \n .     V19, V20, V21, V22, V23, V24, V25, V26, V27, V28, Amount) ~ \n .     Class, data = df)",
      "7. eval(predvars, data, env)",
      "8. eval(predvars, data, env)",
      "9. cbind(Time, V1, V2, V3, V4, V5, V6, V7, V8, V9, V10, V11, V12, \n .     V13, V14, V15, V16, V17, V18, V19, V20, V21, V22, V23, V24, \n .     V25, V26, V27, V28, Amount)"
     ]
    }
   ],
   "source": [
    "# Create an aggregation table for all the attributes\n",
    "\n",
    "aggregate(cbind(Time, V1, V2, V3, V4, V5, V6, V7, V8, V9, V10, \n",
    "                V11, V12, V13, V14, V15, V16, V17, V18, V19, V20, \n",
    "                V21, V22, V23, V24, V25, V26, V27, V28, Amount) ~ Class, \n",
    "                   data = df, \n",
    "                   FUN = mean)"
   ]
  },
  {
   "cell_type": "code",
   "execution_count": null,
   "id": "33f4563c-d720-4446-b673-a4133ae3ad4d",
   "metadata": {},
   "outputs": [],
   "source": [
    "# Create an aggreation table for known attribute names \n",
    "\n",
    "aggregate(cbind(Time, Amount) ~ Class, \n",
    "                   data = df, \n",
    "                   FUN = mean)"
   ]
  },
  {
   "cell_type": "code",
   "execution_count": null,
   "id": "241c0100-ff3c-4464-a8f6-0564b065efc0",
   "metadata": {},
   "outputs": [],
   "source": [
    "# Create an aggreagtion table for thoes variables most correlated with Class\n",
    "# Derived from the correlation table \n",
    "\n",
    "aggregate(cbind(V11, V12, V14, V17) ~ Class, \n",
    "                   data = df, \n",
    "                   FUN = mean)"
   ]
  },
  {
   "cell_type": "code",
   "execution_count": 4,
   "id": "7ffbd97f-1a3a-448b-a568-9c4ed06010fa",
   "metadata": {},
   "outputs": [
    {
     "data": {
      "text/plain": [
       "\n",
       "         0          1 \n",
       "99.8272514  0.1727486 "
      ]
     },
     "metadata": {},
     "output_type": "display_data"
    }
   ],
   "source": [
    "# Determine the distribution between classes \n",
    "# Given as counts \n",
    "# summary(df$Class)\n",
    "\n",
    "# Given as a percentage \n",
    "prop.table(table(df$Class))*100"
   ]
  },
  {
   "cell_type": "code",
   "execution_count": 5,
   "id": "746f51e9-e46e-4206-b59e-78f9c052315e",
   "metadata": {},
   "outputs": [],
   "source": [
    "# For all graphs/ plots in R \n",
    "# Create a function to determine fig size \n",
    "\n",
    "fig <- function(width, heigth){\n",
    "     options(repr.plot.width = width, repr.plot.height = heigth)\n",
    "}"
   ]
  },
  {
   "cell_type": "code",
   "execution_count": 6,
   "id": "9ea23247-6dc2-4c41-8bde-223e65563d52",
   "metadata": {},
   "outputs": [],
   "source": [
    "# Convert Class to factor for following visualisations \n",
    "\n",
    "df$Class<-as.factor(df$Class)"
   ]
  },
  {
   "cell_type": "code",
   "execution_count": null,
   "id": "d995a22b-9fc7-48a3-a9dd-585724d78140",
   "metadata": {},
   "outputs": [],
   "source": [
    "# Visualise the Class distribution \n",
    "# Create a box chart \n",
    "\n",
    "fig(12, 8)\n",
    "common_theme <- theme(plot.title = element_text(hjust = 0.5, face = \"bold\"))\n",
    "\n",
    "ggplot(data = df, aes(x = Class, \n",
    "                          y = prop.table(stat(count)), fill = Class,\n",
    "                          label = scales::percent(prop.table(stat(count))))) +\n",
    "    geom_bar(position = \"dodge\") + \n",
    "    geom_text(stat = 'count',\n",
    "              position = position_dodge(.9), \n",
    "              vjust = -0.5, \n",
    "              size = 3) + \n",
    "    scale_x_discrete(labels = c(\"non-fraud\", \"fraud\"))+\n",
    "    scale_y_continuous(labels = scales::percent)+\n",
    "    labs(x = 'Class', y = 'Percentage') +\n",
    "    ggtitle(\"Distribution of class labels\") +\n",
    "    common_theme"
   ]
  },
  {
   "cell_type": "code",
   "execution_count": null,
   "id": "919c1b5f-8f69-41aa-9728-5b62daeb7a3f",
   "metadata": {},
   "outputs": [],
   "source": [
    "# Create a scatter graph \n",
    "# Show the relationship between two variables correlated with Class and 'Class'\n",
    "# Chosen variables: V11 and V14\n",
    "\n",
    "ggplot(data = df, aes(x = V11, y = V14, colour = Class))+\n",
    "  geom_point()+\n",
    "    ggtitle(\"V11 and V14 feature relationship\")+\n",
    "    xlab(\"V11\")+\n",
    "    ylab(\"V14\")+\n",
    "    geom_point() +\n",
    "    xlim(-5, 15)+\n",
    "    ylim(-50, 50)+\n",
    "    theme(panel.grid.major = element_blank(),\n",
    "          panel.grid.minor = element_blank(),\n",
    "          panel.background = element_blank(), \n",
    "          legend.key=element_blank())"
   ]
  },
  {
   "cell_type": "code",
   "execution_count": 8,
   "id": "73c800e0-98dd-45cb-b13c-338e6e05552f",
   "metadata": {},
   "outputs": [
    {
     "data": {
      "text/html": [
       "<table class=\"dataframe\">\n",
       "<caption>A data.frame: 6 × 32</caption>\n",
       "<thead>\n",
       "\t<tr><th></th><th scope=col>Time</th><th scope=col>V1</th><th scope=col>V2</th><th scope=col>V3</th><th scope=col>V4</th><th scope=col>V5</th><th scope=col>V6</th><th scope=col>V7</th><th scope=col>V8</th><th scope=col>V9</th><th scope=col>⋯</th><th scope=col>V22</th><th scope=col>V23</th><th scope=col>V24</th><th scope=col>V25</th><th scope=col>V26</th><th scope=col>V27</th><th scope=col>V28</th><th scope=col>Amount</th><th scope=col>Class</th><th scope=col>hour_of_day</th></tr>\n",
       "\t<tr><th></th><th scope=col>&lt;dbl&gt;</th><th scope=col>&lt;dbl&gt;</th><th scope=col>&lt;dbl&gt;</th><th scope=col>&lt;dbl&gt;</th><th scope=col>&lt;dbl&gt;</th><th scope=col>&lt;dbl&gt;</th><th scope=col>&lt;dbl&gt;</th><th scope=col>&lt;dbl&gt;</th><th scope=col>&lt;dbl&gt;</th><th scope=col>&lt;dbl&gt;</th><th scope=col>⋯</th><th scope=col>&lt;dbl&gt;</th><th scope=col>&lt;dbl&gt;</th><th scope=col>&lt;dbl&gt;</th><th scope=col>&lt;dbl&gt;</th><th scope=col>&lt;dbl&gt;</th><th scope=col>&lt;dbl&gt;</th><th scope=col>&lt;dbl&gt;</th><th scope=col>&lt;dbl&gt;</th><th scope=col>&lt;fct&gt;</th><th scope=col>&lt;dbl&gt;</th></tr>\n",
       "</thead>\n",
       "<tbody>\n",
       "\t<tr><th scope=row>1</th><td>0</td><td>-1.3598071</td><td>-0.07278117</td><td>2.5363467</td><td> 1.3781552</td><td>-0.33832077</td><td> 0.46238778</td><td> 0.23959855</td><td> 0.09869790</td><td> 0.3637870</td><td>⋯</td><td> 0.277837576</td><td>-0.11047391</td><td> 0.06692807</td><td> 0.1285394</td><td>-0.1891148</td><td> 0.133558377</td><td>-0.02105305</td><td>149.62</td><td>0</td><td>0.0000000000</td></tr>\n",
       "\t<tr><th scope=row>2</th><td>0</td><td> 1.1918571</td><td> 0.26615071</td><td>0.1664801</td><td> 0.4481541</td><td> 0.06001765</td><td>-0.08236081</td><td>-0.07880298</td><td> 0.08510165</td><td>-0.2554251</td><td>⋯</td><td>-0.638671953</td><td> 0.10128802</td><td>-0.33984648</td><td> 0.1671704</td><td> 0.1258945</td><td>-0.008983099</td><td> 0.01472417</td><td>  2.69</td><td>0</td><td>0.0000000000</td></tr>\n",
       "\t<tr><th scope=row>3</th><td>1</td><td>-1.3583541</td><td>-1.34016307</td><td>1.7732093</td><td> 0.3797796</td><td>-0.50319813</td><td> 1.80049938</td><td> 0.79146096</td><td> 0.24767579</td><td>-1.5146543</td><td>⋯</td><td> 0.771679402</td><td> 0.90941226</td><td>-0.68928096</td><td>-0.3276418</td><td>-0.1390966</td><td>-0.055352794</td><td>-0.05975184</td><td>378.66</td><td>0</td><td>0.0002777778</td></tr>\n",
       "\t<tr><th scope=row>4</th><td>1</td><td>-0.9662717</td><td>-0.18522601</td><td>1.7929933</td><td>-0.8632913</td><td>-0.01030888</td><td> 1.24720317</td><td> 0.23760894</td><td> 0.37743587</td><td>-1.3870241</td><td>⋯</td><td> 0.005273597</td><td>-0.19032052</td><td>-1.17557533</td><td> 0.6473760</td><td>-0.2219288</td><td> 0.062722849</td><td> 0.06145763</td><td>123.50</td><td>0</td><td>0.0002777778</td></tr>\n",
       "\t<tr><th scope=row>5</th><td>2</td><td>-1.1582331</td><td> 0.87773675</td><td>1.5487178</td><td> 0.4030339</td><td>-0.40719338</td><td> 0.09592146</td><td> 0.59294075</td><td>-0.27053268</td><td> 0.8177393</td><td>⋯</td><td> 0.798278495</td><td>-0.13745808</td><td> 0.14126698</td><td>-0.2060096</td><td> 0.5022922</td><td> 0.219422230</td><td> 0.21515315</td><td> 69.99</td><td>0</td><td>0.0005555556</td></tr>\n",
       "\t<tr><th scope=row>6</th><td>2</td><td>-0.4259659</td><td> 0.96052304</td><td>1.1411093</td><td>-0.1682521</td><td> 0.42098688</td><td>-0.02972755</td><td> 0.47620095</td><td> 0.26031433</td><td>-0.5686714</td><td>⋯</td><td>-0.559824796</td><td>-0.02639767</td><td>-0.37142658</td><td>-0.2327938</td><td> 0.1059148</td><td> 0.253844225</td><td> 0.08108026</td><td>  3.67</td><td>0</td><td>0.0005555556</td></tr>\n",
       "</tbody>\n",
       "</table>\n"
      ],
      "text/latex": [
       "A data.frame: 6 × 32\n",
       "\\begin{tabular}{r|lllllllllllllllllllll}\n",
       "  & Time & V1 & V2 & V3 & V4 & V5 & V6 & V7 & V8 & V9 & ⋯ & V22 & V23 & V24 & V25 & V26 & V27 & V28 & Amount & Class & hour\\_of\\_day\\\\\n",
       "  & <dbl> & <dbl> & <dbl> & <dbl> & <dbl> & <dbl> & <dbl> & <dbl> & <dbl> & <dbl> & ⋯ & <dbl> & <dbl> & <dbl> & <dbl> & <dbl> & <dbl> & <dbl> & <dbl> & <fct> & <dbl>\\\\\n",
       "\\hline\n",
       "\t1 & 0 & -1.3598071 & -0.07278117 & 2.5363467 &  1.3781552 & -0.33832077 &  0.46238778 &  0.23959855 &  0.09869790 &  0.3637870 & ⋯ &  0.277837576 & -0.11047391 &  0.06692807 &  0.1285394 & -0.1891148 &  0.133558377 & -0.02105305 & 149.62 & 0 & 0.0000000000\\\\\n",
       "\t2 & 0 &  1.1918571 &  0.26615071 & 0.1664801 &  0.4481541 &  0.06001765 & -0.08236081 & -0.07880298 &  0.08510165 & -0.2554251 & ⋯ & -0.638671953 &  0.10128802 & -0.33984648 &  0.1671704 &  0.1258945 & -0.008983099 &  0.01472417 &   2.69 & 0 & 0.0000000000\\\\\n",
       "\t3 & 1 & -1.3583541 & -1.34016307 & 1.7732093 &  0.3797796 & -0.50319813 &  1.80049938 &  0.79146096 &  0.24767579 & -1.5146543 & ⋯ &  0.771679402 &  0.90941226 & -0.68928096 & -0.3276418 & -0.1390966 & -0.055352794 & -0.05975184 & 378.66 & 0 & 0.0002777778\\\\\n",
       "\t4 & 1 & -0.9662717 & -0.18522601 & 1.7929933 & -0.8632913 & -0.01030888 &  1.24720317 &  0.23760894 &  0.37743587 & -1.3870241 & ⋯ &  0.005273597 & -0.19032052 & -1.17557533 &  0.6473760 & -0.2219288 &  0.062722849 &  0.06145763 & 123.50 & 0 & 0.0002777778\\\\\n",
       "\t5 & 2 & -1.1582331 &  0.87773675 & 1.5487178 &  0.4030339 & -0.40719338 &  0.09592146 &  0.59294075 & -0.27053268 &  0.8177393 & ⋯ &  0.798278495 & -0.13745808 &  0.14126698 & -0.2060096 &  0.5022922 &  0.219422230 &  0.21515315 &  69.99 & 0 & 0.0005555556\\\\\n",
       "\t6 & 2 & -0.4259659 &  0.96052304 & 1.1411093 & -0.1682521 &  0.42098688 & -0.02972755 &  0.47620095 &  0.26031433 & -0.5686714 & ⋯ & -0.559824796 & -0.02639767 & -0.37142658 & -0.2327938 &  0.1059148 &  0.253844225 &  0.08108026 &   3.67 & 0 & 0.0005555556\\\\\n",
       "\\end{tabular}\n"
      ],
      "text/markdown": [
       "\n",
       "A data.frame: 6 × 32\n",
       "\n",
       "| <!--/--> | Time &lt;dbl&gt; | V1 &lt;dbl&gt; | V2 &lt;dbl&gt; | V3 &lt;dbl&gt; | V4 &lt;dbl&gt; | V5 &lt;dbl&gt; | V6 &lt;dbl&gt; | V7 &lt;dbl&gt; | V8 &lt;dbl&gt; | V9 &lt;dbl&gt; | ⋯ ⋯ | V22 &lt;dbl&gt; | V23 &lt;dbl&gt; | V24 &lt;dbl&gt; | V25 &lt;dbl&gt; | V26 &lt;dbl&gt; | V27 &lt;dbl&gt; | V28 &lt;dbl&gt; | Amount &lt;dbl&gt; | Class &lt;fct&gt; | hour_of_day &lt;dbl&gt; |\n",
       "|---|---|---|---|---|---|---|---|---|---|---|---|---|---|---|---|---|---|---|---|---|---|\n",
       "| 1 | 0 | -1.3598071 | -0.07278117 | 2.5363467 |  1.3781552 | -0.33832077 |  0.46238778 |  0.23959855 |  0.09869790 |  0.3637870 | ⋯ |  0.277837576 | -0.11047391 |  0.06692807 |  0.1285394 | -0.1891148 |  0.133558377 | -0.02105305 | 149.62 | 0 | 0.0000000000 |\n",
       "| 2 | 0 |  1.1918571 |  0.26615071 | 0.1664801 |  0.4481541 |  0.06001765 | -0.08236081 | -0.07880298 |  0.08510165 | -0.2554251 | ⋯ | -0.638671953 |  0.10128802 | -0.33984648 |  0.1671704 |  0.1258945 | -0.008983099 |  0.01472417 |   2.69 | 0 | 0.0000000000 |\n",
       "| 3 | 1 | -1.3583541 | -1.34016307 | 1.7732093 |  0.3797796 | -0.50319813 |  1.80049938 |  0.79146096 |  0.24767579 | -1.5146543 | ⋯ |  0.771679402 |  0.90941226 | -0.68928096 | -0.3276418 | -0.1390966 | -0.055352794 | -0.05975184 | 378.66 | 0 | 0.0002777778 |\n",
       "| 4 | 1 | -0.9662717 | -0.18522601 | 1.7929933 | -0.8632913 | -0.01030888 |  1.24720317 |  0.23760894 |  0.37743587 | -1.3870241 | ⋯ |  0.005273597 | -0.19032052 | -1.17557533 |  0.6473760 | -0.2219288 |  0.062722849 |  0.06145763 | 123.50 | 0 | 0.0002777778 |\n",
       "| 5 | 2 | -1.1582331 |  0.87773675 | 1.5487178 |  0.4030339 | -0.40719338 |  0.09592146 |  0.59294075 | -0.27053268 |  0.8177393 | ⋯ |  0.798278495 | -0.13745808 |  0.14126698 | -0.2060096 |  0.5022922 |  0.219422230 |  0.21515315 |  69.99 | 0 | 0.0005555556 |\n",
       "| 6 | 2 | -0.4259659 |  0.96052304 | 1.1411093 | -0.1682521 |  0.42098688 | -0.02972755 |  0.47620095 |  0.26031433 | -0.5686714 | ⋯ | -0.559824796 | -0.02639767 | -0.37142658 | -0.2327938 |  0.1059148 |  0.253844225 |  0.08108026 |   3.67 | 0 | 0.0005555556 |\n",
       "\n"
      ],
      "text/plain": [
       "  Time V1         V2          V3        V4         V5          V6         \n",
       "1 0    -1.3598071 -0.07278117 2.5363467  1.3781552 -0.33832077  0.46238778\n",
       "2 0     1.1918571  0.26615071 0.1664801  0.4481541  0.06001765 -0.08236081\n",
       "3 1    -1.3583541 -1.34016307 1.7732093  0.3797796 -0.50319813  1.80049938\n",
       "4 1    -0.9662717 -0.18522601 1.7929933 -0.8632913 -0.01030888  1.24720317\n",
       "5 2    -1.1582331  0.87773675 1.5487178  0.4030339 -0.40719338  0.09592146\n",
       "6 2    -0.4259659  0.96052304 1.1411093 -0.1682521  0.42098688 -0.02972755\n",
       "  V7          V8          V9         ⋯ V22          V23         V24        \n",
       "1  0.23959855  0.09869790  0.3637870 ⋯  0.277837576 -0.11047391  0.06692807\n",
       "2 -0.07880298  0.08510165 -0.2554251 ⋯ -0.638671953  0.10128802 -0.33984648\n",
       "3  0.79146096  0.24767579 -1.5146543 ⋯  0.771679402  0.90941226 -0.68928096\n",
       "4  0.23760894  0.37743587 -1.3870241 ⋯  0.005273597 -0.19032052 -1.17557533\n",
       "5  0.59294075 -0.27053268  0.8177393 ⋯  0.798278495 -0.13745808  0.14126698\n",
       "6  0.47620095  0.26031433 -0.5686714 ⋯ -0.559824796 -0.02639767 -0.37142658\n",
       "  V25        V26        V27          V28         Amount Class hour_of_day \n",
       "1  0.1285394 -0.1891148  0.133558377 -0.02105305 149.62 0     0.0000000000\n",
       "2  0.1671704  0.1258945 -0.008983099  0.01472417   2.69 0     0.0000000000\n",
       "3 -0.3276418 -0.1390966 -0.055352794 -0.05975184 378.66 0     0.0002777778\n",
       "4  0.6473760 -0.2219288  0.062722849  0.06145763 123.50 0     0.0002777778\n",
       "5 -0.2060096  0.5022922  0.219422230  0.21515315  69.99 0     0.0005555556\n",
       "6 -0.2327938  0.1059148  0.253844225  0.08108026   3.67 0     0.0005555556"
      ]
     },
     "metadata": {},
     "output_type": "display_data"
    }
   ],
   "source": [
    "# Derive new attribute for hour of the day \n",
    "# Convert to hours, then reduce mod 24 \n",
    "\n",
    "df$hour_of_day <- (df$Time/3600) %% 24 \n",
    "head(df)"
   ]
  },
  {
   "cell_type": "code",
   "execution_count": null,
   "id": "eee05e39-f45c-4404-8922-cd62e1e732a7",
   "metadata": {},
   "outputs": [],
   "source": [
    "# Create a graph to model the relationship between transaction at hour of day and class density \n",
    "\n",
    "ggplot(df, aes(x = hour_of_day, fill = Class)) +\n",
    "  geom_density(alpha = 0.4) + \n",
    "  scale_x_continuous(limits = c(0, 24), breaks = seq(0, 24, 2)) + \n",
    "  labs(title = \"Engineered Feature - Hour of Day\", \n",
    "       x = \"Hour of Day\", \n",
    "       y = \"Density\", \n",
    "       col = \"Class\") + \n",
    "  scale_fill_discrete(labels = c(\"Non-Fraud\", \"Fraud\"))"
   ]
  },
  {
   "cell_type": "code",
   "execution_count": 9,
   "id": "ced3ad2f-1a2f-457e-b4d6-8734f0e4ead4",
   "metadata": {},
   "outputs": [
    {
     "data": {
      "text/html": [
       "<table class=\"dataframe\">\n",
       "<caption>A data.frame: 6 × 31</caption>\n",
       "<thead>\n",
       "\t<tr><th></th><th scope=col>V1</th><th scope=col>V2</th><th scope=col>V3</th><th scope=col>V4</th><th scope=col>V5</th><th scope=col>V6</th><th scope=col>V7</th><th scope=col>V8</th><th scope=col>V9</th><th scope=col>V10</th><th scope=col>⋯</th><th scope=col>V22</th><th scope=col>V23</th><th scope=col>V24</th><th scope=col>V25</th><th scope=col>V26</th><th scope=col>V27</th><th scope=col>V28</th><th scope=col>Amount</th><th scope=col>Class</th><th scope=col>hour_of_day</th></tr>\n",
       "\t<tr><th></th><th scope=col>&lt;dbl&gt;</th><th scope=col>&lt;dbl&gt;</th><th scope=col>&lt;dbl&gt;</th><th scope=col>&lt;dbl&gt;</th><th scope=col>&lt;dbl&gt;</th><th scope=col>&lt;dbl&gt;</th><th scope=col>&lt;dbl&gt;</th><th scope=col>&lt;dbl&gt;</th><th scope=col>&lt;dbl&gt;</th><th scope=col>&lt;dbl&gt;</th><th scope=col>⋯</th><th scope=col>&lt;dbl&gt;</th><th scope=col>&lt;dbl&gt;</th><th scope=col>&lt;dbl&gt;</th><th scope=col>&lt;dbl&gt;</th><th scope=col>&lt;dbl&gt;</th><th scope=col>&lt;dbl&gt;</th><th scope=col>&lt;dbl&gt;</th><th scope=col>&lt;dbl&gt;</th><th scope=col>&lt;fct&gt;</th><th scope=col>&lt;dbl&gt;</th></tr>\n",
       "</thead>\n",
       "<tbody>\n",
       "\t<tr><th scope=row>1</th><td>-1.3598071</td><td>-0.07278117</td><td>2.5363467</td><td> 1.3781552</td><td>-0.33832077</td><td> 0.46238778</td><td> 0.23959855</td><td> 0.09869790</td><td> 0.3637870</td><td> 0.09079417</td><td>⋯</td><td> 0.277837576</td><td>-0.11047391</td><td> 0.06692807</td><td> 0.1285394</td><td>-0.1891148</td><td> 0.133558377</td><td>-0.02105305</td><td>149.62</td><td>0</td><td>0.0000000000</td></tr>\n",
       "\t<tr><th scope=row>2</th><td> 1.1918571</td><td> 0.26615071</td><td>0.1664801</td><td> 0.4481541</td><td> 0.06001765</td><td>-0.08236081</td><td>-0.07880298</td><td> 0.08510165</td><td>-0.2554251</td><td>-0.16697441</td><td>⋯</td><td>-0.638671953</td><td> 0.10128802</td><td>-0.33984648</td><td> 0.1671704</td><td> 0.1258945</td><td>-0.008983099</td><td> 0.01472417</td><td>  2.69</td><td>0</td><td>0.0000000000</td></tr>\n",
       "\t<tr><th scope=row>3</th><td>-1.3583541</td><td>-1.34016307</td><td>1.7732093</td><td> 0.3797796</td><td>-0.50319813</td><td> 1.80049938</td><td> 0.79146096</td><td> 0.24767579</td><td>-1.5146543</td><td> 0.20764287</td><td>⋯</td><td> 0.771679402</td><td> 0.90941226</td><td>-0.68928096</td><td>-0.3276418</td><td>-0.1390966</td><td>-0.055352794</td><td>-0.05975184</td><td>378.66</td><td>0</td><td>0.0002777778</td></tr>\n",
       "\t<tr><th scope=row>4</th><td>-0.9662717</td><td>-0.18522601</td><td>1.7929933</td><td>-0.8632913</td><td>-0.01030888</td><td> 1.24720317</td><td> 0.23760894</td><td> 0.37743587</td><td>-1.3870241</td><td>-0.05495192</td><td>⋯</td><td> 0.005273597</td><td>-0.19032052</td><td>-1.17557533</td><td> 0.6473760</td><td>-0.2219288</td><td> 0.062722849</td><td> 0.06145763</td><td>123.50</td><td>0</td><td>0.0002777778</td></tr>\n",
       "\t<tr><th scope=row>5</th><td>-1.1582331</td><td> 0.87773675</td><td>1.5487178</td><td> 0.4030339</td><td>-0.40719338</td><td> 0.09592146</td><td> 0.59294075</td><td>-0.27053268</td><td> 0.8177393</td><td> 0.75307443</td><td>⋯</td><td> 0.798278495</td><td>-0.13745808</td><td> 0.14126698</td><td>-0.2060096</td><td> 0.5022922</td><td> 0.219422230</td><td> 0.21515315</td><td> 69.99</td><td>0</td><td>0.0005555556</td></tr>\n",
       "\t<tr><th scope=row>6</th><td>-0.4259659</td><td> 0.96052304</td><td>1.1411093</td><td>-0.1682521</td><td> 0.42098688</td><td>-0.02972755</td><td> 0.47620095</td><td> 0.26031433</td><td>-0.5686714</td><td>-0.37140720</td><td>⋯</td><td>-0.559824796</td><td>-0.02639767</td><td>-0.37142658</td><td>-0.2327938</td><td> 0.1059148</td><td> 0.253844225</td><td> 0.08108026</td><td>  3.67</td><td>0</td><td>0.0005555556</td></tr>\n",
       "</tbody>\n",
       "</table>\n"
      ],
      "text/latex": [
       "A data.frame: 6 × 31\n",
       "\\begin{tabular}{r|lllllllllllllllllllll}\n",
       "  & V1 & V2 & V3 & V4 & V5 & V6 & V7 & V8 & V9 & V10 & ⋯ & V22 & V23 & V24 & V25 & V26 & V27 & V28 & Amount & Class & hour\\_of\\_day\\\\\n",
       "  & <dbl> & <dbl> & <dbl> & <dbl> & <dbl> & <dbl> & <dbl> & <dbl> & <dbl> & <dbl> & ⋯ & <dbl> & <dbl> & <dbl> & <dbl> & <dbl> & <dbl> & <dbl> & <dbl> & <fct> & <dbl>\\\\\n",
       "\\hline\n",
       "\t1 & -1.3598071 & -0.07278117 & 2.5363467 &  1.3781552 & -0.33832077 &  0.46238778 &  0.23959855 &  0.09869790 &  0.3637870 &  0.09079417 & ⋯ &  0.277837576 & -0.11047391 &  0.06692807 &  0.1285394 & -0.1891148 &  0.133558377 & -0.02105305 & 149.62 & 0 & 0.0000000000\\\\\n",
       "\t2 &  1.1918571 &  0.26615071 & 0.1664801 &  0.4481541 &  0.06001765 & -0.08236081 & -0.07880298 &  0.08510165 & -0.2554251 & -0.16697441 & ⋯ & -0.638671953 &  0.10128802 & -0.33984648 &  0.1671704 &  0.1258945 & -0.008983099 &  0.01472417 &   2.69 & 0 & 0.0000000000\\\\\n",
       "\t3 & -1.3583541 & -1.34016307 & 1.7732093 &  0.3797796 & -0.50319813 &  1.80049938 &  0.79146096 &  0.24767579 & -1.5146543 &  0.20764287 & ⋯ &  0.771679402 &  0.90941226 & -0.68928096 & -0.3276418 & -0.1390966 & -0.055352794 & -0.05975184 & 378.66 & 0 & 0.0002777778\\\\\n",
       "\t4 & -0.9662717 & -0.18522601 & 1.7929933 & -0.8632913 & -0.01030888 &  1.24720317 &  0.23760894 &  0.37743587 & -1.3870241 & -0.05495192 & ⋯ &  0.005273597 & -0.19032052 & -1.17557533 &  0.6473760 & -0.2219288 &  0.062722849 &  0.06145763 & 123.50 & 0 & 0.0002777778\\\\\n",
       "\t5 & -1.1582331 &  0.87773675 & 1.5487178 &  0.4030339 & -0.40719338 &  0.09592146 &  0.59294075 & -0.27053268 &  0.8177393 &  0.75307443 & ⋯ &  0.798278495 & -0.13745808 &  0.14126698 & -0.2060096 &  0.5022922 &  0.219422230 &  0.21515315 &  69.99 & 0 & 0.0005555556\\\\\n",
       "\t6 & -0.4259659 &  0.96052304 & 1.1411093 & -0.1682521 &  0.42098688 & -0.02972755 &  0.47620095 &  0.26031433 & -0.5686714 & -0.37140720 & ⋯ & -0.559824796 & -0.02639767 & -0.37142658 & -0.2327938 &  0.1059148 &  0.253844225 &  0.08108026 &   3.67 & 0 & 0.0005555556\\\\\n",
       "\\end{tabular}\n"
      ],
      "text/markdown": [
       "\n",
       "A data.frame: 6 × 31\n",
       "\n",
       "| <!--/--> | V1 &lt;dbl&gt; | V2 &lt;dbl&gt; | V3 &lt;dbl&gt; | V4 &lt;dbl&gt; | V5 &lt;dbl&gt; | V6 &lt;dbl&gt; | V7 &lt;dbl&gt; | V8 &lt;dbl&gt; | V9 &lt;dbl&gt; | V10 &lt;dbl&gt; | ⋯ ⋯ | V22 &lt;dbl&gt; | V23 &lt;dbl&gt; | V24 &lt;dbl&gt; | V25 &lt;dbl&gt; | V26 &lt;dbl&gt; | V27 &lt;dbl&gt; | V28 &lt;dbl&gt; | Amount &lt;dbl&gt; | Class &lt;fct&gt; | hour_of_day &lt;dbl&gt; |\n",
       "|---|---|---|---|---|---|---|---|---|---|---|---|---|---|---|---|---|---|---|---|---|---|\n",
       "| 1 | -1.3598071 | -0.07278117 | 2.5363467 |  1.3781552 | -0.33832077 |  0.46238778 |  0.23959855 |  0.09869790 |  0.3637870 |  0.09079417 | ⋯ |  0.277837576 | -0.11047391 |  0.06692807 |  0.1285394 | -0.1891148 |  0.133558377 | -0.02105305 | 149.62 | 0 | 0.0000000000 |\n",
       "| 2 |  1.1918571 |  0.26615071 | 0.1664801 |  0.4481541 |  0.06001765 | -0.08236081 | -0.07880298 |  0.08510165 | -0.2554251 | -0.16697441 | ⋯ | -0.638671953 |  0.10128802 | -0.33984648 |  0.1671704 |  0.1258945 | -0.008983099 |  0.01472417 |   2.69 | 0 | 0.0000000000 |\n",
       "| 3 | -1.3583541 | -1.34016307 | 1.7732093 |  0.3797796 | -0.50319813 |  1.80049938 |  0.79146096 |  0.24767579 | -1.5146543 |  0.20764287 | ⋯ |  0.771679402 |  0.90941226 | -0.68928096 | -0.3276418 | -0.1390966 | -0.055352794 | -0.05975184 | 378.66 | 0 | 0.0002777778 |\n",
       "| 4 | -0.9662717 | -0.18522601 | 1.7929933 | -0.8632913 | -0.01030888 |  1.24720317 |  0.23760894 |  0.37743587 | -1.3870241 | -0.05495192 | ⋯ |  0.005273597 | -0.19032052 | -1.17557533 |  0.6473760 | -0.2219288 |  0.062722849 |  0.06145763 | 123.50 | 0 | 0.0002777778 |\n",
       "| 5 | -1.1582331 |  0.87773675 | 1.5487178 |  0.4030339 | -0.40719338 |  0.09592146 |  0.59294075 | -0.27053268 |  0.8177393 |  0.75307443 | ⋯ |  0.798278495 | -0.13745808 |  0.14126698 | -0.2060096 |  0.5022922 |  0.219422230 |  0.21515315 |  69.99 | 0 | 0.0005555556 |\n",
       "| 6 | -0.4259659 |  0.96052304 | 1.1411093 | -0.1682521 |  0.42098688 | -0.02972755 |  0.47620095 |  0.26031433 | -0.5686714 | -0.37140720 | ⋯ | -0.559824796 | -0.02639767 | -0.37142658 | -0.2327938 |  0.1059148 |  0.253844225 |  0.08108026 |   3.67 | 0 | 0.0005555556 |\n",
       "\n"
      ],
      "text/plain": [
       "  V1         V2          V3        V4         V5          V6         \n",
       "1 -1.3598071 -0.07278117 2.5363467  1.3781552 -0.33832077  0.46238778\n",
       "2  1.1918571  0.26615071 0.1664801  0.4481541  0.06001765 -0.08236081\n",
       "3 -1.3583541 -1.34016307 1.7732093  0.3797796 -0.50319813  1.80049938\n",
       "4 -0.9662717 -0.18522601 1.7929933 -0.8632913 -0.01030888  1.24720317\n",
       "5 -1.1582331  0.87773675 1.5487178  0.4030339 -0.40719338  0.09592146\n",
       "6 -0.4259659  0.96052304 1.1411093 -0.1682521  0.42098688 -0.02972755\n",
       "  V7          V8          V9         V10         ⋯ V22          V23        \n",
       "1  0.23959855  0.09869790  0.3637870  0.09079417 ⋯  0.277837576 -0.11047391\n",
       "2 -0.07880298  0.08510165 -0.2554251 -0.16697441 ⋯ -0.638671953  0.10128802\n",
       "3  0.79146096  0.24767579 -1.5146543  0.20764287 ⋯  0.771679402  0.90941226\n",
       "4  0.23760894  0.37743587 -1.3870241 -0.05495192 ⋯  0.005273597 -0.19032052\n",
       "5  0.59294075 -0.27053268  0.8177393  0.75307443 ⋯  0.798278495 -0.13745808\n",
       "6  0.47620095  0.26031433 -0.5686714 -0.37140720 ⋯ -0.559824796 -0.02639767\n",
       "  V24         V25        V26        V27          V28         Amount Class\n",
       "1  0.06692807  0.1285394 -0.1891148  0.133558377 -0.02105305 149.62 0    \n",
       "2 -0.33984648  0.1671704  0.1258945 -0.008983099  0.01472417   2.69 0    \n",
       "3 -0.68928096 -0.3276418 -0.1390966 -0.055352794 -0.05975184 378.66 0    \n",
       "4 -1.17557533  0.6473760 -0.2219288  0.062722849  0.06145763 123.50 0    \n",
       "5  0.14126698 -0.2060096  0.5022922  0.219422230  0.21515315  69.99 0    \n",
       "6 -0.37142658 -0.2327938  0.1059148  0.253844225  0.08108026   3.67 0    \n",
       "  hour_of_day \n",
       "1 0.0000000000\n",
       "2 0.0000000000\n",
       "3 0.0002777778\n",
       "4 0.0002777778\n",
       "5 0.0005555556\n",
       "6 0.0005555556"
      ]
     },
     "metadata": {},
     "output_type": "display_data"
    }
   ],
   "source": [
    "# Drop the variable Time \n",
    "\n",
    "df$Time <- NULL\n",
    "head(df)"
   ]
  },
  {
   "cell_type": "code",
   "execution_count": 12,
   "id": "089aa73e-b250-4684-a90d-46afd8d5affc",
   "metadata": {},
   "outputs": [
    {
     "data": {
      "text/html": [
       "<table class=\"dataframe\">\n",
       "<caption>A data.frame: 2 × 3</caption>\n",
       "<thead>\n",
       "\t<tr><th scope=col>Class</th><th scope=col>hour_of_day</th><th scope=col>Amount</th></tr>\n",
       "\t<tr><th scope=col>&lt;fct&gt;</th><th scope=col>&lt;dbl&gt;</th><th scope=col>&lt;dbl&gt;</th></tr>\n",
       "</thead>\n",
       "<tbody>\n",
       "\t<tr><td>0</td><td>14.54211</td><td> 88.29102</td></tr>\n",
       "\t<tr><td>1</td><td>12.13699</td><td>122.21132</td></tr>\n",
       "</tbody>\n",
       "</table>\n"
      ],
      "text/latex": [
       "A data.frame: 2 × 3\n",
       "\\begin{tabular}{lll}\n",
       " Class & hour\\_of\\_day & Amount\\\\\n",
       " <fct> & <dbl> & <dbl>\\\\\n",
       "\\hline\n",
       "\t 0 & 14.54211 &  88.29102\\\\\n",
       "\t 1 & 12.13699 & 122.21132\\\\\n",
       "\\end{tabular}\n"
      ],
      "text/markdown": [
       "\n",
       "A data.frame: 2 × 3\n",
       "\n",
       "| Class &lt;fct&gt; | hour_of_day &lt;dbl&gt; | Amount &lt;dbl&gt; |\n",
       "|---|---|---|\n",
       "| 0 | 14.54211 |  88.29102 |\n",
       "| 1 | 12.13699 | 122.21132 |\n",
       "\n"
      ],
      "text/plain": [
       "  Class hour_of_day Amount   \n",
       "1 0     14.54211     88.29102\n",
       "2 1     12.13699    122.21132"
      ]
     },
     "metadata": {},
     "output_type": "display_data"
    }
   ],
   "source": [
    "# Recreate aggregation table with hour_of_day variable instead of Time\n",
    "\n",
    "aggregate(cbind(hour_of_day, Amount) ~ Class, \n",
    "                   data = df, \n",
    "                   FUN = mean)"
   ]
  },
  {
   "cell_type": "code",
   "execution_count": null,
   "id": "a596b547-67c1-4872-a044-7c0b8bab207f",
   "metadata": {},
   "outputs": [],
   "source": [
    "# Create a graph to model the relationship between transaction amountand class density\n",
    "\n",
    "ggplot(df, aes(x = Amount, fill = Class)) +\n",
    "  geom_density(alpha = 0.4) +\n",
    "  scale_x_continuous(limits = c(0, 500), breaks = seq(0, 500, 100)) + \n",
    "  labs(title = \"Transaction Amount\", \n",
    "       x = \"Amount\", \n",
    "       y = \"Density\", \n",
    "       col = \"Class\") + \n",
    "  scale_fill_discrete(labels = c(\"Non-Fraud\", \"Fraud\"))"
   ]
  },
  {
   "cell_type": "markdown",
   "id": "47193e3f-1fd3-4b73-912a-c1b47d989ffd",
   "metadata": {},
   "source": [
    "### Data preprocessing - data preparation"
   ]
  },
  {
   "cell_type": "markdown",
   "id": "95a39ab7-177d-4c55-9ad0-f4b5e0ce6cdb",
   "metadata": {},
   "source": [
    "For the visualisations, the hour_of_day variable has already been added in and the 'Time' variable has been removed "
   ]
  },
  {
   "cell_type": "code",
   "execution_count": 10,
   "id": "5a9b32e9-564b-4ca6-9086-2e038eae92dd",
   "metadata": {},
   "outputs": [
    {
     "data": {
      "text/html": [
       "<table class=\"dataframe\">\n",
       "<caption>A data.frame: 6 × 32</caption>\n",
       "<thead>\n",
       "\t<tr><th></th><th scope=col>trans_ID</th><th scope=col>V1</th><th scope=col>V2</th><th scope=col>V3</th><th scope=col>V4</th><th scope=col>V5</th><th scope=col>V6</th><th scope=col>V7</th><th scope=col>V8</th><th scope=col>V9</th><th scope=col>⋯</th><th scope=col>V22</th><th scope=col>V23</th><th scope=col>V24</th><th scope=col>V25</th><th scope=col>V26</th><th scope=col>V27</th><th scope=col>V28</th><th scope=col>Amount</th><th scope=col>Class</th><th scope=col>hour_of_day</th></tr>\n",
       "\t<tr><th></th><th scope=col>&lt;int&gt;</th><th scope=col>&lt;dbl&gt;</th><th scope=col>&lt;dbl&gt;</th><th scope=col>&lt;dbl&gt;</th><th scope=col>&lt;dbl&gt;</th><th scope=col>&lt;dbl&gt;</th><th scope=col>&lt;dbl&gt;</th><th scope=col>&lt;dbl&gt;</th><th scope=col>&lt;dbl&gt;</th><th scope=col>&lt;dbl&gt;</th><th scope=col>⋯</th><th scope=col>&lt;dbl&gt;</th><th scope=col>&lt;dbl&gt;</th><th scope=col>&lt;dbl&gt;</th><th scope=col>&lt;dbl&gt;</th><th scope=col>&lt;dbl&gt;</th><th scope=col>&lt;dbl&gt;</th><th scope=col>&lt;dbl&gt;</th><th scope=col>&lt;dbl&gt;</th><th scope=col>&lt;fct&gt;</th><th scope=col>&lt;dbl&gt;</th></tr>\n",
       "</thead>\n",
       "<tbody>\n",
       "\t<tr><th scope=row>1</th><td>1</td><td>-1.3598071</td><td>-0.07278117</td><td>2.5363467</td><td> 1.3781552</td><td>-0.33832077</td><td> 0.46238778</td><td> 0.23959855</td><td> 0.09869790</td><td> 0.3637870</td><td>⋯</td><td> 0.277837576</td><td>-0.11047391</td><td> 0.06692807</td><td> 0.1285394</td><td>-0.1891148</td><td> 0.133558377</td><td>-0.02105305</td><td>149.62</td><td>0</td><td>0.0000000000</td></tr>\n",
       "\t<tr><th scope=row>2</th><td>2</td><td> 1.1918571</td><td> 0.26615071</td><td>0.1664801</td><td> 0.4481541</td><td> 0.06001765</td><td>-0.08236081</td><td>-0.07880298</td><td> 0.08510165</td><td>-0.2554251</td><td>⋯</td><td>-0.638671953</td><td> 0.10128802</td><td>-0.33984648</td><td> 0.1671704</td><td> 0.1258945</td><td>-0.008983099</td><td> 0.01472417</td><td>  2.69</td><td>0</td><td>0.0000000000</td></tr>\n",
       "\t<tr><th scope=row>3</th><td>3</td><td>-1.3583541</td><td>-1.34016307</td><td>1.7732093</td><td> 0.3797796</td><td>-0.50319813</td><td> 1.80049938</td><td> 0.79146096</td><td> 0.24767579</td><td>-1.5146543</td><td>⋯</td><td> 0.771679402</td><td> 0.90941226</td><td>-0.68928096</td><td>-0.3276418</td><td>-0.1390966</td><td>-0.055352794</td><td>-0.05975184</td><td>378.66</td><td>0</td><td>0.0002777778</td></tr>\n",
       "\t<tr><th scope=row>4</th><td>4</td><td>-0.9662717</td><td>-0.18522601</td><td>1.7929933</td><td>-0.8632913</td><td>-0.01030888</td><td> 1.24720317</td><td> 0.23760894</td><td> 0.37743587</td><td>-1.3870241</td><td>⋯</td><td> 0.005273597</td><td>-0.19032052</td><td>-1.17557533</td><td> 0.6473760</td><td>-0.2219288</td><td> 0.062722849</td><td> 0.06145763</td><td>123.50</td><td>0</td><td>0.0002777778</td></tr>\n",
       "\t<tr><th scope=row>5</th><td>5</td><td>-1.1582331</td><td> 0.87773675</td><td>1.5487178</td><td> 0.4030339</td><td>-0.40719338</td><td> 0.09592146</td><td> 0.59294075</td><td>-0.27053268</td><td> 0.8177393</td><td>⋯</td><td> 0.798278495</td><td>-0.13745808</td><td> 0.14126698</td><td>-0.2060096</td><td> 0.5022922</td><td> 0.219422230</td><td> 0.21515315</td><td> 69.99</td><td>0</td><td>0.0005555556</td></tr>\n",
       "\t<tr><th scope=row>6</th><td>6</td><td>-0.4259659</td><td> 0.96052304</td><td>1.1411093</td><td>-0.1682521</td><td> 0.42098688</td><td>-0.02972755</td><td> 0.47620095</td><td> 0.26031433</td><td>-0.5686714</td><td>⋯</td><td>-0.559824796</td><td>-0.02639767</td><td>-0.37142658</td><td>-0.2327938</td><td> 0.1059148</td><td> 0.253844225</td><td> 0.08108026</td><td>  3.67</td><td>0</td><td>0.0005555556</td></tr>\n",
       "</tbody>\n",
       "</table>\n"
      ],
      "text/latex": [
       "A data.frame: 6 × 32\n",
       "\\begin{tabular}{r|lllllllllllllllllllll}\n",
       "  & trans\\_ID & V1 & V2 & V3 & V4 & V5 & V6 & V7 & V8 & V9 & ⋯ & V22 & V23 & V24 & V25 & V26 & V27 & V28 & Amount & Class & hour\\_of\\_day\\\\\n",
       "  & <int> & <dbl> & <dbl> & <dbl> & <dbl> & <dbl> & <dbl> & <dbl> & <dbl> & <dbl> & ⋯ & <dbl> & <dbl> & <dbl> & <dbl> & <dbl> & <dbl> & <dbl> & <dbl> & <fct> & <dbl>\\\\\n",
       "\\hline\n",
       "\t1 & 1 & -1.3598071 & -0.07278117 & 2.5363467 &  1.3781552 & -0.33832077 &  0.46238778 &  0.23959855 &  0.09869790 &  0.3637870 & ⋯ &  0.277837576 & -0.11047391 &  0.06692807 &  0.1285394 & -0.1891148 &  0.133558377 & -0.02105305 & 149.62 & 0 & 0.0000000000\\\\\n",
       "\t2 & 2 &  1.1918571 &  0.26615071 & 0.1664801 &  0.4481541 &  0.06001765 & -0.08236081 & -0.07880298 &  0.08510165 & -0.2554251 & ⋯ & -0.638671953 &  0.10128802 & -0.33984648 &  0.1671704 &  0.1258945 & -0.008983099 &  0.01472417 &   2.69 & 0 & 0.0000000000\\\\\n",
       "\t3 & 3 & -1.3583541 & -1.34016307 & 1.7732093 &  0.3797796 & -0.50319813 &  1.80049938 &  0.79146096 &  0.24767579 & -1.5146543 & ⋯ &  0.771679402 &  0.90941226 & -0.68928096 & -0.3276418 & -0.1390966 & -0.055352794 & -0.05975184 & 378.66 & 0 & 0.0002777778\\\\\n",
       "\t4 & 4 & -0.9662717 & -0.18522601 & 1.7929933 & -0.8632913 & -0.01030888 &  1.24720317 &  0.23760894 &  0.37743587 & -1.3870241 & ⋯ &  0.005273597 & -0.19032052 & -1.17557533 &  0.6473760 & -0.2219288 &  0.062722849 &  0.06145763 & 123.50 & 0 & 0.0002777778\\\\\n",
       "\t5 & 5 & -1.1582331 &  0.87773675 & 1.5487178 &  0.4030339 & -0.40719338 &  0.09592146 &  0.59294075 & -0.27053268 &  0.8177393 & ⋯ &  0.798278495 & -0.13745808 &  0.14126698 & -0.2060096 &  0.5022922 &  0.219422230 &  0.21515315 &  69.99 & 0 & 0.0005555556\\\\\n",
       "\t6 & 6 & -0.4259659 &  0.96052304 & 1.1411093 & -0.1682521 &  0.42098688 & -0.02972755 &  0.47620095 &  0.26031433 & -0.5686714 & ⋯ & -0.559824796 & -0.02639767 & -0.37142658 & -0.2327938 &  0.1059148 &  0.253844225 &  0.08108026 &   3.67 & 0 & 0.0005555556\\\\\n",
       "\\end{tabular}\n"
      ],
      "text/markdown": [
       "\n",
       "A data.frame: 6 × 32\n",
       "\n",
       "| <!--/--> | trans_ID &lt;int&gt; | V1 &lt;dbl&gt; | V2 &lt;dbl&gt; | V3 &lt;dbl&gt; | V4 &lt;dbl&gt; | V5 &lt;dbl&gt; | V6 &lt;dbl&gt; | V7 &lt;dbl&gt; | V8 &lt;dbl&gt; | V9 &lt;dbl&gt; | ⋯ ⋯ | V22 &lt;dbl&gt; | V23 &lt;dbl&gt; | V24 &lt;dbl&gt; | V25 &lt;dbl&gt; | V26 &lt;dbl&gt; | V27 &lt;dbl&gt; | V28 &lt;dbl&gt; | Amount &lt;dbl&gt; | Class &lt;fct&gt; | hour_of_day &lt;dbl&gt; |\n",
       "|---|---|---|---|---|---|---|---|---|---|---|---|---|---|---|---|---|---|---|---|---|---|\n",
       "| 1 | 1 | -1.3598071 | -0.07278117 | 2.5363467 |  1.3781552 | -0.33832077 |  0.46238778 |  0.23959855 |  0.09869790 |  0.3637870 | ⋯ |  0.277837576 | -0.11047391 |  0.06692807 |  0.1285394 | -0.1891148 |  0.133558377 | -0.02105305 | 149.62 | 0 | 0.0000000000 |\n",
       "| 2 | 2 |  1.1918571 |  0.26615071 | 0.1664801 |  0.4481541 |  0.06001765 | -0.08236081 | -0.07880298 |  0.08510165 | -0.2554251 | ⋯ | -0.638671953 |  0.10128802 | -0.33984648 |  0.1671704 |  0.1258945 | -0.008983099 |  0.01472417 |   2.69 | 0 | 0.0000000000 |\n",
       "| 3 | 3 | -1.3583541 | -1.34016307 | 1.7732093 |  0.3797796 | -0.50319813 |  1.80049938 |  0.79146096 |  0.24767579 | -1.5146543 | ⋯ |  0.771679402 |  0.90941226 | -0.68928096 | -0.3276418 | -0.1390966 | -0.055352794 | -0.05975184 | 378.66 | 0 | 0.0002777778 |\n",
       "| 4 | 4 | -0.9662717 | -0.18522601 | 1.7929933 | -0.8632913 | -0.01030888 |  1.24720317 |  0.23760894 |  0.37743587 | -1.3870241 | ⋯ |  0.005273597 | -0.19032052 | -1.17557533 |  0.6473760 | -0.2219288 |  0.062722849 |  0.06145763 | 123.50 | 0 | 0.0002777778 |\n",
       "| 5 | 5 | -1.1582331 |  0.87773675 | 1.5487178 |  0.4030339 | -0.40719338 |  0.09592146 |  0.59294075 | -0.27053268 |  0.8177393 | ⋯ |  0.798278495 | -0.13745808 |  0.14126698 | -0.2060096 |  0.5022922 |  0.219422230 |  0.21515315 |  69.99 | 0 | 0.0005555556 |\n",
       "| 6 | 6 | -0.4259659 |  0.96052304 | 1.1411093 | -0.1682521 |  0.42098688 | -0.02972755 |  0.47620095 |  0.26031433 | -0.5686714 | ⋯ | -0.559824796 | -0.02639767 | -0.37142658 | -0.2327938 |  0.1059148 |  0.253844225 |  0.08108026 |   3.67 | 0 | 0.0005555556 |\n",
       "\n"
      ],
      "text/plain": [
       "  trans_ID V1         V2          V3        V4         V5          V6         \n",
       "1 1        -1.3598071 -0.07278117 2.5363467  1.3781552 -0.33832077  0.46238778\n",
       "2 2         1.1918571  0.26615071 0.1664801  0.4481541  0.06001765 -0.08236081\n",
       "3 3        -1.3583541 -1.34016307 1.7732093  0.3797796 -0.50319813  1.80049938\n",
       "4 4        -0.9662717 -0.18522601 1.7929933 -0.8632913 -0.01030888  1.24720317\n",
       "5 5        -1.1582331  0.87773675 1.5487178  0.4030339 -0.40719338  0.09592146\n",
       "6 6        -0.4259659  0.96052304 1.1411093 -0.1682521  0.42098688 -0.02972755\n",
       "  V7          V8          V9         ⋯ V22          V23         V24        \n",
       "1  0.23959855  0.09869790  0.3637870 ⋯  0.277837576 -0.11047391  0.06692807\n",
       "2 -0.07880298  0.08510165 -0.2554251 ⋯ -0.638671953  0.10128802 -0.33984648\n",
       "3  0.79146096  0.24767579 -1.5146543 ⋯  0.771679402  0.90941226 -0.68928096\n",
       "4  0.23760894  0.37743587 -1.3870241 ⋯  0.005273597 -0.19032052 -1.17557533\n",
       "5  0.59294075 -0.27053268  0.8177393 ⋯  0.798278495 -0.13745808  0.14126698\n",
       "6  0.47620095  0.26031433 -0.5686714 ⋯ -0.559824796 -0.02639767 -0.37142658\n",
       "  V25        V26        V27          V28         Amount Class hour_of_day \n",
       "1  0.1285394 -0.1891148  0.133558377 -0.02105305 149.62 0     0.0000000000\n",
       "2  0.1671704  0.1258945 -0.008983099  0.01472417   2.69 0     0.0000000000\n",
       "3 -0.3276418 -0.1390966 -0.055352794 -0.05975184 378.66 0     0.0002777778\n",
       "4  0.6473760 -0.2219288  0.062722849  0.06145763 123.50 0     0.0002777778\n",
       "5 -0.2060096  0.5022922  0.219422230  0.21515315  69.99 0     0.0005555556\n",
       "6 -0.2327938  0.1059148  0.253844225  0.08108026   3.67 0     0.0005555556"
      ]
     },
     "metadata": {},
     "output_type": "display_data"
    }
   ],
   "source": [
    "# Add in a new column called transaction ID\n",
    "\n",
    "trans_ID <- seq.int(nrow(df))\n",
    "ID_df <- cbind(trans_ID, df)\n",
    "head(ID_df)"
   ]
  },
  {
   "cell_type": "code",
   "execution_count": 11,
   "id": "9ee954ca-e19a-4f67-94e5-b51a71c743e6",
   "metadata": {},
   "outputs": [
    {
     "data": {
      "text/html": [
       "<style>\n",
       ".dl-inline {width: auto; margin:0; padding: 0}\n",
       ".dl-inline>dt, .dl-inline>dd {float: none; width: auto; display: inline-block}\n",
       ".dl-inline>dt::after {content: \":\\0020\"; padding-right: .5ex}\n",
       ".dl-inline>dt:not(:first-of-type) {padding-left: .5ex}\n",
       "</style><dl class=dl-inline><dt>V1</dt><dd>0</dd><dt>V2</dt><dd>0</dd><dt>V3</dt><dd>0</dd><dt>V4</dt><dd>0</dd><dt>V5</dt><dd>0</dd><dt>V6</dt><dd>0</dd><dt>V7</dt><dd>0</dd><dt>V8</dt><dd>0</dd><dt>V9</dt><dd>0</dd><dt>V10</dt><dd>0</dd><dt>V11</dt><dd>0</dd><dt>V12</dt><dd>0</dd><dt>V13</dt><dd>0</dd><dt>V14</dt><dd>0</dd><dt>V15</dt><dd>0</dd><dt>V16</dt><dd>0</dd><dt>V17</dt><dd>0</dd><dt>V18</dt><dd>0</dd><dt>V19</dt><dd>0</dd><dt>V20</dt><dd>0</dd><dt>V21</dt><dd>0</dd><dt>V22</dt><dd>0</dd><dt>V23</dt><dd>0</dd><dt>V24</dt><dd>0</dd><dt>V25</dt><dd>0</dd><dt>V26</dt><dd>0</dd><dt>V27</dt><dd>0</dd><dt>V28</dt><dd>0</dd><dt>Amount</dt><dd>0</dd><dt>Class</dt><dd>0</dd><dt>hour_of_day</dt><dd>0</dd></dl>\n"
      ],
      "text/latex": [
       "\\begin{description*}\n",
       "\\item[V1] 0\n",
       "\\item[V2] 0\n",
       "\\item[V3] 0\n",
       "\\item[V4] 0\n",
       "\\item[V5] 0\n",
       "\\item[V6] 0\n",
       "\\item[V7] 0\n",
       "\\item[V8] 0\n",
       "\\item[V9] 0\n",
       "\\item[V10] 0\n",
       "\\item[V11] 0\n",
       "\\item[V12] 0\n",
       "\\item[V13] 0\n",
       "\\item[V14] 0\n",
       "\\item[V15] 0\n",
       "\\item[V16] 0\n",
       "\\item[V17] 0\n",
       "\\item[V18] 0\n",
       "\\item[V19] 0\n",
       "\\item[V20] 0\n",
       "\\item[V21] 0\n",
       "\\item[V22] 0\n",
       "\\item[V23] 0\n",
       "\\item[V24] 0\n",
       "\\item[V25] 0\n",
       "\\item[V26] 0\n",
       "\\item[V27] 0\n",
       "\\item[V28] 0\n",
       "\\item[Amount] 0\n",
       "\\item[Class] 0\n",
       "\\item[hour\\textbackslash{}\\_of\\textbackslash{}\\_day] 0\n",
       "\\end{description*}\n"
      ],
      "text/markdown": [
       "V1\n",
       ":   0V2\n",
       ":   0V3\n",
       ":   0V4\n",
       ":   0V5\n",
       ":   0V6\n",
       ":   0V7\n",
       ":   0V8\n",
       ":   0V9\n",
       ":   0V10\n",
       ":   0V11\n",
       ":   0V12\n",
       ":   0V13\n",
       ":   0V14\n",
       ":   0V15\n",
       ":   0V16\n",
       ":   0V17\n",
       ":   0V18\n",
       ":   0V19\n",
       ":   0V20\n",
       ":   0V21\n",
       ":   0V22\n",
       ":   0V23\n",
       ":   0V24\n",
       ":   0V25\n",
       ":   0V26\n",
       ":   0V27\n",
       ":   0V28\n",
       ":   0Amount\n",
       ":   0Class\n",
       ":   0hour_of_day\n",
       ":   0\n",
       "\n"
      ],
      "text/plain": [
       "         V1          V2          V3          V4          V5          V6 \n",
       "          0           0           0           0           0           0 \n",
       "         V7          V8          V9         V10         V11         V12 \n",
       "          0           0           0           0           0           0 \n",
       "        V13         V14         V15         V16         V17         V18 \n",
       "          0           0           0           0           0           0 \n",
       "        V19         V20         V21         V22         V23         V24 \n",
       "          0           0           0           0           0           0 \n",
       "        V25         V26         V27         V28      Amount       Class \n",
       "          0           0           0           0           0           0 \n",
       "hour_of_day \n",
       "          0 "
      ]
     },
     "metadata": {},
     "output_type": "display_data"
    }
   ],
   "source": [
    "# Check for missing values \n",
    "\n",
    "countNAs <- function(v){\n",
    "    sum(ifelse(is.na(v)|v == \"\",1,0))\n",
    "}\n",
    "\n",
    "df.countNAs <- sapply(df, countNAs)\n",
    "df.countNAs"
   ]
  },
  {
   "cell_type": "markdown",
   "id": "64165d02-7848-4e67-9f61-2ee57fd7dc36",
   "metadata": {},
   "source": [
    "#### Training and testing dataframes "
   ]
  },
  {
   "cell_type": "code",
   "execution_count": 13,
   "id": "5285fe36-d5cb-4f97-814d-acc072124365",
   "metadata": {},
   "outputs": [],
   "source": [
    "# Split into training and testing dataframes \n",
    "\n",
    "# Get the total numer of rows in the data set.\n",
    "nrow <- nrow(ID_df)\n",
    "\n",
    "# Use 75% of the data to train the model (training set)\n",
    "train_nrow <- round(0.75*nrow)\n",
    "\n",
    "# The remaining 25% of the data is the test dataframe\n",
    "test_nrow <- nrow - train_nrow\n",
    "\n",
    "# Suppose we would like to randomly split the data\n",
    "set.seed(200)\n",
    "\n",
    "# Generate row numbers of the training set\n",
    "train_nrow_indice <- sample(1:nrow, size = train_nrow, replace = FALSE) \n",
    "\n",
    "# Set up training and testing set\n",
    "train_df <- ID_df[train_nrow_indice, ]\n",
    "test_df <- ID_df[-train_nrow_indice, ]"
   ]
  },
  {
   "cell_type": "code",
   "execution_count": 14,
   "id": "fcc07915-133c-4acc-be92-60cbe80cf067",
   "metadata": {},
   "outputs": [
    {
     "data": {
      "text/html": [
       "<table class=\"dataframe\">\n",
       "<caption>A data.frame: 6 × 32</caption>\n",
       "<thead>\n",
       "\t<tr><th></th><th scope=col>trans_ID</th><th scope=col>V1</th><th scope=col>V2</th><th scope=col>V3</th><th scope=col>V4</th><th scope=col>V5</th><th scope=col>V6</th><th scope=col>V7</th><th scope=col>V8</th><th scope=col>V9</th><th scope=col>⋯</th><th scope=col>V22</th><th scope=col>V23</th><th scope=col>V24</th><th scope=col>V25</th><th scope=col>V26</th><th scope=col>V27</th><th scope=col>V28</th><th scope=col>Amount</th><th scope=col>Class</th><th scope=col>hour_of_day</th></tr>\n",
       "\t<tr><th></th><th scope=col>&lt;int&gt;</th><th scope=col>&lt;dbl&gt;</th><th scope=col>&lt;dbl&gt;</th><th scope=col>&lt;dbl&gt;</th><th scope=col>&lt;dbl&gt;</th><th scope=col>&lt;dbl&gt;</th><th scope=col>&lt;dbl&gt;</th><th scope=col>&lt;dbl&gt;</th><th scope=col>&lt;dbl&gt;</th><th scope=col>&lt;dbl&gt;</th><th scope=col>⋯</th><th scope=col>&lt;dbl&gt;</th><th scope=col>&lt;dbl&gt;</th><th scope=col>&lt;dbl&gt;</th><th scope=col>&lt;dbl&gt;</th><th scope=col>&lt;dbl&gt;</th><th scope=col>&lt;dbl&gt;</th><th scope=col>&lt;dbl&gt;</th><th scope=col>&lt;dbl&gt;</th><th scope=col>&lt;fct&gt;</th><th scope=col>&lt;dbl&gt;</th></tr>\n",
       "</thead>\n",
       "<tbody>\n",
       "\t<tr><th scope=row>202933</th><td>202933</td><td> 1.80792751</td><td>-0.5487806</td><td>-0.01156397</td><td> 1.2049067</td><td>-0.7128220</td><td> 0.4687032</td><td>-0.97677819</td><td> 0.4098968</td><td> 1.1662466</td><td>⋯</td><td> 0.243707949</td><td> 0.29857397</td><td> 0.6126873</td><td>-0.4428554</td><td>-0.80326897</td><td> 0.05410223</td><td>-0.02035903</td><td>45.00</td><td>0</td><td>13.377500</td></tr>\n",
       "\t<tr><th scope=row>80960</th><td> 80960</td><td>-0.73699566</td><td> 0.3226886</td><td> 0.62929389</td><td>-2.1351825</td><td> 2.2909686</td><td> 3.4138004</td><td>-0.12071883</td><td> 0.9785051</td><td>-0.3684557</td><td>⋯</td><td>-0.004409285</td><td>-0.32376590</td><td> 1.0697780</td><td> 0.4027476</td><td> 1.01149470</td><td>-0.04718015</td><td> 0.04807941</td><td>15.99</td><td>0</td><td>16.315833</td></tr>\n",
       "\t<tr><th scope=row>108086</th><td>108086</td><td> 1.14995864</td><td>-0.1324538</td><td> 0.71275158</td><td> 1.2701014</td><td> 0.1232046</td><td> 1.7205494</td><td>-0.59560764</td><td> 0.4519212</td><td> 0.9064632</td><td>⋯</td><td>-0.754591776</td><td>-0.10319772</td><td>-1.3151361</td><td> 0.6201323</td><td>-0.44529285</td><td> 0.09518854</td><td> 0.00570719</td><td> 2.00</td><td>0</td><td>19.654722</td></tr>\n",
       "\t<tr><th scope=row>173624</th><td>173624</td><td> 0.01008703</td><td> 1.0780044</td><td>-2.61608258</td><td>-1.1966260</td><td> 2.4694927</td><td> 4.2262361</td><td>-2.35356555</td><td>-4.3591558</td><td>-0.5516684</td><td>⋯</td><td>-0.382690684</td><td> 0.44854444</td><td> 0.5672803</td><td> 0.4114882</td><td> 0.22584208</td><td>-0.08074685</td><td> 0.15026846</td><td> 1.98</td><td>0</td><td> 9.769167</td></tr>\n",
       "\t<tr><th scope=row>151212</th><td>151212</td><td> 1.98003533</td><td>-0.1603852</td><td>-1.08371334</td><td> 0.8359983</td><td>-0.1179714</td><td>-1.0161389</td><td> 0.06713833</td><td>-0.3065004</td><td> 2.0824359</td><td>⋯</td><td>-0.846273155</td><td> 0.27180765</td><td>-0.1819399</td><td>-0.2511117</td><td> 0.06528868</td><td>-0.10047603</td><td>-0.06509980</td><td>39.99</td><td>0</td><td> 2.389167</td></tr>\n",
       "\t<tr><th scope=row>238966</th><td>238966</td><td>-1.19113206</td><td> 1.1564297</td><td> 0.22199884</td><td>-1.1866353</td><td>-0.4074988</td><td> 0.2862609</td><td>-0.80473627</td><td> 0.3161654</td><td> 0.2559681</td><td>⋯</td><td>-0.867600351</td><td> 0.06578257</td><td>-1.1136194</td><td>-0.1092968</td><td>-0.22622155</td><td>-0.33230280</td><td>-0.13200589</td><td> 0.77</td><td>0</td><td>17.638333</td></tr>\n",
       "</tbody>\n",
       "</table>\n"
      ],
      "text/latex": [
       "A data.frame: 6 × 32\n",
       "\\begin{tabular}{r|lllllllllllllllllllll}\n",
       "  & trans\\_ID & V1 & V2 & V3 & V4 & V5 & V6 & V7 & V8 & V9 & ⋯ & V22 & V23 & V24 & V25 & V26 & V27 & V28 & Amount & Class & hour\\_of\\_day\\\\\n",
       "  & <int> & <dbl> & <dbl> & <dbl> & <dbl> & <dbl> & <dbl> & <dbl> & <dbl> & <dbl> & ⋯ & <dbl> & <dbl> & <dbl> & <dbl> & <dbl> & <dbl> & <dbl> & <dbl> & <fct> & <dbl>\\\\\n",
       "\\hline\n",
       "\t202933 & 202933 &  1.80792751 & -0.5487806 & -0.01156397 &  1.2049067 & -0.7128220 &  0.4687032 & -0.97677819 &  0.4098968 &  1.1662466 & ⋯ &  0.243707949 &  0.29857397 &  0.6126873 & -0.4428554 & -0.80326897 &  0.05410223 & -0.02035903 & 45.00 & 0 & 13.377500\\\\\n",
       "\t80960 &  80960 & -0.73699566 &  0.3226886 &  0.62929389 & -2.1351825 &  2.2909686 &  3.4138004 & -0.12071883 &  0.9785051 & -0.3684557 & ⋯ & -0.004409285 & -0.32376590 &  1.0697780 &  0.4027476 &  1.01149470 & -0.04718015 &  0.04807941 & 15.99 & 0 & 16.315833\\\\\n",
       "\t108086 & 108086 &  1.14995864 & -0.1324538 &  0.71275158 &  1.2701014 &  0.1232046 &  1.7205494 & -0.59560764 &  0.4519212 &  0.9064632 & ⋯ & -0.754591776 & -0.10319772 & -1.3151361 &  0.6201323 & -0.44529285 &  0.09518854 &  0.00570719 &  2.00 & 0 & 19.654722\\\\\n",
       "\t173624 & 173624 &  0.01008703 &  1.0780044 & -2.61608258 & -1.1966260 &  2.4694927 &  4.2262361 & -2.35356555 & -4.3591558 & -0.5516684 & ⋯ & -0.382690684 &  0.44854444 &  0.5672803 &  0.4114882 &  0.22584208 & -0.08074685 &  0.15026846 &  1.98 & 0 &  9.769167\\\\\n",
       "\t151212 & 151212 &  1.98003533 & -0.1603852 & -1.08371334 &  0.8359983 & -0.1179714 & -1.0161389 &  0.06713833 & -0.3065004 &  2.0824359 & ⋯ & -0.846273155 &  0.27180765 & -0.1819399 & -0.2511117 &  0.06528868 & -0.10047603 & -0.06509980 & 39.99 & 0 &  2.389167\\\\\n",
       "\t238966 & 238966 & -1.19113206 &  1.1564297 &  0.22199884 & -1.1866353 & -0.4074988 &  0.2862609 & -0.80473627 &  0.3161654 &  0.2559681 & ⋯ & -0.867600351 &  0.06578257 & -1.1136194 & -0.1092968 & -0.22622155 & -0.33230280 & -0.13200589 &  0.77 & 0 & 17.638333\\\\\n",
       "\\end{tabular}\n"
      ],
      "text/markdown": [
       "\n",
       "A data.frame: 6 × 32\n",
       "\n",
       "| <!--/--> | trans_ID &lt;int&gt; | V1 &lt;dbl&gt; | V2 &lt;dbl&gt; | V3 &lt;dbl&gt; | V4 &lt;dbl&gt; | V5 &lt;dbl&gt; | V6 &lt;dbl&gt; | V7 &lt;dbl&gt; | V8 &lt;dbl&gt; | V9 &lt;dbl&gt; | ⋯ ⋯ | V22 &lt;dbl&gt; | V23 &lt;dbl&gt; | V24 &lt;dbl&gt; | V25 &lt;dbl&gt; | V26 &lt;dbl&gt; | V27 &lt;dbl&gt; | V28 &lt;dbl&gt; | Amount &lt;dbl&gt; | Class &lt;fct&gt; | hour_of_day &lt;dbl&gt; |\n",
       "|---|---|---|---|---|---|---|---|---|---|---|---|---|---|---|---|---|---|---|---|---|---|\n",
       "| 202933 | 202933 |  1.80792751 | -0.5487806 | -0.01156397 |  1.2049067 | -0.7128220 |  0.4687032 | -0.97677819 |  0.4098968 |  1.1662466 | ⋯ |  0.243707949 |  0.29857397 |  0.6126873 | -0.4428554 | -0.80326897 |  0.05410223 | -0.02035903 | 45.00 | 0 | 13.377500 |\n",
       "| 80960 |  80960 | -0.73699566 |  0.3226886 |  0.62929389 | -2.1351825 |  2.2909686 |  3.4138004 | -0.12071883 |  0.9785051 | -0.3684557 | ⋯ | -0.004409285 | -0.32376590 |  1.0697780 |  0.4027476 |  1.01149470 | -0.04718015 |  0.04807941 | 15.99 | 0 | 16.315833 |\n",
       "| 108086 | 108086 |  1.14995864 | -0.1324538 |  0.71275158 |  1.2701014 |  0.1232046 |  1.7205494 | -0.59560764 |  0.4519212 |  0.9064632 | ⋯ | -0.754591776 | -0.10319772 | -1.3151361 |  0.6201323 | -0.44529285 |  0.09518854 |  0.00570719 |  2.00 | 0 | 19.654722 |\n",
       "| 173624 | 173624 |  0.01008703 |  1.0780044 | -2.61608258 | -1.1966260 |  2.4694927 |  4.2262361 | -2.35356555 | -4.3591558 | -0.5516684 | ⋯ | -0.382690684 |  0.44854444 |  0.5672803 |  0.4114882 |  0.22584208 | -0.08074685 |  0.15026846 |  1.98 | 0 |  9.769167 |\n",
       "| 151212 | 151212 |  1.98003533 | -0.1603852 | -1.08371334 |  0.8359983 | -0.1179714 | -1.0161389 |  0.06713833 | -0.3065004 |  2.0824359 | ⋯ | -0.846273155 |  0.27180765 | -0.1819399 | -0.2511117 |  0.06528868 | -0.10047603 | -0.06509980 | 39.99 | 0 |  2.389167 |\n",
       "| 238966 | 238966 | -1.19113206 |  1.1564297 |  0.22199884 | -1.1866353 | -0.4074988 |  0.2862609 | -0.80473627 |  0.3161654 |  0.2559681 | ⋯ | -0.867600351 |  0.06578257 | -1.1136194 | -0.1092968 | -0.22622155 | -0.33230280 | -0.13200589 |  0.77 | 0 | 17.638333 |\n",
       "\n"
      ],
      "text/plain": [
       "       trans_ID V1          V2         V3          V4         V5        \n",
       "202933 202933    1.80792751 -0.5487806 -0.01156397  1.2049067 -0.7128220\n",
       "80960   80960   -0.73699566  0.3226886  0.62929389 -2.1351825  2.2909686\n",
       "108086 108086    1.14995864 -0.1324538  0.71275158  1.2701014  0.1232046\n",
       "173624 173624    0.01008703  1.0780044 -2.61608258 -1.1966260  2.4694927\n",
       "151212 151212    1.98003533 -0.1603852 -1.08371334  0.8359983 -0.1179714\n",
       "238966 238966   -1.19113206  1.1564297  0.22199884 -1.1866353 -0.4074988\n",
       "       V6         V7          V8         V9         ⋯ V22          V23        \n",
       "202933  0.4687032 -0.97677819  0.4098968  1.1662466 ⋯  0.243707949  0.29857397\n",
       "80960   3.4138004 -0.12071883  0.9785051 -0.3684557 ⋯ -0.004409285 -0.32376590\n",
       "108086  1.7205494 -0.59560764  0.4519212  0.9064632 ⋯ -0.754591776 -0.10319772\n",
       "173624  4.2262361 -2.35356555 -4.3591558 -0.5516684 ⋯ -0.382690684  0.44854444\n",
       "151212 -1.0161389  0.06713833 -0.3065004  2.0824359 ⋯ -0.846273155  0.27180765\n",
       "238966  0.2862609 -0.80473627  0.3161654  0.2559681 ⋯ -0.867600351  0.06578257\n",
       "       V24        V25        V26         V27         V28         Amount Class\n",
       "202933  0.6126873 -0.4428554 -0.80326897  0.05410223 -0.02035903 45.00  0    \n",
       "80960   1.0697780  0.4027476  1.01149470 -0.04718015  0.04807941 15.99  0    \n",
       "108086 -1.3151361  0.6201323 -0.44529285  0.09518854  0.00570719  2.00  0    \n",
       "173624  0.5672803  0.4114882  0.22584208 -0.08074685  0.15026846  1.98  0    \n",
       "151212 -0.1819399 -0.2511117  0.06528868 -0.10047603 -0.06509980 39.99  0    \n",
       "238966 -1.1136194 -0.1092968 -0.22622155 -0.33230280 -0.13200589  0.77  0    \n",
       "       hour_of_day\n",
       "202933 13.377500  \n",
       "80960  16.315833  \n",
       "108086 19.654722  \n",
       "173624  9.769167  \n",
       "151212  2.389167  \n",
       "238966 17.638333  "
      ]
     },
     "metadata": {},
     "output_type": "display_data"
    }
   ],
   "source": [
    "# View first 6 rows of training dataframe \n",
    "\n",
    "head(train_df)"
   ]
  },
  {
   "cell_type": "code",
   "execution_count": 15,
   "id": "4b0f69bc-e32e-48b0-8fda-c46c2f0c6d47",
   "metadata": {},
   "outputs": [
    {
     "data": {
      "text/html": [
       "<table class=\"dataframe\">\n",
       "<caption>A data.frame: 6 × 32</caption>\n",
       "<thead>\n",
       "\t<tr><th></th><th scope=col>trans_ID</th><th scope=col>V1</th><th scope=col>V2</th><th scope=col>V3</th><th scope=col>V4</th><th scope=col>V5</th><th scope=col>V6</th><th scope=col>V7</th><th scope=col>V8</th><th scope=col>V9</th><th scope=col>⋯</th><th scope=col>V22</th><th scope=col>V23</th><th scope=col>V24</th><th scope=col>V25</th><th scope=col>V26</th><th scope=col>V27</th><th scope=col>V28</th><th scope=col>Amount</th><th scope=col>Class</th><th scope=col>hour_of_day</th></tr>\n",
       "\t<tr><th></th><th scope=col>&lt;int&gt;</th><th scope=col>&lt;dbl&gt;</th><th scope=col>&lt;dbl&gt;</th><th scope=col>&lt;dbl&gt;</th><th scope=col>&lt;dbl&gt;</th><th scope=col>&lt;dbl&gt;</th><th scope=col>&lt;dbl&gt;</th><th scope=col>&lt;dbl&gt;</th><th scope=col>&lt;dbl&gt;</th><th scope=col>&lt;dbl&gt;</th><th scope=col>⋯</th><th scope=col>&lt;dbl&gt;</th><th scope=col>&lt;dbl&gt;</th><th scope=col>&lt;dbl&gt;</th><th scope=col>&lt;dbl&gt;</th><th scope=col>&lt;dbl&gt;</th><th scope=col>&lt;dbl&gt;</th><th scope=col>&lt;dbl&gt;</th><th scope=col>&lt;dbl&gt;</th><th scope=col>&lt;fct&gt;</th><th scope=col>&lt;dbl&gt;</th></tr>\n",
       "</thead>\n",
       "<tbody>\n",
       "\t<tr><th scope=row>2</th><td> 2</td><td> 1.1918571</td><td> 0.26615071</td><td> 0.1664801</td><td> 0.4481541</td><td> 0.06001765</td><td>-0.08236081</td><td>-0.07880298</td><td> 0.08510165</td><td>-0.2554251</td><td>⋯</td><td>-0.6386720</td><td> 0.10128802</td><td>-0.33984648</td><td> 0.16717040</td><td> 0.12589453</td><td>-0.008983099</td><td> 0.01472417</td><td> 2.69</td><td>0</td><td>0.000000000</td></tr>\n",
       "\t<tr><th scope=row>10</th><td>10</td><td>-0.3382618</td><td> 1.11959338</td><td> 1.0443666</td><td>-0.2221873</td><td> 0.49936081</td><td>-0.24676110</td><td> 0.65158321</td><td> 0.06953859</td><td>-0.7367273</td><td>⋯</td><td>-0.6337526</td><td>-0.12079408</td><td>-0.38504993</td><td>-0.06973305</td><td> 0.09419883</td><td> 0.246219305</td><td> 0.08307565</td><td> 3.68</td><td>0</td><td>0.002500000</td></tr>\n",
       "\t<tr><th scope=row>15</th><td>15</td><td>-2.7918548</td><td>-0.32777076</td><td> 1.6417502</td><td> 1.7674727</td><td>-0.13658845</td><td> 0.80759647</td><td>-0.42291139</td><td>-1.90710748</td><td> 0.7557129</td><td>⋯</td><td> 0.2221820</td><td> 1.02058620</td><td> 0.02831665</td><td>-0.23274632</td><td>-0.23555722</td><td>-0.164777512</td><td>-0.03015364</td><td>58.80</td><td>0</td><td>0.003333333</td></tr>\n",
       "\t<tr><th scope=row>17</th><td>17</td><td> 1.1032154</td><td>-0.04029621</td><td> 1.2673321</td><td> 1.2890915</td><td>-0.73599716</td><td> 0.28806916</td><td>-0.58605679</td><td> 0.18937971</td><td> 0.7823329</td><td>⋯</td><td> 0.1960020</td><td> 0.01380165</td><td> 0.10375833</td><td> 0.36429754</td><td>-0.38226057</td><td> 0.092809187</td><td> 0.03705052</td><td>12.99</td><td>0</td><td>0.003333333</td></tr>\n",
       "\t<tr><th scope=row>18</th><td>18</td><td>-0.4369051</td><td> 0.91896621</td><td> 0.9245908</td><td>-0.7272191</td><td> 0.91567872</td><td>-0.12786735</td><td> 0.70764161</td><td> 0.08796236</td><td>-0.6652714</td><td>⋯</td><td>-0.6726380</td><td>-0.15685751</td><td>-0.88838632</td><td>-0.34241322</td><td>-0.04902673</td><td> 0.079692399</td><td> 0.13102379</td><td> 0.89</td><td>0</td><td>0.003611111</td></tr>\n",
       "\t<tr><th scope=row>25</th><td>25</td><td>-1.9465251</td><td>-0.04490051</td><td>-0.4055701</td><td>-1.0130573</td><td> 2.94196770</td><td> 2.95505340</td><td>-0.06306315</td><td> 0.85554631</td><td> 0.0499669</td><td>⋯</td><td>-0.7992290</td><td> 0.87030022</td><td> 0.98342149</td><td> 0.32120113</td><td> 0.14964988</td><td> 0.707518836</td><td> 0.01459975</td><td> 0.89</td><td>0</td><td>0.006111111</td></tr>\n",
       "</tbody>\n",
       "</table>\n"
      ],
      "text/latex": [
       "A data.frame: 6 × 32\n",
       "\\begin{tabular}{r|lllllllllllllllllllll}\n",
       "  & trans\\_ID & V1 & V2 & V3 & V4 & V5 & V6 & V7 & V8 & V9 & ⋯ & V22 & V23 & V24 & V25 & V26 & V27 & V28 & Amount & Class & hour\\_of\\_day\\\\\n",
       "  & <int> & <dbl> & <dbl> & <dbl> & <dbl> & <dbl> & <dbl> & <dbl> & <dbl> & <dbl> & ⋯ & <dbl> & <dbl> & <dbl> & <dbl> & <dbl> & <dbl> & <dbl> & <dbl> & <fct> & <dbl>\\\\\n",
       "\\hline\n",
       "\t2 &  2 &  1.1918571 &  0.26615071 &  0.1664801 &  0.4481541 &  0.06001765 & -0.08236081 & -0.07880298 &  0.08510165 & -0.2554251 & ⋯ & -0.6386720 &  0.10128802 & -0.33984648 &  0.16717040 &  0.12589453 & -0.008983099 &  0.01472417 &  2.69 & 0 & 0.000000000\\\\\n",
       "\t10 & 10 & -0.3382618 &  1.11959338 &  1.0443666 & -0.2221873 &  0.49936081 & -0.24676110 &  0.65158321 &  0.06953859 & -0.7367273 & ⋯ & -0.6337526 & -0.12079408 & -0.38504993 & -0.06973305 &  0.09419883 &  0.246219305 &  0.08307565 &  3.68 & 0 & 0.002500000\\\\\n",
       "\t15 & 15 & -2.7918548 & -0.32777076 &  1.6417502 &  1.7674727 & -0.13658845 &  0.80759647 & -0.42291139 & -1.90710748 &  0.7557129 & ⋯ &  0.2221820 &  1.02058620 &  0.02831665 & -0.23274632 & -0.23555722 & -0.164777512 & -0.03015364 & 58.80 & 0 & 0.003333333\\\\\n",
       "\t17 & 17 &  1.1032154 & -0.04029621 &  1.2673321 &  1.2890915 & -0.73599716 &  0.28806916 & -0.58605679 &  0.18937971 &  0.7823329 & ⋯ &  0.1960020 &  0.01380165 &  0.10375833 &  0.36429754 & -0.38226057 &  0.092809187 &  0.03705052 & 12.99 & 0 & 0.003333333\\\\\n",
       "\t18 & 18 & -0.4369051 &  0.91896621 &  0.9245908 & -0.7272191 &  0.91567872 & -0.12786735 &  0.70764161 &  0.08796236 & -0.6652714 & ⋯ & -0.6726380 & -0.15685751 & -0.88838632 & -0.34241322 & -0.04902673 &  0.079692399 &  0.13102379 &  0.89 & 0 & 0.003611111\\\\\n",
       "\t25 & 25 & -1.9465251 & -0.04490051 & -0.4055701 & -1.0130573 &  2.94196770 &  2.95505340 & -0.06306315 &  0.85554631 &  0.0499669 & ⋯ & -0.7992290 &  0.87030022 &  0.98342149 &  0.32120113 &  0.14964988 &  0.707518836 &  0.01459975 &  0.89 & 0 & 0.006111111\\\\\n",
       "\\end{tabular}\n"
      ],
      "text/markdown": [
       "\n",
       "A data.frame: 6 × 32\n",
       "\n",
       "| <!--/--> | trans_ID &lt;int&gt; | V1 &lt;dbl&gt; | V2 &lt;dbl&gt; | V3 &lt;dbl&gt; | V4 &lt;dbl&gt; | V5 &lt;dbl&gt; | V6 &lt;dbl&gt; | V7 &lt;dbl&gt; | V8 &lt;dbl&gt; | V9 &lt;dbl&gt; | ⋯ ⋯ | V22 &lt;dbl&gt; | V23 &lt;dbl&gt; | V24 &lt;dbl&gt; | V25 &lt;dbl&gt; | V26 &lt;dbl&gt; | V27 &lt;dbl&gt; | V28 &lt;dbl&gt; | Amount &lt;dbl&gt; | Class &lt;fct&gt; | hour_of_day &lt;dbl&gt; |\n",
       "|---|---|---|---|---|---|---|---|---|---|---|---|---|---|---|---|---|---|---|---|---|---|\n",
       "| 2 |  2 |  1.1918571 |  0.26615071 |  0.1664801 |  0.4481541 |  0.06001765 | -0.08236081 | -0.07880298 |  0.08510165 | -0.2554251 | ⋯ | -0.6386720 |  0.10128802 | -0.33984648 |  0.16717040 |  0.12589453 | -0.008983099 |  0.01472417 |  2.69 | 0 | 0.000000000 |\n",
       "| 10 | 10 | -0.3382618 |  1.11959338 |  1.0443666 | -0.2221873 |  0.49936081 | -0.24676110 |  0.65158321 |  0.06953859 | -0.7367273 | ⋯ | -0.6337526 | -0.12079408 | -0.38504993 | -0.06973305 |  0.09419883 |  0.246219305 |  0.08307565 |  3.68 | 0 | 0.002500000 |\n",
       "| 15 | 15 | -2.7918548 | -0.32777076 |  1.6417502 |  1.7674727 | -0.13658845 |  0.80759647 | -0.42291139 | -1.90710748 |  0.7557129 | ⋯ |  0.2221820 |  1.02058620 |  0.02831665 | -0.23274632 | -0.23555722 | -0.164777512 | -0.03015364 | 58.80 | 0 | 0.003333333 |\n",
       "| 17 | 17 |  1.1032154 | -0.04029621 |  1.2673321 |  1.2890915 | -0.73599716 |  0.28806916 | -0.58605679 |  0.18937971 |  0.7823329 | ⋯ |  0.1960020 |  0.01380165 |  0.10375833 |  0.36429754 | -0.38226057 |  0.092809187 |  0.03705052 | 12.99 | 0 | 0.003333333 |\n",
       "| 18 | 18 | -0.4369051 |  0.91896621 |  0.9245908 | -0.7272191 |  0.91567872 | -0.12786735 |  0.70764161 |  0.08796236 | -0.6652714 | ⋯ | -0.6726380 | -0.15685751 | -0.88838632 | -0.34241322 | -0.04902673 |  0.079692399 |  0.13102379 |  0.89 | 0 | 0.003611111 |\n",
       "| 25 | 25 | -1.9465251 | -0.04490051 | -0.4055701 | -1.0130573 |  2.94196770 |  2.95505340 | -0.06306315 |  0.85554631 |  0.0499669 | ⋯ | -0.7992290 |  0.87030022 |  0.98342149 |  0.32120113 |  0.14964988 |  0.707518836 |  0.01459975 |  0.89 | 0 | 0.006111111 |\n",
       "\n"
      ],
      "text/plain": [
       "   trans_ID V1         V2          V3         V4         V5         \n",
       "2   2        1.1918571  0.26615071  0.1664801  0.4481541  0.06001765\n",
       "10 10       -0.3382618  1.11959338  1.0443666 -0.2221873  0.49936081\n",
       "15 15       -2.7918548 -0.32777076  1.6417502  1.7674727 -0.13658845\n",
       "17 17        1.1032154 -0.04029621  1.2673321  1.2890915 -0.73599716\n",
       "18 18       -0.4369051  0.91896621  0.9245908 -0.7272191  0.91567872\n",
       "25 25       -1.9465251 -0.04490051 -0.4055701 -1.0130573  2.94196770\n",
       "   V6          V7          V8          V9         ⋯ V22        V23        \n",
       "2  -0.08236081 -0.07880298  0.08510165 -0.2554251 ⋯ -0.6386720  0.10128802\n",
       "10 -0.24676110  0.65158321  0.06953859 -0.7367273 ⋯ -0.6337526 -0.12079408\n",
       "15  0.80759647 -0.42291139 -1.90710748  0.7557129 ⋯  0.2221820  1.02058620\n",
       "17  0.28806916 -0.58605679  0.18937971  0.7823329 ⋯  0.1960020  0.01380165\n",
       "18 -0.12786735  0.70764161  0.08796236 -0.6652714 ⋯ -0.6726380 -0.15685751\n",
       "25  2.95505340 -0.06306315  0.85554631  0.0499669 ⋯ -0.7992290  0.87030022\n",
       "   V24         V25         V26         V27          V28         Amount Class\n",
       "2  -0.33984648  0.16717040  0.12589453 -0.008983099  0.01472417  2.69  0    \n",
       "10 -0.38504993 -0.06973305  0.09419883  0.246219305  0.08307565  3.68  0    \n",
       "15  0.02831665 -0.23274632 -0.23555722 -0.164777512 -0.03015364 58.80  0    \n",
       "17  0.10375833  0.36429754 -0.38226057  0.092809187  0.03705052 12.99  0    \n",
       "18 -0.88838632 -0.34241322 -0.04902673  0.079692399  0.13102379  0.89  0    \n",
       "25  0.98342149  0.32120113  0.14964988  0.707518836  0.01459975  0.89  0    \n",
       "   hour_of_day\n",
       "2  0.000000000\n",
       "10 0.002500000\n",
       "15 0.003333333\n",
       "17 0.003333333\n",
       "18 0.003611111\n",
       "25 0.006111111"
      ]
     },
     "metadata": {},
     "output_type": "display_data"
    }
   ],
   "source": [
    "# View first 6 rows of testing dataframe \n",
    "\n",
    "head(test_df)"
   ]
  },
  {
   "cell_type": "code",
   "execution_count": 16,
   "id": "3d07ee5c-4f4b-452d-abf3-2cfd2f45caf7",
   "metadata": {},
   "outputs": [
    {
     "name": "stderr",
     "output_type": "stream",
     "text": [
      "Number of rows in train dataframe: 213605\n",
      "\n",
      "Number of rows in test dataframe: 71202\n",
      "\n",
      "Number of rows in total dataframe: 284807\n",
      "\n"
     ]
    }
   ],
   "source": [
    "message(\"Number of rows in train dataframe: \", train_nrow)\n",
    "message(\"Number of rows in test dataframe: \", test_nrow)\n",
    "message(\"Number of rows in total dataframe: \", nrow)"
   ]
  },
  {
   "cell_type": "markdown",
   "id": "99682c05-f1c2-497e-9646-0a09a29b438f",
   "metadata": {},
   "source": [
    "#### Random undersampling "
   ]
  },
  {
   "cell_type": "code",
   "execution_count": 17,
   "id": "f3f79402-13cc-4b8b-b481-51333685bb0d",
   "metadata": {},
   "outputs": [],
   "source": [
    "# Set the predictor and response variables \n",
    "predictor_variables <- train_df[,-c(31)]\n",
    "\n",
    "target_variable <- train_df$Class  "
   ]
  },
  {
   "cell_type": "code",
   "execution_count": 157,
   "id": "8017bcd7-c3b3-4865-8bd0-90c4673672c8",
   "metadata": {
    "collapsed": true,
    "jupyter": {
     "outputs_hidden": true
    },
    "tags": []
   },
   "outputs": [
    {
     "data": {
      "text/html": [
       "<table class=\"dataframe\">\n",
       "<caption>A data.frame: 213605 × 31</caption>\n",
       "<thead>\n",
       "\t<tr><th></th><th scope=col>trans_ID</th><th scope=col>V1</th><th scope=col>V2</th><th scope=col>V3</th><th scope=col>V4</th><th scope=col>V5</th><th scope=col>V6</th><th scope=col>V7</th><th scope=col>V8</th><th scope=col>V9</th><th scope=col>⋯</th><th scope=col>V21</th><th scope=col>V22</th><th scope=col>V23</th><th scope=col>V24</th><th scope=col>V25</th><th scope=col>V26</th><th scope=col>V27</th><th scope=col>V28</th><th scope=col>Amount</th><th scope=col>hour_of_day</th></tr>\n",
       "\t<tr><th></th><th scope=col>&lt;int&gt;</th><th scope=col>&lt;dbl&gt;</th><th scope=col>&lt;dbl&gt;</th><th scope=col>&lt;dbl&gt;</th><th scope=col>&lt;dbl&gt;</th><th scope=col>&lt;dbl&gt;</th><th scope=col>&lt;dbl&gt;</th><th scope=col>&lt;dbl&gt;</th><th scope=col>&lt;dbl&gt;</th><th scope=col>&lt;dbl&gt;</th><th scope=col>⋯</th><th scope=col>&lt;dbl&gt;</th><th scope=col>&lt;dbl&gt;</th><th scope=col>&lt;dbl&gt;</th><th scope=col>&lt;dbl&gt;</th><th scope=col>&lt;dbl&gt;</th><th scope=col>&lt;dbl&gt;</th><th scope=col>&lt;dbl&gt;</th><th scope=col>&lt;dbl&gt;</th><th scope=col>&lt;dbl&gt;</th><th scope=col>&lt;dbl&gt;</th></tr>\n",
       "</thead>\n",
       "<tbody>\n",
       "\t<tr><th scope=row>202933</th><td>202933</td><td> 1.80792751</td><td>-0.54878057</td><td>-0.01156397</td><td> 1.20490666</td><td>-0.7128220</td><td> 0.46870320</td><td>-0.97677819</td><td> 0.40989683</td><td> 1.16624661</td><td>⋯</td><td> 0.10904330</td><td> 0.243707949</td><td> 0.298573970</td><td> 0.612687300</td><td>-0.44285542</td><td>-0.80326897</td><td> 0.054102227</td><td>-0.020359028</td><td> 45.00</td><td>13.37750000</td></tr>\n",
       "\t<tr><th scope=row>80960</th><td> 80960</td><td>-0.73699566</td><td> 0.32268859</td><td> 0.62929389</td><td>-2.13518248</td><td> 2.2909686</td><td> 3.41380035</td><td>-0.12071883</td><td> 0.97850508</td><td>-0.36845570</td><td>⋯</td><td> 0.08942416</td><td>-0.004409285</td><td>-0.323765896</td><td> 1.069778006</td><td> 0.40274757</td><td> 1.01149470</td><td>-0.047180148</td><td> 0.048079411</td><td> 15.99</td><td>16.31583333</td></tr>\n",
       "\t<tr><th scope=row>108086</th><td>108086</td><td> 1.14995864</td><td>-0.13245379</td><td> 0.71275158</td><td> 1.27010136</td><td> 0.1232046</td><td> 1.72054940</td><td>-0.59560764</td><td> 0.45192120</td><td> 0.90646325</td><td>⋯</td><td>-0.44471412</td><td>-0.754591776</td><td>-0.103197724</td><td>-1.315136102</td><td> 0.62013231</td><td>-0.44529285</td><td> 0.095188535</td><td> 0.005707190</td><td>  2.00</td><td>19.65472222</td></tr>\n",
       "\t<tr><th scope=row>173624</th><td>173624</td><td> 0.01008703</td><td> 1.07800439</td><td>-2.61608258</td><td>-1.19662597</td><td> 2.4694927</td><td> 4.22623610</td><td>-2.35356555</td><td>-4.35915578</td><td>-0.55166840</td><td>⋯</td><td>-2.89449678</td><td>-0.382690684</td><td> 0.448544440</td><td> 0.567280337</td><td> 0.41148819</td><td> 0.22584208</td><td>-0.080746846</td><td> 0.150268458</td><td>  1.98</td><td> 9.76916667</td></tr>\n",
       "\t<tr><th scope=row>151212</th><td>151212</td><td> 1.98003533</td><td>-0.16038517</td><td>-1.08371334</td><td> 0.83599825</td><td>-0.1179714</td><td>-1.01613889</td><td> 0.06713833</td><td>-0.30650042</td><td> 2.08243589</td><td>⋯</td><td>-0.38753247</td><td>-0.846273155</td><td> 0.271807651</td><td>-0.181939913</td><td>-0.25111173</td><td> 0.06528868</td><td>-0.100476031</td><td>-0.065099798</td><td> 39.99</td><td> 2.38916667</td></tr>\n",
       "\t<tr><th scope=row>238966</th><td>238966</td><td>-1.19113206</td><td> 1.15642968</td><td> 0.22199884</td><td>-1.18663530</td><td>-0.4074988</td><td> 0.28626089</td><td>-0.80473627</td><td> 0.31616539</td><td> 0.25596806</td><td>⋯</td><td> 0.67239271</td><td>-0.867600351</td><td> 0.065782570</td><td>-1.113619410</td><td>-0.10929681</td><td>-0.22622155</td><td>-0.332302797</td><td>-0.132005891</td><td>  0.77</td><td>17.63833333</td></tr>\n",
       "\t<tr><th scope=row>137544</th><td>137544</td><td>-4.81525279</td><td> 4.42645901</td><td>-2.40824480</td><td>-0.46550336</td><td>-2.1264927</td><td> 0.04468421</td><td>-0.67389670</td><td> 2.35336106</td><td> 0.40531264</td><td>⋯</td><td>-0.14027555</td><td>-0.496081534</td><td> 0.212004034</td><td>-0.813967683</td><td> 0.48120108</td><td>-0.72928613</td><td>-0.848898661</td><td>-0.438493035</td><td>141.49</td><td>22.83750000</td></tr>\n",
       "\t<tr><th scope=row>257055</th><td>257055</td><td> 2.02436238</td><td>-0.29373079</td><td>-2.08411219</td><td> 0.12153414</td><td> 0.6702964</td><td>-0.22720102</td><td> 0.27102879</td><td>-0.08440989</td><td> 0.36395306</td><td>⋯</td><td>-0.02121870</td><td>-0.059847770</td><td> 0.014009463</td><td> 0.054332687</td><td> 0.17728392</td><td> 0.55332308</td><td>-0.119150398</td><td>-0.083987103</td><td> 39.95</td><td>19.88361111</td></tr>\n",
       "\t<tr><th scope=row>152419</th><td>152419</td><td> 2.00811366</td><td>-0.58312767</td><td>-0.34148965</td><td> 0.10441998</td><td>-0.2803791</td><td> 0.87035320</td><td>-1.21863049</td><td> 0.30760549</td><td> 2.61766698</td><td>⋯</td><td>-0.14939835</td><td>-0.155027493</td><td> 0.228712792</td><td>-0.411652017</td><td>-0.52406318</td><td> 0.45862670</td><td>-0.056448481</td><td>-0.059284789</td><td> 14.95</td><td> 3.04611111</td></tr>\n",
       "\t<tr><th scope=row>77081</th><td> 77081</td><td> 1.16280694</td><td> 1.08174078</td><td>-1.53283552</td><td> 1.60813119</td><td> 0.6196744</td><td>-1.66183167</td><td> 0.57303242</td><td>-0.15342529</td><td>-0.44784867</td><td>⋯</td><td>-0.15789607</td><td>-0.510704118</td><td>-0.185911065</td><td> 0.161782255</td><td> 0.73394040</td><td>-0.31970752</td><td> 0.021999867</td><td> 0.087337156</td><td> 14.62</td><td>15.79972222</td></tr>\n",
       "\t<tr><th scope=row>204383</th><td>204383</td><td>-0.69156624</td><td> 1.03331476</td><td>-0.23584175</td><td>-0.78325526</td><td> 0.7686467</td><td>-0.49571603</td><td> 1.37055860</td><td>-0.89549003</td><td> 0.91678133</td><td>⋯</td><td> 0.13985752</td><td> 0.901485859</td><td>-0.160606350</td><td> 0.704835756</td><td>-1.03803494</td><td>-0.07076957</td><td>-2.058578763</td><td>-1.343173092</td><td> 35.67</td><td>13.57055556</td></tr>\n",
       "\t<tr><th scope=row>167637</th><td>167637</td><td> 1.88983437</td><td>-2.10102812</td><td>-0.79700600</td><td>-1.18068628</td><td>-1.7392891</td><td>-0.53571661</td><td>-1.04429876</td><td>-0.24282184</td><td>-0.87831348</td><td>⋯</td><td> 0.17431286</td><td> 0.783308578</td><td>-0.104071506</td><td>-0.023828040</td><td>-0.05120297</td><td> 0.09425536</td><td> 0.002620790</td><td>-0.017425119</td><td>210.00</td><td> 9.00305556</td></tr>\n",
       "\t<tr><th scope=row>109563</th><td>109563</td><td> 0.23181929</td><td>-2.37977943</td><td>-0.54304921</td><td>-0.08297971</td><td>-1.4578328</td><td>-0.54326320</td><td> 0.42775353</td><td>-0.28263907</td><td>-1.07446194</td><td>⋯</td><td>-0.04697655</td><td>-0.910574378</td><td>-0.529611041</td><td> 0.396816581</td><td> 0.17685967</td><td> 1.01352205</td><td>-0.185379163</td><td> 0.088898106</td><td>592.10</td><td>19.84361111</td></tr>\n",
       "\t<tr><th scope=row>18445</th><td> 18445</td><td>-8.25835675</td><td> 5.65577384</td><td>-9.38766523</td><td> 1.95285588</td><td>-4.7571002</td><td>-2.05815636</td><td>-2.98297394</td><td> 5.55440391</td><td>-0.34345889</td><td>⋯</td><td>-0.07470215</td><td>-0.830994751</td><td>-0.020727064</td><td>-0.396385126</td><td> 0.46322718</td><td>-0.33721450</td><td>-0.042126057</td><td>-0.282182687</td><td> 89.99</td><td> 8.19666667</td></tr>\n",
       "\t<tr><th scope=row>280175</th><td>280175</td><td> 2.12422641</td><td>-0.93214536</td><td>-0.42691410</td><td>-0.75076975</td><td>-1.1524972</td><td>-0.83918725</td><td>-0.86653792</td><td>-0.23988869</td><td>-0.05883402</td><td>⋯</td><td> 0.35026053</td><td> 1.119633361</td><td> 0.104073955</td><td> 0.120212033</td><td>-0.11595356</td><td>-0.09680984</td><td> 0.015105430</td><td>-0.041512102</td><td> 32.37</td><td>23.04611111</td></tr>\n",
       "\t<tr><th scope=row>206486</th><td>206486</td><td> 0.14204916</td><td> 1.06535287</td><td>-0.40763242</td><td>-0.55007133</td><td> 0.9595660</td><td>-0.80650576</td><td> 1.02489411</td><td>-0.14161778</td><td>-0.12952014</td><td>⋯</td><td>-0.33478088</td><td>-0.795233029</td><td> 0.095055807</td><td> 0.573377392</td><td>-0.39779370</td><td> 0.11177087</td><td> 0.224516991</td><td> 0.085570944</td><td>  6.99</td><td>13.84111111</td></tr>\n",
       "\t<tr><th scope=row>79963</th><td> 79963</td><td> 1.37472721</td><td>-0.46358401</td><td> 0.47026348</td><td>-0.85672092</td><td>-0.8479870</td><td>-0.50363065</td><td>-0.60660564</td><td>-0.06489287</td><td>-1.10656855</td><td>⋯</td><td>-0.05531011</td><td>-0.291074453</td><td> 0.067857053</td><td> 0.009341216</td><td> 0.26736936</td><td>-0.48026863</td><td> 0.009772274</td><td> 0.011799622</td><td> 15.00</td><td>16.18555556</td></tr>\n",
       "\t<tr><th scope=row>89834</th><td> 89834</td><td> 1.08087936</td><td>-1.66692134</td><td> 0.73384549</td><td>-1.23642116</td><td>-2.0123849</td><td>-0.52100507</td><td>-1.05733350</td><td>-0.09510989</td><td>-1.99329705</td><td>⋯</td><td> 0.12556356</td><td> 0.348400920</td><td>-0.160630562</td><td> 0.555595203</td><td> 0.23711118</td><td>-0.15541094</td><td> 0.017532684</td><td> 0.053095804</td><td>199.00</td><td>17.42916667</td></tr>\n",
       "\t<tr><th scope=row>141408</th><td>141408</td><td>-1.04943603</td><td>-0.21816373</td><td> 2.04536821</td><td>-0.28286654</td><td> 0.5876978</td><td> 0.25414359</td><td> 0.28262448</td><td>-0.21049900</td><td> 1.04638294</td><td>⋯</td><td>-0.23831487</td><td> 0.236593500</td><td> 0.266392637</td><td>-0.424405464</td><td>-0.03377837</td><td> 0.16335927</td><td>-0.181432873</td><td>-0.451702330</td><td> 11.50</td><td>23.41611111</td></tr>\n",
       "\t<tr><th scope=row>102017</th><td>102017</td><td>-0.50690077</td><td> 0.30186121</td><td> 1.86175079</td><td> 1.30457135</td><td>-0.1178534</td><td> 0.74749986</td><td> 0.69497538</td><td> 0.12495573</td><td>-0.15388870</td><td>⋯</td><td> 0.10158913</td><td> 0.475386084</td><td> 0.004539185</td><td> 0.008840962</td><td>-0.15395703</td><td>-0.22628963</td><td>-0.020039257</td><td>-0.091340706</td><td>105.26</td><td>18.89500000</td></tr>\n",
       "\t<tr><th scope=row>134255</th><td>134255</td><td>-0.43723574</td><td> 1.09838694</td><td> 1.71561401</td><td> 0.03974221</td><td>-0.1726745</td><td>-1.07253687</td><td> 0.75208750</td><td>-0.12249399</td><td>-0.51164601</td><td>⋯</td><td>-0.19919412</td><td>-0.483736520</td><td> 0.011191056</td><td> 0.709446365</td><td>-0.21657782</td><td> 0.04888982</td><td> 0.269740749</td><td> 0.125690175</td><td>  2.69</td><td>22.42138889</td></tr>\n",
       "\t<tr><th scope=row>131256</th><td>131256</td><td> 1.29341132</td><td> 0.15390758</td><td> 0.07591772</td><td> 0.08407161</td><td>-0.3859677</td><td>-1.32661153</td><td> 0.28586229</td><td>-0.28630831</td><td> 0.01488701</td><td>⋯</td><td>-0.44839337</td><td>-1.380033357</td><td> 0.211884179</td><td> 0.385711189</td><td> 0.08128012</td><td> 0.62379648</td><td>-0.105322398</td><td> 0.003199844</td><td> 10.94</td><td>22.09277778</td></tr>\n",
       "\t<tr><th scope=row>31423</th><td> 31423</td><td>-1.56655698</td><td>-0.37325503</td><td> 2.04583144</td><td> 0.04349409</td><td>-0.4227787</td><td>-0.26876841</td><td>-0.10833733</td><td>-0.66514103</td><td> 0.77617117</td><td>⋯</td><td> 0.58019868</td><td>-0.511253441</td><td>-0.006697992</td><td> 0.419400335</td><td>-0.26364475</td><td> 0.22151929</td><td> 0.316508800</td><td> 0.047199243</td><td>159.14</td><td>10.09944444</td></tr>\n",
       "\t<tr><th scope=row>184965</th><td>184965</td><td> 1.92188737</td><td>-2.16477100</td><td> 0.51224406</td><td>-1.31468221</td><td>-2.7053840</td><td>-0.26733815</td><td>-2.09475064</td><td> 0.22420962</td><td>-0.57129806</td><td>⋯</td><td> 0.21310198</td><td> 0.855824632</td><td> 0.257434313</td><td> 0.456981154</td><td>-0.72772768</td><td>-0.14769156</td><td> 0.054356913</td><td>-0.014681516</td><td>120.00</td><td>11.13083333</td></tr>\n",
       "\t<tr><th scope=row>143888</th><td>143888</td><td>-1.51717267</td><td> 1.15065706</td><td> 1.11288679</td><td>-0.52059434</td><td> 0.4116737</td><td>-1.29218795</td><td> 0.64926881</td><td>-0.30212952</td><td> 0.13420140</td><td>⋯</td><td>-0.17796562</td><td>-0.341268416</td><td>-0.243600855</td><td> 0.402804212</td><td>-0.37308939</td><td>-0.06892196</td><td> 0.033631465</td><td> 0.200166112</td><td> 14.64</td><td>23.80611111</td></tr>\n",
       "\t<tr><th scope=row>506</th><td>   506</td><td> 1.14924640</td><td> 0.01835829</td><td> 0.43043951</td><td> 0.53750263</td><td>-0.4307535</td><td>-0.39469852</td><td>-0.15139839</td><td> 0.13503148</td><td>-0.00495869</td><td>⋯</td><td>-0.12493240</td><td>-0.449759669</td><td> 0.135781046</td><td> 0.185129747</td><td> 0.12906190</td><td> 0.17778005</td><td>-0.034564615</td><td> 0.001486565</td><td> 10.29</td><td> 0.10361111</td></tr>\n",
       "\t<tr><th scope=row>172549</th><td>172549</td><td>-4.06923460</td><td> 0.22131683</td><td>-0.06222033</td><td>-2.77132123</td><td>-2.0130686</td><td>-0.20030836</td><td>-1.56962972</td><td>-2.57415520</td><td>-1.36718243</td><td>⋯</td><td> 2.58251280</td><td>-1.156569771</td><td> 0.287644196</td><td> 0.004194617</td><td> 0.94389320</td><td>-0.06760296</td><td> 0.445605625</td><td> 0.115416013</td><td>114.00</td><td> 9.65027778</td></tr>\n",
       "\t<tr><th scope=row>247448</th><td>247448</td><td>-0.33397258</td><td> 0.73320141</td><td> 1.46929484</td><td>-0.53261182</td><td> 0.3286078</td><td> 0.14116769</td><td> 0.41114649</td><td> 0.11096779</td><td> 0.20312479</td><td>⋯</td><td>-0.14281021</td><td>-0.351579220</td><td>-0.098011645</td><td> 0.444138820</td><td>-0.25865725</td><td>-0.54848676</td><td> 0.156928069</td><td> 0.151810449</td><td>  3.99</td><td>18.66083333</td></tr>\n",
       "\t<tr><th scope=row>235598</th><td>235598</td><td> 2.02369909</td><td>-0.42384915</td><td>-2.62861766</td><td>-0.67667785</td><td> 2.4090353</td><td> 3.33960285</td><td>-0.42619983</td><td> 0.77840122</td><td> 0.44040410</td><td>⋯</td><td>-0.24512572</td><td>-0.684483305</td><td> 0.313074896</td><td> 0.714160048</td><td>-0.16483019</td><td> 0.29600791</td><td>-0.057090664</td><td>-0.067829290</td><td> 15.76</td><td>17.23861111</td></tr>\n",
       "\t<tr><th scope=row>145050</th><td>145050</td><td> 1.06177901</td><td>-1.54782368</td><td>-2.62964252</td><td> 0.66829338</td><td> 0.1440768</td><td>-0.44113549</td><td> 0.87206311</td><td>-0.39574445</td><td> 0.87072137</td><td>⋯</td><td> 0.01579792</td><td>-0.825729741</td><td>-0.418136117</td><td>-1.135133669</td><td>-0.09848390</td><td>-0.08048952</td><td>-0.096343897</td><td> 0.065302451</td><td>539.66</td><td> 0.05277778</td></tr>\n",
       "\t<tr><th scope=row>⋮</th><td>⋮</td><td>⋮</td><td>⋮</td><td>⋮</td><td>⋮</td><td>⋮</td><td>⋮</td><td>⋮</td><td>⋮</td><td>⋮</td><td>⋱</td><td>⋮</td><td>⋮</td><td>⋮</td><td>⋮</td><td>⋮</td><td>⋮</td><td>⋮</td><td>⋮</td><td>⋮</td><td>⋮</td></tr>\n",
       "\t<tr><th scope=row>165166</th><td>165166</td><td> 0.044692558</td><td> 0.91819573</td><td> 0.31258375</td><td>-0.589906801</td><td> 0.46573409</td><td>-1.11530316</td><td> 1.057988493</td><td>-0.247553400</td><td>-0.1502256</td><td>⋯</td><td>-0.25219618</td><td>-0.51265543</td><td> 0.061350853</td><td> 0.05852978</td><td>-0.467062137</td><td> 0.13541805</td><td> 0.251896553</td><td> 0.098974431</td><td>  2.69</td><td> 8.566944</td></tr>\n",
       "\t<tr><th scope=row>262439</th><td>262439</td><td>-0.483349978</td><td> 0.52472087</td><td> 0.08030313</td><td> 0.009398517</td><td>-0.38658104</td><td>-0.69535422</td><td> 0.735522170</td><td>-0.062585048</td><td> 0.2837774</td><td>⋯</td><td> 0.05787920</td><td> 0.29187623</td><td> 0.101448076</td><td> 0.06041366</td><td>-0.886674805</td><td> 0.11484862</td><td>-0.393971067</td><td>-0.197938923</td><td> 99.95</td><td>20.576389</td></tr>\n",
       "\t<tr><th scope=row>173376</th><td>173376</td><td> 1.803514185</td><td>-1.10406481</td><td>-0.50317576</td><td>-0.510702339</td><td>-1.19422284</td><td>-0.77816922</td><td>-0.616533495</td><td>-0.071711443</td><td> 1.8793381</td><td>⋯</td><td> 0.22176132</td><td> 0.61502647</td><td> 0.075564268</td><td> 0.05450807</td><td>-0.378022379</td><td> 0.72988348</td><td>-0.053248322</td><td>-0.034731004</td><td>122.00</td><td> 9.738889</td></tr>\n",
       "\t<tr><th scope=row>171388</th><td>171388</td><td> 1.295690867</td><td>-3.15604008</td><td>-1.58878762</td><td>-1.213636691</td><td>-1.05169197</td><td> 1.54754625</td><td>-0.910726952</td><td> 0.361499812</td><td>-0.7811022</td><td>⋯</td><td>-0.18642859</td><td>-0.75551358</td><td>-0.062320599</td><td>-1.66811583</td><td>-0.531596387</td><td>-0.25215088</td><td>-0.021924150</td><td>-0.007241881</td><td>450.74</td><td> 9.505000</td></tr>\n",
       "\t<tr><th scope=row>205187</th><td>205187</td><td>-2.606415958</td><td>-1.98704182</td><td> 0.57818880</td><td> 2.921958802</td><td> 5.12309224</td><td> 4.13079005</td><td>-0.047846177</td><td> 0.126553390</td><td>-0.3426817</td><td>⋯</td><td>-0.33186067</td><td> 0.58338231</td><td>-0.480123517</td><td> 0.79910705</td><td> 0.136750832</td><td> 0.19565713</td><td>-0.685803857</td><td>-0.303698943</td><td>124.24</td><td>13.674167</td></tr>\n",
       "\t<tr><th scope=row>98086</th><td> 98086</td><td>-0.859109347</td><td> 0.40884187</td><td> 0.08915813</td><td> 0.949218025</td><td>-0.34212423</td><td> 0.47294802</td><td> 2.418302608</td><td>-0.713949977</td><td>-0.1815882</td><td>⋯</td><td>-0.08121501</td><td> 0.49801350</td><td>-0.094125392</td><td>-0.38240874</td><td>-0.202560096</td><td>-0.31815241</td><td> 0.186716679</td><td> 0.087455991</td><td>355.84</td><td>18.475556</td></tr>\n",
       "\t<tr><th scope=row>32888</th><td> 32888</td><td>-0.362471932</td><td> 1.10865546</td><td> 1.19247210</td><td>-0.135080360</td><td> 0.30744927</td><td>-0.46782679</td><td> 0.624556233</td><td> 0.066097470</td><td>-0.7111279</td><td>⋯</td><td>-0.22822635</td><td>-0.59396820</td><td>-0.078125336</td><td>-0.03325083</td><td>-0.129585629</td><td> 0.07305984</td><td> 0.245389895</td><td> 0.085922154</td><td>  0.89</td><td>10.278889</td></tr>\n",
       "\t<tr><th scope=row>182168</th><td>182168</td><td> 1.964747917</td><td>-1.29000337</td><td> 0.29176312</td><td>-0.218338302</td><td>-1.49448450</td><td> 0.51452338</td><td>-1.492663024</td><td> 0.224163116</td><td> 0.4779680</td><td>⋯</td><td>-0.37456913</td><td>-0.26616393</td><td> 0.273647869</td><td>-0.29236781</td><td>-0.561598535</td><td> 0.52168495</td><td> 0.032796725</td><td>-0.039612832</td><td> 42.00</td><td>10.802500</td></tr>\n",
       "\t<tr><th scope=row>72389</th><td> 72389</td><td> 1.295257310</td><td> 0.40023495</td><td>-1.83261628</td><td> 0.133846131</td><td> 2.55145234</td><td> 3.06013530</td><td>-0.285335459</td><td> 0.756222478</td><td>-0.2096612</td><td>⋯</td><td>-0.10551321</td><td>-0.38545441</td><td>-0.154807647</td><td> 0.88159064</td><td> 0.849887575</td><td>-0.31181909</td><td> 0.034099181</td><td> 0.044343542</td><td>  1.00</td><td>15.190833</td></tr>\n",
       "\t<tr><th scope=row>261842</th><td>261842</td><td> 1.789540368</td><td>-0.48233102</td><td>-0.42261815</td><td> 1.182891801</td><td>-0.46951400</td><td> 0.15881254</td><td>-0.614140380</td><td> 0.219083100</td><td> 0.7914581</td><td>⋯</td><td> 0.30174097</td><td> 0.74170429</td><td> 0.118511634</td><td> 0.72046376</td><td>-0.167761949</td><td>-0.62115672</td><td> 0.028015209</td><td>-0.022920046</td><td> 75.00</td><td>20.500833</td></tr>\n",
       "\t<tr><th scope=row>23100</th><td> 23100</td><td> 1.189027993</td><td>-0.15875064</td><td>-0.21726641</td><td>-0.242398415</td><td>-0.46860308</td><td>-1.30032547</td><td> 0.278823264</td><td>-0.217330218</td><td>-0.1781750</td><td>⋯</td><td> 0.01623764</td><td>-0.14007768</td><td>-0.082228612</td><td> 0.60658672</td><td> 0.349703459</td><td> 1.42041961</td><td>-0.163543319</td><td>-0.017563892</td><td> 55.00</td><td> 9.052222</td></tr>\n",
       "\t<tr><th scope=row>15768</th><td> 15768</td><td>-1.265581547</td><td> 0.97320044</td><td> 1.13818475</td><td> 1.973896539</td><td> 0.84756584</td><td> 0.58522299</td><td> 0.207452449</td><td> 0.626566779</td><td>-1.9216518</td><td>⋯</td><td> 0.18906590</td><td> 0.10104926</td><td>-0.385641969</td><td>-0.94829475</td><td> 0.569212287</td><td> 0.25938249</td><td>-0.087804183</td><td>-0.083907868</td><td> 45.61</td><td> 7.556389</td></tr>\n",
       "\t<tr><th scope=row>157239</th><td>157239</td><td>-2.399455008</td><td>-0.26691056</td><td> 2.75569174</td><td>-2.132111334</td><td>-0.46675481</td><td> 0.81375545</td><td>-0.543129519</td><td> 0.376878600</td><td> 4.1854377</td><td>⋯</td><td>-0.38871261</td><td> 0.42870492</td><td>-0.044625350</td><td> 0.77962979</td><td> 0.820854213</td><td> 0.66894605</td><td> 0.441822127</td><td> 0.020703568</td><td> 26.00</td><td> 6.489167</td></tr>\n",
       "\t<tr><th scope=row>270079</th><td>270079</td><td> 1.375658639</td><td>-0.86080151</td><td>-1.80070987</td><td> 1.193753552</td><td> 0.76154150</td><td> 0.96386858</td><td> 0.367475607</td><td> 0.114641362</td><td> 0.1829643</td><td>⋯</td><td> 0.50161847</td><td> 1.03150790</td><td>-0.135462634</td><td>-0.32413309</td><td> 0.018821814</td><td>-0.38879685</td><td>-0.001006059</td><td>-0.008415479</td><td>281.15</td><td>21.530833</td></tr>\n",
       "\t<tr><th scope=row>10993</th><td> 10993</td><td> 1.284670753</td><td>-0.32844123</td><td> 0.43407216</td><td>-0.895203928</td><td>-0.24257928</td><td> 0.50658283</td><td>-0.732411313</td><td> 0.089729376</td><td> 3.1387839</td><td>⋯</td><td>-0.21625462</td><td>-0.08945351</td><td>-0.181656934</td><td>-1.35419167</td><td> 0.600190808</td><td>-0.61110628</td><td> 0.082040434</td><td> 0.013991248</td><td> 11.85</td><td> 5.259167</td></tr>\n",
       "\t<tr><th scope=row>25358</th><td> 25358</td><td> 1.069112600</td><td>-0.08154333</td><td> 0.64530262</td><td> 1.500371150</td><td>-0.69160191</td><td>-0.52591938</td><td>-0.047113279</td><td>-0.019396479</td><td> 0.6089588</td><td>⋯</td><td>-0.24707457</td><td>-0.73813843</td><td> 0.003144041</td><td> 0.32639896</td><td> 0.426433868</td><td>-0.53105416</td><td> 0.019032055</td><td> 0.036309119</td><td> 69.25</td><td> 9.325556</td></tr>\n",
       "\t<tr><th scope=row>84144</th><td> 84144</td><td> 1.196391821</td><td>-0.79803741</td><td>-0.51835881</td><td>-1.015790080</td><td>-0.07884796</td><td> 0.19293825</td><td>-0.190926208</td><td>-0.002842119</td><td>-1.2718177</td><td>⋯</td><td>-0.12943430</td><td>-0.77654272</td><td>-0.103032913</td><td>-1.17467554</td><td> 0.356283100</td><td>-0.45754883</td><td>-0.027504155</td><td> 0.009499275</td><td>131.00</td><td>16.716389</td></tr>\n",
       "\t<tr><th scope=row>257246</th><td>257246</td><td> 1.520118676</td><td>-0.81449120</td><td>-1.69389649</td><td> 0.760903870</td><td>-0.05912508</td><td>-1.09519862</td><td> 0.837516059</td><td>-0.533962954</td><td> 0.1923599</td><td>⋯</td><td> 0.02543895</td><td>-0.37603065</td><td>-0.077523541</td><td>-0.04769727</td><td>-0.089882855</td><td> 0.15617661</td><td>-0.119027603</td><td>-0.013524080</td><td>293.90</td><td>19.908056</td></tr>\n",
       "\t<tr><th scope=row>9019</th><td>  9019</td><td>-0.597210713</td><td> 0.81365435</td><td> 1.58053352</td><td> 1.441893577</td><td> 0.36619393</td><td> 0.30341644</td><td> 0.247219120</td><td> 0.250745206</td><td> 0.9099256</td><td>⋯</td><td>-0.12608001</td><td> 0.09284108</td><td>-0.082699317</td><td>-0.05081261</td><td>-0.168982514</td><td>-0.27602745</td><td> 0.382013275</td><td> 0.189762398</td><td> 18.04</td><td> 3.485556</td></tr>\n",
       "\t<tr><th scope=row>103598</th><td>103598</td><td>-0.939494691</td><td> 0.84146259</td><td> 0.86764360</td><td> 0.814892783</td><td>-1.06608088</td><td> 0.37859985</td><td> 0.768370168</td><td> 0.392611909</td><td>-0.7203533</td><td>⋯</td><td> 0.36287185</td><td> 0.96090779</td><td> 0.058240566</td><td> 0.02381212</td><td>-0.250910243</td><td>-0.24279649</td><td> 0.023922431</td><td> 0.031888598</td><td>203.75</td><td>19.091111</td></tr>\n",
       "\t<tr><th scope=row>8927</th><td>  8927</td><td> 0.001701113</td><td> 0.37827212</td><td> 1.51272695</td><td> 0.867365275</td><td>-0.36190049</td><td>-0.45024577</td><td> 0.053440500</td><td>-0.159464740</td><td> 1.3430395</td><td>⋯</td><td>-0.13113074</td><td> 0.09733985</td><td> 0.012975812</td><td> 0.44145933</td><td>-0.405771764</td><td> 1.24189552</td><td>-0.017068271</td><td> 0.027256592</td><td> 32.13</td><td> 3.405278</td></tr>\n",
       "\t<tr><th scope=row>120387</th><td>120387</td><td>-0.244484073</td><td> 0.47505381</td><td> 1.94291414</td><td> 0.075699659</td><td>-0.30167450</td><td> 0.28882978</td><td>-0.008217914</td><td> 0.222314651</td><td> 0.4759177</td><td>⋯</td><td>-0.07722869</td><td>-0.08070238</td><td>-0.195818114</td><td>-0.43630531</td><td>-0.077964888</td><td> 0.33014302</td><td> 0.038098057</td><td> 0.023228640</td><td> 11.50</td><td>21.058333</td></tr>\n",
       "\t<tr><th scope=row>273804</th><td>273804</td><td> 2.040156956</td><td> 0.08434168</td><td>-1.95609070</td><td> 0.312373070</td><td> 0.72002975</td><td>-0.53523439</td><td> 0.283148486</td><td>-0.260581193</td><td> 0.3963234</td><td>⋯</td><td>-0.36736175</td><td>-0.99455353</td><td> 0.228437254</td><td> 0.01550869</td><td>-0.170292987</td><td> 0.19846583</td><td>-0.064999625</td><td>-0.027468359</td><td> 39.99</td><td>22.029444</td></tr>\n",
       "\t<tr><th scope=row>40098</th><td> 40098</td><td> 1.185746226</td><td>-0.59979666</td><td> 0.47567368</td><td>-0.089028581</td><td>-0.40835330</td><td> 0.88344079</td><td>-0.728451999</td><td> 0.290727708</td><td> 1.3485609</td><td>⋯</td><td>-0.27708807</td><td>-0.60694371</td><td>-0.095952641</td><td>-1.26208024</td><td> 0.222171067</td><td> 1.05601828</td><td>-0.029269516</td><td> 0.003167585</td><td> 50.25</td><td>11.136667</td></tr>\n",
       "\t<tr><th scope=row>68199</th><td> 68199</td><td>-1.104154772</td><td> 0.41156689</td><td> 0.19903772</td><td> 3.083958595</td><td>-1.05437079</td><td> 1.06823273</td><td> 1.397083802</td><td> 0.614213549</td><td>-1.5377322</td><td>⋯</td><td> 0.38808843</td><td> 0.53154809</td><td> 0.917606739</td><td>-0.03904876</td><td>-0.595959790</td><td> 0.19820358</td><td> 0.201738880</td><td> 0.213765848</td><td>383.11</td><td>14.687500</td></tr>\n",
       "\t<tr><th scope=row>97097</th><td> 97097</td><td>-0.369160858</td><td> 0.73010595</td><td>-0.29833366</td><td>-1.083033323</td><td> 2.65516183</td><td> 3.19197335</td><td> 0.035526794</td><td> 0.945087576</td><td>-0.4943888</td><td>⋯</td><td>-0.30914858</td><td>-1.01334130</td><td>-0.027108314</td><td> 0.93512420</td><td>-0.001296083</td><td> 0.08809202</td><td> 0.242912071</td><td> 0.093496881</td><td>  2.58</td><td>18.352778</td></tr>\n",
       "\t<tr><th scope=row>165317</th><td>165317</td><td>-1.249582793</td><td> 1.40996118</td><td> 1.76515182</td><td> 0.639321706</td><td>-0.29727238</td><td>-0.25890604</td><td> 0.353164812</td><td> 0.219991568</td><td> 0.3660926</td><td>⋯</td><td>-0.25065492</td><td>-0.64919950</td><td>-0.150360358</td><td>-0.15801534</td><td> 0.292287462</td><td>-0.63602851</td><td> 0.414979878</td><td> 0.276091958</td><td>  7.99</td><td> 8.596944</td></tr>\n",
       "\t<tr><th scope=row>18446</th><td> 18446</td><td> 1.009333350</td><td>-0.02685341</td><td> 1.56324911</td><td> 2.806652660</td><td>-0.75524248</td><td> 1.04041256</td><td>-0.835851176</td><td> 0.520254861</td><td> 0.3038745</td><td>⋯</td><td> 0.10526248</td><td> 0.62123929</td><td>-0.078511356</td><td> 0.24536843</td><td> 0.459124094</td><td> 0.21568747</td><td> 0.056233256</td><td> 0.013853623</td><td>  1.52</td><td> 8.196944</td></tr>\n",
       "\t<tr><th scope=row>112221</th><td>112221</td><td>-0.624755191</td><td> 1.27776488</td><td> 0.89035735</td><td> 0.725772119</td><td> 0.29079661</td><td>-0.29113816</td><td> 0.337810342</td><td> 0.313289357</td><td>-0.8835960</td><td>⋯</td><td> 0.06720278</td><td> 0.11197705</td><td>-0.207229931</td><td>-0.44028816</td><td>-0.077663506</td><td>-0.36606107</td><td> 0.045525950</td><td> 0.063838123</td><td>  2.49</td><td>20.156667</td></tr>\n",
       "\t<tr><th scope=row>268039</th><td>268039</td><td> 2.242342456</td><td>-0.90443334</td><td>-1.93706493</td><td>-1.251952726</td><td> 0.10713224</td><td>-0.02864235</td><td>-0.526153162</td><td> 0.029430037</td><td>-0.3671855</td><td>⋯</td><td>-0.01119448</td><td>-0.16286105</td><td> 0.116179990</td><td>-0.40495452</td><td> 0.027646184</td><td>-0.25692589</td><td>-0.061271662</td><td>-0.081100673</td><td> 16.21</td><td>21.287222</td></tr>\n",
       "</tbody>\n",
       "</table>\n"
      ],
      "text/latex": [
       "A data.frame: 213605 × 31\n",
       "\\begin{tabular}{r|lllllllllllllllllllll}\n",
       "  & trans\\_ID & V1 & V2 & V3 & V4 & V5 & V6 & V7 & V8 & V9 & ⋯ & V21 & V22 & V23 & V24 & V25 & V26 & V27 & V28 & Amount & hour\\_of\\_day\\\\\n",
       "  & <int> & <dbl> & <dbl> & <dbl> & <dbl> & <dbl> & <dbl> & <dbl> & <dbl> & <dbl> & ⋯ & <dbl> & <dbl> & <dbl> & <dbl> & <dbl> & <dbl> & <dbl> & <dbl> & <dbl> & <dbl>\\\\\n",
       "\\hline\n",
       "\t202933 & 202933 &  1.80792751 & -0.54878057 & -0.01156397 &  1.20490666 & -0.7128220 &  0.46870320 & -0.97677819 &  0.40989683 &  1.16624661 & ⋯ &  0.10904330 &  0.243707949 &  0.298573970 &  0.612687300 & -0.44285542 & -0.80326897 &  0.054102227 & -0.020359028 &  45.00 & 13.37750000\\\\\n",
       "\t80960 &  80960 & -0.73699566 &  0.32268859 &  0.62929389 & -2.13518248 &  2.2909686 &  3.41380035 & -0.12071883 &  0.97850508 & -0.36845570 & ⋯ &  0.08942416 & -0.004409285 & -0.323765896 &  1.069778006 &  0.40274757 &  1.01149470 & -0.047180148 &  0.048079411 &  15.99 & 16.31583333\\\\\n",
       "\t108086 & 108086 &  1.14995864 & -0.13245379 &  0.71275158 &  1.27010136 &  0.1232046 &  1.72054940 & -0.59560764 &  0.45192120 &  0.90646325 & ⋯ & -0.44471412 & -0.754591776 & -0.103197724 & -1.315136102 &  0.62013231 & -0.44529285 &  0.095188535 &  0.005707190 &   2.00 & 19.65472222\\\\\n",
       "\t173624 & 173624 &  0.01008703 &  1.07800439 & -2.61608258 & -1.19662597 &  2.4694927 &  4.22623610 & -2.35356555 & -4.35915578 & -0.55166840 & ⋯ & -2.89449678 & -0.382690684 &  0.448544440 &  0.567280337 &  0.41148819 &  0.22584208 & -0.080746846 &  0.150268458 &   1.98 &  9.76916667\\\\\n",
       "\t151212 & 151212 &  1.98003533 & -0.16038517 & -1.08371334 &  0.83599825 & -0.1179714 & -1.01613889 &  0.06713833 & -0.30650042 &  2.08243589 & ⋯ & -0.38753247 & -0.846273155 &  0.271807651 & -0.181939913 & -0.25111173 &  0.06528868 & -0.100476031 & -0.065099798 &  39.99 &  2.38916667\\\\\n",
       "\t238966 & 238966 & -1.19113206 &  1.15642968 &  0.22199884 & -1.18663530 & -0.4074988 &  0.28626089 & -0.80473627 &  0.31616539 &  0.25596806 & ⋯ &  0.67239271 & -0.867600351 &  0.065782570 & -1.113619410 & -0.10929681 & -0.22622155 & -0.332302797 & -0.132005891 &   0.77 & 17.63833333\\\\\n",
       "\t137544 & 137544 & -4.81525279 &  4.42645901 & -2.40824480 & -0.46550336 & -2.1264927 &  0.04468421 & -0.67389670 &  2.35336106 &  0.40531264 & ⋯ & -0.14027555 & -0.496081534 &  0.212004034 & -0.813967683 &  0.48120108 & -0.72928613 & -0.848898661 & -0.438493035 & 141.49 & 22.83750000\\\\\n",
       "\t257055 & 257055 &  2.02436238 & -0.29373079 & -2.08411219 &  0.12153414 &  0.6702964 & -0.22720102 &  0.27102879 & -0.08440989 &  0.36395306 & ⋯ & -0.02121870 & -0.059847770 &  0.014009463 &  0.054332687 &  0.17728392 &  0.55332308 & -0.119150398 & -0.083987103 &  39.95 & 19.88361111\\\\\n",
       "\t152419 & 152419 &  2.00811366 & -0.58312767 & -0.34148965 &  0.10441998 & -0.2803791 &  0.87035320 & -1.21863049 &  0.30760549 &  2.61766698 & ⋯ & -0.14939835 & -0.155027493 &  0.228712792 & -0.411652017 & -0.52406318 &  0.45862670 & -0.056448481 & -0.059284789 &  14.95 &  3.04611111\\\\\n",
       "\t77081 &  77081 &  1.16280694 &  1.08174078 & -1.53283552 &  1.60813119 &  0.6196744 & -1.66183167 &  0.57303242 & -0.15342529 & -0.44784867 & ⋯ & -0.15789607 & -0.510704118 & -0.185911065 &  0.161782255 &  0.73394040 & -0.31970752 &  0.021999867 &  0.087337156 &  14.62 & 15.79972222\\\\\n",
       "\t204383 & 204383 & -0.69156624 &  1.03331476 & -0.23584175 & -0.78325526 &  0.7686467 & -0.49571603 &  1.37055860 & -0.89549003 &  0.91678133 & ⋯ &  0.13985752 &  0.901485859 & -0.160606350 &  0.704835756 & -1.03803494 & -0.07076957 & -2.058578763 & -1.343173092 &  35.67 & 13.57055556\\\\\n",
       "\t167637 & 167637 &  1.88983437 & -2.10102812 & -0.79700600 & -1.18068628 & -1.7392891 & -0.53571661 & -1.04429876 & -0.24282184 & -0.87831348 & ⋯ &  0.17431286 &  0.783308578 & -0.104071506 & -0.023828040 & -0.05120297 &  0.09425536 &  0.002620790 & -0.017425119 & 210.00 &  9.00305556\\\\\n",
       "\t109563 & 109563 &  0.23181929 & -2.37977943 & -0.54304921 & -0.08297971 & -1.4578328 & -0.54326320 &  0.42775353 & -0.28263907 & -1.07446194 & ⋯ & -0.04697655 & -0.910574378 & -0.529611041 &  0.396816581 &  0.17685967 &  1.01352205 & -0.185379163 &  0.088898106 & 592.10 & 19.84361111\\\\\n",
       "\t18445 &  18445 & -8.25835675 &  5.65577384 & -9.38766523 &  1.95285588 & -4.7571002 & -2.05815636 & -2.98297394 &  5.55440391 & -0.34345889 & ⋯ & -0.07470215 & -0.830994751 & -0.020727064 & -0.396385126 &  0.46322718 & -0.33721450 & -0.042126057 & -0.282182687 &  89.99 &  8.19666667\\\\\n",
       "\t280175 & 280175 &  2.12422641 & -0.93214536 & -0.42691410 & -0.75076975 & -1.1524972 & -0.83918725 & -0.86653792 & -0.23988869 & -0.05883402 & ⋯ &  0.35026053 &  1.119633361 &  0.104073955 &  0.120212033 & -0.11595356 & -0.09680984 &  0.015105430 & -0.041512102 &  32.37 & 23.04611111\\\\\n",
       "\t206486 & 206486 &  0.14204916 &  1.06535287 & -0.40763242 & -0.55007133 &  0.9595660 & -0.80650576 &  1.02489411 & -0.14161778 & -0.12952014 & ⋯ & -0.33478088 & -0.795233029 &  0.095055807 &  0.573377392 & -0.39779370 &  0.11177087 &  0.224516991 &  0.085570944 &   6.99 & 13.84111111\\\\\n",
       "\t79963 &  79963 &  1.37472721 & -0.46358401 &  0.47026348 & -0.85672092 & -0.8479870 & -0.50363065 & -0.60660564 & -0.06489287 & -1.10656855 & ⋯ & -0.05531011 & -0.291074453 &  0.067857053 &  0.009341216 &  0.26736936 & -0.48026863 &  0.009772274 &  0.011799622 &  15.00 & 16.18555556\\\\\n",
       "\t89834 &  89834 &  1.08087936 & -1.66692134 &  0.73384549 & -1.23642116 & -2.0123849 & -0.52100507 & -1.05733350 & -0.09510989 & -1.99329705 & ⋯ &  0.12556356 &  0.348400920 & -0.160630562 &  0.555595203 &  0.23711118 & -0.15541094 &  0.017532684 &  0.053095804 & 199.00 & 17.42916667\\\\\n",
       "\t141408 & 141408 & -1.04943603 & -0.21816373 &  2.04536821 & -0.28286654 &  0.5876978 &  0.25414359 &  0.28262448 & -0.21049900 &  1.04638294 & ⋯ & -0.23831487 &  0.236593500 &  0.266392637 & -0.424405464 & -0.03377837 &  0.16335927 & -0.181432873 & -0.451702330 &  11.50 & 23.41611111\\\\\n",
       "\t102017 & 102017 & -0.50690077 &  0.30186121 &  1.86175079 &  1.30457135 & -0.1178534 &  0.74749986 &  0.69497538 &  0.12495573 & -0.15388870 & ⋯ &  0.10158913 &  0.475386084 &  0.004539185 &  0.008840962 & -0.15395703 & -0.22628963 & -0.020039257 & -0.091340706 & 105.26 & 18.89500000\\\\\n",
       "\t134255 & 134255 & -0.43723574 &  1.09838694 &  1.71561401 &  0.03974221 & -0.1726745 & -1.07253687 &  0.75208750 & -0.12249399 & -0.51164601 & ⋯ & -0.19919412 & -0.483736520 &  0.011191056 &  0.709446365 & -0.21657782 &  0.04888982 &  0.269740749 &  0.125690175 &   2.69 & 22.42138889\\\\\n",
       "\t131256 & 131256 &  1.29341132 &  0.15390758 &  0.07591772 &  0.08407161 & -0.3859677 & -1.32661153 &  0.28586229 & -0.28630831 &  0.01488701 & ⋯ & -0.44839337 & -1.380033357 &  0.211884179 &  0.385711189 &  0.08128012 &  0.62379648 & -0.105322398 &  0.003199844 &  10.94 & 22.09277778\\\\\n",
       "\t31423 &  31423 & -1.56655698 & -0.37325503 &  2.04583144 &  0.04349409 & -0.4227787 & -0.26876841 & -0.10833733 & -0.66514103 &  0.77617117 & ⋯ &  0.58019868 & -0.511253441 & -0.006697992 &  0.419400335 & -0.26364475 &  0.22151929 &  0.316508800 &  0.047199243 & 159.14 & 10.09944444\\\\\n",
       "\t184965 & 184965 &  1.92188737 & -2.16477100 &  0.51224406 & -1.31468221 & -2.7053840 & -0.26733815 & -2.09475064 &  0.22420962 & -0.57129806 & ⋯ &  0.21310198 &  0.855824632 &  0.257434313 &  0.456981154 & -0.72772768 & -0.14769156 &  0.054356913 & -0.014681516 & 120.00 & 11.13083333\\\\\n",
       "\t143888 & 143888 & -1.51717267 &  1.15065706 &  1.11288679 & -0.52059434 &  0.4116737 & -1.29218795 &  0.64926881 & -0.30212952 &  0.13420140 & ⋯ & -0.17796562 & -0.341268416 & -0.243600855 &  0.402804212 & -0.37308939 & -0.06892196 &  0.033631465 &  0.200166112 &  14.64 & 23.80611111\\\\\n",
       "\t506 &    506 &  1.14924640 &  0.01835829 &  0.43043951 &  0.53750263 & -0.4307535 & -0.39469852 & -0.15139839 &  0.13503148 & -0.00495869 & ⋯ & -0.12493240 & -0.449759669 &  0.135781046 &  0.185129747 &  0.12906190 &  0.17778005 & -0.034564615 &  0.001486565 &  10.29 &  0.10361111\\\\\n",
       "\t172549 & 172549 & -4.06923460 &  0.22131683 & -0.06222033 & -2.77132123 & -2.0130686 & -0.20030836 & -1.56962972 & -2.57415520 & -1.36718243 & ⋯ &  2.58251280 & -1.156569771 &  0.287644196 &  0.004194617 &  0.94389320 & -0.06760296 &  0.445605625 &  0.115416013 & 114.00 &  9.65027778\\\\\n",
       "\t247448 & 247448 & -0.33397258 &  0.73320141 &  1.46929484 & -0.53261182 &  0.3286078 &  0.14116769 &  0.41114649 &  0.11096779 &  0.20312479 & ⋯ & -0.14281021 & -0.351579220 & -0.098011645 &  0.444138820 & -0.25865725 & -0.54848676 &  0.156928069 &  0.151810449 &   3.99 & 18.66083333\\\\\n",
       "\t235598 & 235598 &  2.02369909 & -0.42384915 & -2.62861766 & -0.67667785 &  2.4090353 &  3.33960285 & -0.42619983 &  0.77840122 &  0.44040410 & ⋯ & -0.24512572 & -0.684483305 &  0.313074896 &  0.714160048 & -0.16483019 &  0.29600791 & -0.057090664 & -0.067829290 &  15.76 & 17.23861111\\\\\n",
       "\t145050 & 145050 &  1.06177901 & -1.54782368 & -2.62964252 &  0.66829338 &  0.1440768 & -0.44113549 &  0.87206311 & -0.39574445 &  0.87072137 & ⋯ &  0.01579792 & -0.825729741 & -0.418136117 & -1.135133669 & -0.09848390 & -0.08048952 & -0.096343897 &  0.065302451 & 539.66 &  0.05277778\\\\\n",
       "\t⋮ & ⋮ & ⋮ & ⋮ & ⋮ & ⋮ & ⋮ & ⋮ & ⋮ & ⋮ & ⋮ & ⋱ & ⋮ & ⋮ & ⋮ & ⋮ & ⋮ & ⋮ & ⋮ & ⋮ & ⋮ & ⋮\\\\\n",
       "\t165166 & 165166 &  0.044692558 &  0.91819573 &  0.31258375 & -0.589906801 &  0.46573409 & -1.11530316 &  1.057988493 & -0.247553400 & -0.1502256 & ⋯ & -0.25219618 & -0.51265543 &  0.061350853 &  0.05852978 & -0.467062137 &  0.13541805 &  0.251896553 &  0.098974431 &   2.69 &  8.566944\\\\\n",
       "\t262439 & 262439 & -0.483349978 &  0.52472087 &  0.08030313 &  0.009398517 & -0.38658104 & -0.69535422 &  0.735522170 & -0.062585048 &  0.2837774 & ⋯ &  0.05787920 &  0.29187623 &  0.101448076 &  0.06041366 & -0.886674805 &  0.11484862 & -0.393971067 & -0.197938923 &  99.95 & 20.576389\\\\\n",
       "\t173376 & 173376 &  1.803514185 & -1.10406481 & -0.50317576 & -0.510702339 & -1.19422284 & -0.77816922 & -0.616533495 & -0.071711443 &  1.8793381 & ⋯ &  0.22176132 &  0.61502647 &  0.075564268 &  0.05450807 & -0.378022379 &  0.72988348 & -0.053248322 & -0.034731004 & 122.00 &  9.738889\\\\\n",
       "\t171388 & 171388 &  1.295690867 & -3.15604008 & -1.58878762 & -1.213636691 & -1.05169197 &  1.54754625 & -0.910726952 &  0.361499812 & -0.7811022 & ⋯ & -0.18642859 & -0.75551358 & -0.062320599 & -1.66811583 & -0.531596387 & -0.25215088 & -0.021924150 & -0.007241881 & 450.74 &  9.505000\\\\\n",
       "\t205187 & 205187 & -2.606415958 & -1.98704182 &  0.57818880 &  2.921958802 &  5.12309224 &  4.13079005 & -0.047846177 &  0.126553390 & -0.3426817 & ⋯ & -0.33186067 &  0.58338231 & -0.480123517 &  0.79910705 &  0.136750832 &  0.19565713 & -0.685803857 & -0.303698943 & 124.24 & 13.674167\\\\\n",
       "\t98086 &  98086 & -0.859109347 &  0.40884187 &  0.08915813 &  0.949218025 & -0.34212423 &  0.47294802 &  2.418302608 & -0.713949977 & -0.1815882 & ⋯ & -0.08121501 &  0.49801350 & -0.094125392 & -0.38240874 & -0.202560096 & -0.31815241 &  0.186716679 &  0.087455991 & 355.84 & 18.475556\\\\\n",
       "\t32888 &  32888 & -0.362471932 &  1.10865546 &  1.19247210 & -0.135080360 &  0.30744927 & -0.46782679 &  0.624556233 &  0.066097470 & -0.7111279 & ⋯ & -0.22822635 & -0.59396820 & -0.078125336 & -0.03325083 & -0.129585629 &  0.07305984 &  0.245389895 &  0.085922154 &   0.89 & 10.278889\\\\\n",
       "\t182168 & 182168 &  1.964747917 & -1.29000337 &  0.29176312 & -0.218338302 & -1.49448450 &  0.51452338 & -1.492663024 &  0.224163116 &  0.4779680 & ⋯ & -0.37456913 & -0.26616393 &  0.273647869 & -0.29236781 & -0.561598535 &  0.52168495 &  0.032796725 & -0.039612832 &  42.00 & 10.802500\\\\\n",
       "\t72389 &  72389 &  1.295257310 &  0.40023495 & -1.83261628 &  0.133846131 &  2.55145234 &  3.06013530 & -0.285335459 &  0.756222478 & -0.2096612 & ⋯ & -0.10551321 & -0.38545441 & -0.154807647 &  0.88159064 &  0.849887575 & -0.31181909 &  0.034099181 &  0.044343542 &   1.00 & 15.190833\\\\\n",
       "\t261842 & 261842 &  1.789540368 & -0.48233102 & -0.42261815 &  1.182891801 & -0.46951400 &  0.15881254 & -0.614140380 &  0.219083100 &  0.7914581 & ⋯ &  0.30174097 &  0.74170429 &  0.118511634 &  0.72046376 & -0.167761949 & -0.62115672 &  0.028015209 & -0.022920046 &  75.00 & 20.500833\\\\\n",
       "\t23100 &  23100 &  1.189027993 & -0.15875064 & -0.21726641 & -0.242398415 & -0.46860308 & -1.30032547 &  0.278823264 & -0.217330218 & -0.1781750 & ⋯ &  0.01623764 & -0.14007768 & -0.082228612 &  0.60658672 &  0.349703459 &  1.42041961 & -0.163543319 & -0.017563892 &  55.00 &  9.052222\\\\\n",
       "\t15768 &  15768 & -1.265581547 &  0.97320044 &  1.13818475 &  1.973896539 &  0.84756584 &  0.58522299 &  0.207452449 &  0.626566779 & -1.9216518 & ⋯ &  0.18906590 &  0.10104926 & -0.385641969 & -0.94829475 &  0.569212287 &  0.25938249 & -0.087804183 & -0.083907868 &  45.61 &  7.556389\\\\\n",
       "\t157239 & 157239 & -2.399455008 & -0.26691056 &  2.75569174 & -2.132111334 & -0.46675481 &  0.81375545 & -0.543129519 &  0.376878600 &  4.1854377 & ⋯ & -0.38871261 &  0.42870492 & -0.044625350 &  0.77962979 &  0.820854213 &  0.66894605 &  0.441822127 &  0.020703568 &  26.00 &  6.489167\\\\\n",
       "\t270079 & 270079 &  1.375658639 & -0.86080151 & -1.80070987 &  1.193753552 &  0.76154150 &  0.96386858 &  0.367475607 &  0.114641362 &  0.1829643 & ⋯ &  0.50161847 &  1.03150790 & -0.135462634 & -0.32413309 &  0.018821814 & -0.38879685 & -0.001006059 & -0.008415479 & 281.15 & 21.530833\\\\\n",
       "\t10993 &  10993 &  1.284670753 & -0.32844123 &  0.43407216 & -0.895203928 & -0.24257928 &  0.50658283 & -0.732411313 &  0.089729376 &  3.1387839 & ⋯ & -0.21625462 & -0.08945351 & -0.181656934 & -1.35419167 &  0.600190808 & -0.61110628 &  0.082040434 &  0.013991248 &  11.85 &  5.259167\\\\\n",
       "\t25358 &  25358 &  1.069112600 & -0.08154333 &  0.64530262 &  1.500371150 & -0.69160191 & -0.52591938 & -0.047113279 & -0.019396479 &  0.6089588 & ⋯ & -0.24707457 & -0.73813843 &  0.003144041 &  0.32639896 &  0.426433868 & -0.53105416 &  0.019032055 &  0.036309119 &  69.25 &  9.325556\\\\\n",
       "\t84144 &  84144 &  1.196391821 & -0.79803741 & -0.51835881 & -1.015790080 & -0.07884796 &  0.19293825 & -0.190926208 & -0.002842119 & -1.2718177 & ⋯ & -0.12943430 & -0.77654272 & -0.103032913 & -1.17467554 &  0.356283100 & -0.45754883 & -0.027504155 &  0.009499275 & 131.00 & 16.716389\\\\\n",
       "\t257246 & 257246 &  1.520118676 & -0.81449120 & -1.69389649 &  0.760903870 & -0.05912508 & -1.09519862 &  0.837516059 & -0.533962954 &  0.1923599 & ⋯ &  0.02543895 & -0.37603065 & -0.077523541 & -0.04769727 & -0.089882855 &  0.15617661 & -0.119027603 & -0.013524080 & 293.90 & 19.908056\\\\\n",
       "\t9019 &   9019 & -0.597210713 &  0.81365435 &  1.58053352 &  1.441893577 &  0.36619393 &  0.30341644 &  0.247219120 &  0.250745206 &  0.9099256 & ⋯ & -0.12608001 &  0.09284108 & -0.082699317 & -0.05081261 & -0.168982514 & -0.27602745 &  0.382013275 &  0.189762398 &  18.04 &  3.485556\\\\\n",
       "\t103598 & 103598 & -0.939494691 &  0.84146259 &  0.86764360 &  0.814892783 & -1.06608088 &  0.37859985 &  0.768370168 &  0.392611909 & -0.7203533 & ⋯ &  0.36287185 &  0.96090779 &  0.058240566 &  0.02381212 & -0.250910243 & -0.24279649 &  0.023922431 &  0.031888598 & 203.75 & 19.091111\\\\\n",
       "\t8927 &   8927 &  0.001701113 &  0.37827212 &  1.51272695 &  0.867365275 & -0.36190049 & -0.45024577 &  0.053440500 & -0.159464740 &  1.3430395 & ⋯ & -0.13113074 &  0.09733985 &  0.012975812 &  0.44145933 & -0.405771764 &  1.24189552 & -0.017068271 &  0.027256592 &  32.13 &  3.405278\\\\\n",
       "\t120387 & 120387 & -0.244484073 &  0.47505381 &  1.94291414 &  0.075699659 & -0.30167450 &  0.28882978 & -0.008217914 &  0.222314651 &  0.4759177 & ⋯ & -0.07722869 & -0.08070238 & -0.195818114 & -0.43630531 & -0.077964888 &  0.33014302 &  0.038098057 &  0.023228640 &  11.50 & 21.058333\\\\\n",
       "\t273804 & 273804 &  2.040156956 &  0.08434168 & -1.95609070 &  0.312373070 &  0.72002975 & -0.53523439 &  0.283148486 & -0.260581193 &  0.3963234 & ⋯ & -0.36736175 & -0.99455353 &  0.228437254 &  0.01550869 & -0.170292987 &  0.19846583 & -0.064999625 & -0.027468359 &  39.99 & 22.029444\\\\\n",
       "\t40098 &  40098 &  1.185746226 & -0.59979666 &  0.47567368 & -0.089028581 & -0.40835330 &  0.88344079 & -0.728451999 &  0.290727708 &  1.3485609 & ⋯ & -0.27708807 & -0.60694371 & -0.095952641 & -1.26208024 &  0.222171067 &  1.05601828 & -0.029269516 &  0.003167585 &  50.25 & 11.136667\\\\\n",
       "\t68199 &  68199 & -1.104154772 &  0.41156689 &  0.19903772 &  3.083958595 & -1.05437079 &  1.06823273 &  1.397083802 &  0.614213549 & -1.5377322 & ⋯ &  0.38808843 &  0.53154809 &  0.917606739 & -0.03904876 & -0.595959790 &  0.19820358 &  0.201738880 &  0.213765848 & 383.11 & 14.687500\\\\\n",
       "\t97097 &  97097 & -0.369160858 &  0.73010595 & -0.29833366 & -1.083033323 &  2.65516183 &  3.19197335 &  0.035526794 &  0.945087576 & -0.4943888 & ⋯ & -0.30914858 & -1.01334130 & -0.027108314 &  0.93512420 & -0.001296083 &  0.08809202 &  0.242912071 &  0.093496881 &   2.58 & 18.352778\\\\\n",
       "\t165317 & 165317 & -1.249582793 &  1.40996118 &  1.76515182 &  0.639321706 & -0.29727238 & -0.25890604 &  0.353164812 &  0.219991568 &  0.3660926 & ⋯ & -0.25065492 & -0.64919950 & -0.150360358 & -0.15801534 &  0.292287462 & -0.63602851 &  0.414979878 &  0.276091958 &   7.99 &  8.596944\\\\\n",
       "\t18446 &  18446 &  1.009333350 & -0.02685341 &  1.56324911 &  2.806652660 & -0.75524248 &  1.04041256 & -0.835851176 &  0.520254861 &  0.3038745 & ⋯ &  0.10526248 &  0.62123929 & -0.078511356 &  0.24536843 &  0.459124094 &  0.21568747 &  0.056233256 &  0.013853623 &   1.52 &  8.196944\\\\\n",
       "\t112221 & 112221 & -0.624755191 &  1.27776488 &  0.89035735 &  0.725772119 &  0.29079661 & -0.29113816 &  0.337810342 &  0.313289357 & -0.8835960 & ⋯ &  0.06720278 &  0.11197705 & -0.207229931 & -0.44028816 & -0.077663506 & -0.36606107 &  0.045525950 &  0.063838123 &   2.49 & 20.156667\\\\\n",
       "\t268039 & 268039 &  2.242342456 & -0.90443334 & -1.93706493 & -1.251952726 &  0.10713224 & -0.02864235 & -0.526153162 &  0.029430037 & -0.3671855 & ⋯ & -0.01119448 & -0.16286105 &  0.116179990 & -0.40495452 &  0.027646184 & -0.25692589 & -0.061271662 & -0.081100673 &  16.21 & 21.287222\\\\\n",
       "\\end{tabular}\n"
      ],
      "text/markdown": [
       "\n",
       "A data.frame: 213605 × 31\n",
       "\n",
       "| <!--/--> | trans_ID &lt;int&gt; | V1 &lt;dbl&gt; | V2 &lt;dbl&gt; | V3 &lt;dbl&gt; | V4 &lt;dbl&gt; | V5 &lt;dbl&gt; | V6 &lt;dbl&gt; | V7 &lt;dbl&gt; | V8 &lt;dbl&gt; | V9 &lt;dbl&gt; | ⋯ ⋯ | V21 &lt;dbl&gt; | V22 &lt;dbl&gt; | V23 &lt;dbl&gt; | V24 &lt;dbl&gt; | V25 &lt;dbl&gt; | V26 &lt;dbl&gt; | V27 &lt;dbl&gt; | V28 &lt;dbl&gt; | Amount &lt;dbl&gt; | hour_of_day &lt;dbl&gt; |\n",
       "|---|---|---|---|---|---|---|---|---|---|---|---|---|---|---|---|---|---|---|---|---|---|\n",
       "| 202933 | 202933 |  1.80792751 | -0.54878057 | -0.01156397 |  1.20490666 | -0.7128220 |  0.46870320 | -0.97677819 |  0.40989683 |  1.16624661 | ⋯ |  0.10904330 |  0.243707949 |  0.298573970 |  0.612687300 | -0.44285542 | -0.80326897 |  0.054102227 | -0.020359028 |  45.00 | 13.37750000 |\n",
       "| 80960 |  80960 | -0.73699566 |  0.32268859 |  0.62929389 | -2.13518248 |  2.2909686 |  3.41380035 | -0.12071883 |  0.97850508 | -0.36845570 | ⋯ |  0.08942416 | -0.004409285 | -0.323765896 |  1.069778006 |  0.40274757 |  1.01149470 | -0.047180148 |  0.048079411 |  15.99 | 16.31583333 |\n",
       "| 108086 | 108086 |  1.14995864 | -0.13245379 |  0.71275158 |  1.27010136 |  0.1232046 |  1.72054940 | -0.59560764 |  0.45192120 |  0.90646325 | ⋯ | -0.44471412 | -0.754591776 | -0.103197724 | -1.315136102 |  0.62013231 | -0.44529285 |  0.095188535 |  0.005707190 |   2.00 | 19.65472222 |\n",
       "| 173624 | 173624 |  0.01008703 |  1.07800439 | -2.61608258 | -1.19662597 |  2.4694927 |  4.22623610 | -2.35356555 | -4.35915578 | -0.55166840 | ⋯ | -2.89449678 | -0.382690684 |  0.448544440 |  0.567280337 |  0.41148819 |  0.22584208 | -0.080746846 |  0.150268458 |   1.98 |  9.76916667 |\n",
       "| 151212 | 151212 |  1.98003533 | -0.16038517 | -1.08371334 |  0.83599825 | -0.1179714 | -1.01613889 |  0.06713833 | -0.30650042 |  2.08243589 | ⋯ | -0.38753247 | -0.846273155 |  0.271807651 | -0.181939913 | -0.25111173 |  0.06528868 | -0.100476031 | -0.065099798 |  39.99 |  2.38916667 |\n",
       "| 238966 | 238966 | -1.19113206 |  1.15642968 |  0.22199884 | -1.18663530 | -0.4074988 |  0.28626089 | -0.80473627 |  0.31616539 |  0.25596806 | ⋯ |  0.67239271 | -0.867600351 |  0.065782570 | -1.113619410 | -0.10929681 | -0.22622155 | -0.332302797 | -0.132005891 |   0.77 | 17.63833333 |\n",
       "| 137544 | 137544 | -4.81525279 |  4.42645901 | -2.40824480 | -0.46550336 | -2.1264927 |  0.04468421 | -0.67389670 |  2.35336106 |  0.40531264 | ⋯ | -0.14027555 | -0.496081534 |  0.212004034 | -0.813967683 |  0.48120108 | -0.72928613 | -0.848898661 | -0.438493035 | 141.49 | 22.83750000 |\n",
       "| 257055 | 257055 |  2.02436238 | -0.29373079 | -2.08411219 |  0.12153414 |  0.6702964 | -0.22720102 |  0.27102879 | -0.08440989 |  0.36395306 | ⋯ | -0.02121870 | -0.059847770 |  0.014009463 |  0.054332687 |  0.17728392 |  0.55332308 | -0.119150398 | -0.083987103 |  39.95 | 19.88361111 |\n",
       "| 152419 | 152419 |  2.00811366 | -0.58312767 | -0.34148965 |  0.10441998 | -0.2803791 |  0.87035320 | -1.21863049 |  0.30760549 |  2.61766698 | ⋯ | -0.14939835 | -0.155027493 |  0.228712792 | -0.411652017 | -0.52406318 |  0.45862670 | -0.056448481 | -0.059284789 |  14.95 |  3.04611111 |\n",
       "| 77081 |  77081 |  1.16280694 |  1.08174078 | -1.53283552 |  1.60813119 |  0.6196744 | -1.66183167 |  0.57303242 | -0.15342529 | -0.44784867 | ⋯ | -0.15789607 | -0.510704118 | -0.185911065 |  0.161782255 |  0.73394040 | -0.31970752 |  0.021999867 |  0.087337156 |  14.62 | 15.79972222 |\n",
       "| 204383 | 204383 | -0.69156624 |  1.03331476 | -0.23584175 | -0.78325526 |  0.7686467 | -0.49571603 |  1.37055860 | -0.89549003 |  0.91678133 | ⋯ |  0.13985752 |  0.901485859 | -0.160606350 |  0.704835756 | -1.03803494 | -0.07076957 | -2.058578763 | -1.343173092 |  35.67 | 13.57055556 |\n",
       "| 167637 | 167637 |  1.88983437 | -2.10102812 | -0.79700600 | -1.18068628 | -1.7392891 | -0.53571661 | -1.04429876 | -0.24282184 | -0.87831348 | ⋯ |  0.17431286 |  0.783308578 | -0.104071506 | -0.023828040 | -0.05120297 |  0.09425536 |  0.002620790 | -0.017425119 | 210.00 |  9.00305556 |\n",
       "| 109563 | 109563 |  0.23181929 | -2.37977943 | -0.54304921 | -0.08297971 | -1.4578328 | -0.54326320 |  0.42775353 | -0.28263907 | -1.07446194 | ⋯ | -0.04697655 | -0.910574378 | -0.529611041 |  0.396816581 |  0.17685967 |  1.01352205 | -0.185379163 |  0.088898106 | 592.10 | 19.84361111 |\n",
       "| 18445 |  18445 | -8.25835675 |  5.65577384 | -9.38766523 |  1.95285588 | -4.7571002 | -2.05815636 | -2.98297394 |  5.55440391 | -0.34345889 | ⋯ | -0.07470215 | -0.830994751 | -0.020727064 | -0.396385126 |  0.46322718 | -0.33721450 | -0.042126057 | -0.282182687 |  89.99 |  8.19666667 |\n",
       "| 280175 | 280175 |  2.12422641 | -0.93214536 | -0.42691410 | -0.75076975 | -1.1524972 | -0.83918725 | -0.86653792 | -0.23988869 | -0.05883402 | ⋯ |  0.35026053 |  1.119633361 |  0.104073955 |  0.120212033 | -0.11595356 | -0.09680984 |  0.015105430 | -0.041512102 |  32.37 | 23.04611111 |\n",
       "| 206486 | 206486 |  0.14204916 |  1.06535287 | -0.40763242 | -0.55007133 |  0.9595660 | -0.80650576 |  1.02489411 | -0.14161778 | -0.12952014 | ⋯ | -0.33478088 | -0.795233029 |  0.095055807 |  0.573377392 | -0.39779370 |  0.11177087 |  0.224516991 |  0.085570944 |   6.99 | 13.84111111 |\n",
       "| 79963 |  79963 |  1.37472721 | -0.46358401 |  0.47026348 | -0.85672092 | -0.8479870 | -0.50363065 | -0.60660564 | -0.06489287 | -1.10656855 | ⋯ | -0.05531011 | -0.291074453 |  0.067857053 |  0.009341216 |  0.26736936 | -0.48026863 |  0.009772274 |  0.011799622 |  15.00 | 16.18555556 |\n",
       "| 89834 |  89834 |  1.08087936 | -1.66692134 |  0.73384549 | -1.23642116 | -2.0123849 | -0.52100507 | -1.05733350 | -0.09510989 | -1.99329705 | ⋯ |  0.12556356 |  0.348400920 | -0.160630562 |  0.555595203 |  0.23711118 | -0.15541094 |  0.017532684 |  0.053095804 | 199.00 | 17.42916667 |\n",
       "| 141408 | 141408 | -1.04943603 | -0.21816373 |  2.04536821 | -0.28286654 |  0.5876978 |  0.25414359 |  0.28262448 | -0.21049900 |  1.04638294 | ⋯ | -0.23831487 |  0.236593500 |  0.266392637 | -0.424405464 | -0.03377837 |  0.16335927 | -0.181432873 | -0.451702330 |  11.50 | 23.41611111 |\n",
       "| 102017 | 102017 | -0.50690077 |  0.30186121 |  1.86175079 |  1.30457135 | -0.1178534 |  0.74749986 |  0.69497538 |  0.12495573 | -0.15388870 | ⋯ |  0.10158913 |  0.475386084 |  0.004539185 |  0.008840962 | -0.15395703 | -0.22628963 | -0.020039257 | -0.091340706 | 105.26 | 18.89500000 |\n",
       "| 134255 | 134255 | -0.43723574 |  1.09838694 |  1.71561401 |  0.03974221 | -0.1726745 | -1.07253687 |  0.75208750 | -0.12249399 | -0.51164601 | ⋯ | -0.19919412 | -0.483736520 |  0.011191056 |  0.709446365 | -0.21657782 |  0.04888982 |  0.269740749 |  0.125690175 |   2.69 | 22.42138889 |\n",
       "| 131256 | 131256 |  1.29341132 |  0.15390758 |  0.07591772 |  0.08407161 | -0.3859677 | -1.32661153 |  0.28586229 | -0.28630831 |  0.01488701 | ⋯ | -0.44839337 | -1.380033357 |  0.211884179 |  0.385711189 |  0.08128012 |  0.62379648 | -0.105322398 |  0.003199844 |  10.94 | 22.09277778 |\n",
       "| 31423 |  31423 | -1.56655698 | -0.37325503 |  2.04583144 |  0.04349409 | -0.4227787 | -0.26876841 | -0.10833733 | -0.66514103 |  0.77617117 | ⋯ |  0.58019868 | -0.511253441 | -0.006697992 |  0.419400335 | -0.26364475 |  0.22151929 |  0.316508800 |  0.047199243 | 159.14 | 10.09944444 |\n",
       "| 184965 | 184965 |  1.92188737 | -2.16477100 |  0.51224406 | -1.31468221 | -2.7053840 | -0.26733815 | -2.09475064 |  0.22420962 | -0.57129806 | ⋯ |  0.21310198 |  0.855824632 |  0.257434313 |  0.456981154 | -0.72772768 | -0.14769156 |  0.054356913 | -0.014681516 | 120.00 | 11.13083333 |\n",
       "| 143888 | 143888 | -1.51717267 |  1.15065706 |  1.11288679 | -0.52059434 |  0.4116737 | -1.29218795 |  0.64926881 | -0.30212952 |  0.13420140 | ⋯ | -0.17796562 | -0.341268416 | -0.243600855 |  0.402804212 | -0.37308939 | -0.06892196 |  0.033631465 |  0.200166112 |  14.64 | 23.80611111 |\n",
       "| 506 |    506 |  1.14924640 |  0.01835829 |  0.43043951 |  0.53750263 | -0.4307535 | -0.39469852 | -0.15139839 |  0.13503148 | -0.00495869 | ⋯ | -0.12493240 | -0.449759669 |  0.135781046 |  0.185129747 |  0.12906190 |  0.17778005 | -0.034564615 |  0.001486565 |  10.29 |  0.10361111 |\n",
       "| 172549 | 172549 | -4.06923460 |  0.22131683 | -0.06222033 | -2.77132123 | -2.0130686 | -0.20030836 | -1.56962972 | -2.57415520 | -1.36718243 | ⋯ |  2.58251280 | -1.156569771 |  0.287644196 |  0.004194617 |  0.94389320 | -0.06760296 |  0.445605625 |  0.115416013 | 114.00 |  9.65027778 |\n",
       "| 247448 | 247448 | -0.33397258 |  0.73320141 |  1.46929484 | -0.53261182 |  0.3286078 |  0.14116769 |  0.41114649 |  0.11096779 |  0.20312479 | ⋯ | -0.14281021 | -0.351579220 | -0.098011645 |  0.444138820 | -0.25865725 | -0.54848676 |  0.156928069 |  0.151810449 |   3.99 | 18.66083333 |\n",
       "| 235598 | 235598 |  2.02369909 | -0.42384915 | -2.62861766 | -0.67667785 |  2.4090353 |  3.33960285 | -0.42619983 |  0.77840122 |  0.44040410 | ⋯ | -0.24512572 | -0.684483305 |  0.313074896 |  0.714160048 | -0.16483019 |  0.29600791 | -0.057090664 | -0.067829290 |  15.76 | 17.23861111 |\n",
       "| 145050 | 145050 |  1.06177901 | -1.54782368 | -2.62964252 |  0.66829338 |  0.1440768 | -0.44113549 |  0.87206311 | -0.39574445 |  0.87072137 | ⋯ |  0.01579792 | -0.825729741 | -0.418136117 | -1.135133669 | -0.09848390 | -0.08048952 | -0.096343897 |  0.065302451 | 539.66 |  0.05277778 |\n",
       "| ⋮ | ⋮ | ⋮ | ⋮ | ⋮ | ⋮ | ⋮ | ⋮ | ⋮ | ⋮ | ⋮ | ⋱ | ⋮ | ⋮ | ⋮ | ⋮ | ⋮ | ⋮ | ⋮ | ⋮ | ⋮ | ⋮ |\n",
       "| 165166 | 165166 |  0.044692558 |  0.91819573 |  0.31258375 | -0.589906801 |  0.46573409 | -1.11530316 |  1.057988493 | -0.247553400 | -0.1502256 | ⋯ | -0.25219618 | -0.51265543 |  0.061350853 |  0.05852978 | -0.467062137 |  0.13541805 |  0.251896553 |  0.098974431 |   2.69 |  8.566944 |\n",
       "| 262439 | 262439 | -0.483349978 |  0.52472087 |  0.08030313 |  0.009398517 | -0.38658104 | -0.69535422 |  0.735522170 | -0.062585048 |  0.2837774 | ⋯ |  0.05787920 |  0.29187623 |  0.101448076 |  0.06041366 | -0.886674805 |  0.11484862 | -0.393971067 | -0.197938923 |  99.95 | 20.576389 |\n",
       "| 173376 | 173376 |  1.803514185 | -1.10406481 | -0.50317576 | -0.510702339 | -1.19422284 | -0.77816922 | -0.616533495 | -0.071711443 |  1.8793381 | ⋯ |  0.22176132 |  0.61502647 |  0.075564268 |  0.05450807 | -0.378022379 |  0.72988348 | -0.053248322 | -0.034731004 | 122.00 |  9.738889 |\n",
       "| 171388 | 171388 |  1.295690867 | -3.15604008 | -1.58878762 | -1.213636691 | -1.05169197 |  1.54754625 | -0.910726952 |  0.361499812 | -0.7811022 | ⋯ | -0.18642859 | -0.75551358 | -0.062320599 | -1.66811583 | -0.531596387 | -0.25215088 | -0.021924150 | -0.007241881 | 450.74 |  9.505000 |\n",
       "| 205187 | 205187 | -2.606415958 | -1.98704182 |  0.57818880 |  2.921958802 |  5.12309224 |  4.13079005 | -0.047846177 |  0.126553390 | -0.3426817 | ⋯ | -0.33186067 |  0.58338231 | -0.480123517 |  0.79910705 |  0.136750832 |  0.19565713 | -0.685803857 | -0.303698943 | 124.24 | 13.674167 |\n",
       "| 98086 |  98086 | -0.859109347 |  0.40884187 |  0.08915813 |  0.949218025 | -0.34212423 |  0.47294802 |  2.418302608 | -0.713949977 | -0.1815882 | ⋯ | -0.08121501 |  0.49801350 | -0.094125392 | -0.38240874 | -0.202560096 | -0.31815241 |  0.186716679 |  0.087455991 | 355.84 | 18.475556 |\n",
       "| 32888 |  32888 | -0.362471932 |  1.10865546 |  1.19247210 | -0.135080360 |  0.30744927 | -0.46782679 |  0.624556233 |  0.066097470 | -0.7111279 | ⋯ | -0.22822635 | -0.59396820 | -0.078125336 | -0.03325083 | -0.129585629 |  0.07305984 |  0.245389895 |  0.085922154 |   0.89 | 10.278889 |\n",
       "| 182168 | 182168 |  1.964747917 | -1.29000337 |  0.29176312 | -0.218338302 | -1.49448450 |  0.51452338 | -1.492663024 |  0.224163116 |  0.4779680 | ⋯ | -0.37456913 | -0.26616393 |  0.273647869 | -0.29236781 | -0.561598535 |  0.52168495 |  0.032796725 | -0.039612832 |  42.00 | 10.802500 |\n",
       "| 72389 |  72389 |  1.295257310 |  0.40023495 | -1.83261628 |  0.133846131 |  2.55145234 |  3.06013530 | -0.285335459 |  0.756222478 | -0.2096612 | ⋯ | -0.10551321 | -0.38545441 | -0.154807647 |  0.88159064 |  0.849887575 | -0.31181909 |  0.034099181 |  0.044343542 |   1.00 | 15.190833 |\n",
       "| 261842 | 261842 |  1.789540368 | -0.48233102 | -0.42261815 |  1.182891801 | -0.46951400 |  0.15881254 | -0.614140380 |  0.219083100 |  0.7914581 | ⋯ |  0.30174097 |  0.74170429 |  0.118511634 |  0.72046376 | -0.167761949 | -0.62115672 |  0.028015209 | -0.022920046 |  75.00 | 20.500833 |\n",
       "| 23100 |  23100 |  1.189027993 | -0.15875064 | -0.21726641 | -0.242398415 | -0.46860308 | -1.30032547 |  0.278823264 | -0.217330218 | -0.1781750 | ⋯ |  0.01623764 | -0.14007768 | -0.082228612 |  0.60658672 |  0.349703459 |  1.42041961 | -0.163543319 | -0.017563892 |  55.00 |  9.052222 |\n",
       "| 15768 |  15768 | -1.265581547 |  0.97320044 |  1.13818475 |  1.973896539 |  0.84756584 |  0.58522299 |  0.207452449 |  0.626566779 | -1.9216518 | ⋯ |  0.18906590 |  0.10104926 | -0.385641969 | -0.94829475 |  0.569212287 |  0.25938249 | -0.087804183 | -0.083907868 |  45.61 |  7.556389 |\n",
       "| 157239 | 157239 | -2.399455008 | -0.26691056 |  2.75569174 | -2.132111334 | -0.46675481 |  0.81375545 | -0.543129519 |  0.376878600 |  4.1854377 | ⋯ | -0.38871261 |  0.42870492 | -0.044625350 |  0.77962979 |  0.820854213 |  0.66894605 |  0.441822127 |  0.020703568 |  26.00 |  6.489167 |\n",
       "| 270079 | 270079 |  1.375658639 | -0.86080151 | -1.80070987 |  1.193753552 |  0.76154150 |  0.96386858 |  0.367475607 |  0.114641362 |  0.1829643 | ⋯ |  0.50161847 |  1.03150790 | -0.135462634 | -0.32413309 |  0.018821814 | -0.38879685 | -0.001006059 | -0.008415479 | 281.15 | 21.530833 |\n",
       "| 10993 |  10993 |  1.284670753 | -0.32844123 |  0.43407216 | -0.895203928 | -0.24257928 |  0.50658283 | -0.732411313 |  0.089729376 |  3.1387839 | ⋯ | -0.21625462 | -0.08945351 | -0.181656934 | -1.35419167 |  0.600190808 | -0.61110628 |  0.082040434 |  0.013991248 |  11.85 |  5.259167 |\n",
       "| 25358 |  25358 |  1.069112600 | -0.08154333 |  0.64530262 |  1.500371150 | -0.69160191 | -0.52591938 | -0.047113279 | -0.019396479 |  0.6089588 | ⋯ | -0.24707457 | -0.73813843 |  0.003144041 |  0.32639896 |  0.426433868 | -0.53105416 |  0.019032055 |  0.036309119 |  69.25 |  9.325556 |\n",
       "| 84144 |  84144 |  1.196391821 | -0.79803741 | -0.51835881 | -1.015790080 | -0.07884796 |  0.19293825 | -0.190926208 | -0.002842119 | -1.2718177 | ⋯ | -0.12943430 | -0.77654272 | -0.103032913 | -1.17467554 |  0.356283100 | -0.45754883 | -0.027504155 |  0.009499275 | 131.00 | 16.716389 |\n",
       "| 257246 | 257246 |  1.520118676 | -0.81449120 | -1.69389649 |  0.760903870 | -0.05912508 | -1.09519862 |  0.837516059 | -0.533962954 |  0.1923599 | ⋯ |  0.02543895 | -0.37603065 | -0.077523541 | -0.04769727 | -0.089882855 |  0.15617661 | -0.119027603 | -0.013524080 | 293.90 | 19.908056 |\n",
       "| 9019 |   9019 | -0.597210713 |  0.81365435 |  1.58053352 |  1.441893577 |  0.36619393 |  0.30341644 |  0.247219120 |  0.250745206 |  0.9099256 | ⋯ | -0.12608001 |  0.09284108 | -0.082699317 | -0.05081261 | -0.168982514 | -0.27602745 |  0.382013275 |  0.189762398 |  18.04 |  3.485556 |\n",
       "| 103598 | 103598 | -0.939494691 |  0.84146259 |  0.86764360 |  0.814892783 | -1.06608088 |  0.37859985 |  0.768370168 |  0.392611909 | -0.7203533 | ⋯ |  0.36287185 |  0.96090779 |  0.058240566 |  0.02381212 | -0.250910243 | -0.24279649 |  0.023922431 |  0.031888598 | 203.75 | 19.091111 |\n",
       "| 8927 |   8927 |  0.001701113 |  0.37827212 |  1.51272695 |  0.867365275 | -0.36190049 | -0.45024577 |  0.053440500 | -0.159464740 |  1.3430395 | ⋯ | -0.13113074 |  0.09733985 |  0.012975812 |  0.44145933 | -0.405771764 |  1.24189552 | -0.017068271 |  0.027256592 |  32.13 |  3.405278 |\n",
       "| 120387 | 120387 | -0.244484073 |  0.47505381 |  1.94291414 |  0.075699659 | -0.30167450 |  0.28882978 | -0.008217914 |  0.222314651 |  0.4759177 | ⋯ | -0.07722869 | -0.08070238 | -0.195818114 | -0.43630531 | -0.077964888 |  0.33014302 |  0.038098057 |  0.023228640 |  11.50 | 21.058333 |\n",
       "| 273804 | 273804 |  2.040156956 |  0.08434168 | -1.95609070 |  0.312373070 |  0.72002975 | -0.53523439 |  0.283148486 | -0.260581193 |  0.3963234 | ⋯ | -0.36736175 | -0.99455353 |  0.228437254 |  0.01550869 | -0.170292987 |  0.19846583 | -0.064999625 | -0.027468359 |  39.99 | 22.029444 |\n",
       "| 40098 |  40098 |  1.185746226 | -0.59979666 |  0.47567368 | -0.089028581 | -0.40835330 |  0.88344079 | -0.728451999 |  0.290727708 |  1.3485609 | ⋯ | -0.27708807 | -0.60694371 | -0.095952641 | -1.26208024 |  0.222171067 |  1.05601828 | -0.029269516 |  0.003167585 |  50.25 | 11.136667 |\n",
       "| 68199 |  68199 | -1.104154772 |  0.41156689 |  0.19903772 |  3.083958595 | -1.05437079 |  1.06823273 |  1.397083802 |  0.614213549 | -1.5377322 | ⋯ |  0.38808843 |  0.53154809 |  0.917606739 | -0.03904876 | -0.595959790 |  0.19820358 |  0.201738880 |  0.213765848 | 383.11 | 14.687500 |\n",
       "| 97097 |  97097 | -0.369160858 |  0.73010595 | -0.29833366 | -1.083033323 |  2.65516183 |  3.19197335 |  0.035526794 |  0.945087576 | -0.4943888 | ⋯ | -0.30914858 | -1.01334130 | -0.027108314 |  0.93512420 | -0.001296083 |  0.08809202 |  0.242912071 |  0.093496881 |   2.58 | 18.352778 |\n",
       "| 165317 | 165317 | -1.249582793 |  1.40996118 |  1.76515182 |  0.639321706 | -0.29727238 | -0.25890604 |  0.353164812 |  0.219991568 |  0.3660926 | ⋯ | -0.25065492 | -0.64919950 | -0.150360358 | -0.15801534 |  0.292287462 | -0.63602851 |  0.414979878 |  0.276091958 |   7.99 |  8.596944 |\n",
       "| 18446 |  18446 |  1.009333350 | -0.02685341 |  1.56324911 |  2.806652660 | -0.75524248 |  1.04041256 | -0.835851176 |  0.520254861 |  0.3038745 | ⋯ |  0.10526248 |  0.62123929 | -0.078511356 |  0.24536843 |  0.459124094 |  0.21568747 |  0.056233256 |  0.013853623 |   1.52 |  8.196944 |\n",
       "| 112221 | 112221 | -0.624755191 |  1.27776488 |  0.89035735 |  0.725772119 |  0.29079661 | -0.29113816 |  0.337810342 |  0.313289357 | -0.8835960 | ⋯ |  0.06720278 |  0.11197705 | -0.207229931 | -0.44028816 | -0.077663506 | -0.36606107 |  0.045525950 |  0.063838123 |   2.49 | 20.156667 |\n",
       "| 268039 | 268039 |  2.242342456 | -0.90443334 | -1.93706493 | -1.251952726 |  0.10713224 | -0.02864235 | -0.526153162 |  0.029430037 | -0.3671855 | ⋯ | -0.01119448 | -0.16286105 |  0.116179990 | -0.40495452 |  0.027646184 | -0.25692589 | -0.061271662 | -0.081100673 |  16.21 | 21.287222 |\n",
       "\n"
      ],
      "text/plain": [
       "       trans_ID V1           V2          V3          V4           V5         \n",
       "202933 202933    1.80792751  -0.54878057 -0.01156397  1.20490666  -0.7128220 \n",
       "80960   80960   -0.73699566   0.32268859  0.62929389 -2.13518248   2.2909686 \n",
       "108086 108086    1.14995864  -0.13245379  0.71275158  1.27010136   0.1232046 \n",
       "173624 173624    0.01008703   1.07800439 -2.61608258 -1.19662597   2.4694927 \n",
       "151212 151212    1.98003533  -0.16038517 -1.08371334  0.83599825  -0.1179714 \n",
       "238966 238966   -1.19113206   1.15642968  0.22199884 -1.18663530  -0.4074988 \n",
       "137544 137544   -4.81525279   4.42645901 -2.40824480 -0.46550336  -2.1264927 \n",
       "257055 257055    2.02436238  -0.29373079 -2.08411219  0.12153414   0.6702964 \n",
       "152419 152419    2.00811366  -0.58312767 -0.34148965  0.10441998  -0.2803791 \n",
       "77081   77081    1.16280694   1.08174078 -1.53283552  1.60813119   0.6196744 \n",
       "204383 204383   -0.69156624   1.03331476 -0.23584175 -0.78325526   0.7686467 \n",
       "167637 167637    1.88983437  -2.10102812 -0.79700600 -1.18068628  -1.7392891 \n",
       "109563 109563    0.23181929  -2.37977943 -0.54304921 -0.08297971  -1.4578328 \n",
       "18445   18445   -8.25835675   5.65577384 -9.38766523  1.95285588  -4.7571002 \n",
       "280175 280175    2.12422641  -0.93214536 -0.42691410 -0.75076975  -1.1524972 \n",
       "206486 206486    0.14204916   1.06535287 -0.40763242 -0.55007133   0.9595660 \n",
       "79963   79963    1.37472721  -0.46358401  0.47026348 -0.85672092  -0.8479870 \n",
       "89834   89834    1.08087936  -1.66692134  0.73384549 -1.23642116  -2.0123849 \n",
       "141408 141408   -1.04943603  -0.21816373  2.04536821 -0.28286654   0.5876978 \n",
       "102017 102017   -0.50690077   0.30186121  1.86175079  1.30457135  -0.1178534 \n",
       "134255 134255   -0.43723574   1.09838694  1.71561401  0.03974221  -0.1726745 \n",
       "131256 131256    1.29341132   0.15390758  0.07591772  0.08407161  -0.3859677 \n",
       "31423   31423   -1.56655698  -0.37325503  2.04583144  0.04349409  -0.4227787 \n",
       "184965 184965    1.92188737  -2.16477100  0.51224406 -1.31468221  -2.7053840 \n",
       "143888 143888   -1.51717267   1.15065706  1.11288679 -0.52059434   0.4116737 \n",
       "506       506    1.14924640   0.01835829  0.43043951  0.53750263  -0.4307535 \n",
       "172549 172549   -4.06923460   0.22131683 -0.06222033 -2.77132123  -2.0130686 \n",
       "247448 247448   -0.33397258   0.73320141  1.46929484 -0.53261182   0.3286078 \n",
       "235598 235598    2.02369909  -0.42384915 -2.62861766 -0.67667785   2.4090353 \n",
       "145050 145050    1.06177901  -1.54782368 -2.62964252  0.66829338   0.1440768 \n",
       "⋮      ⋮        ⋮            ⋮           ⋮           ⋮            ⋮          \n",
       "165166 165166    0.044692558  0.91819573  0.31258375 -0.589906801  0.46573409\n",
       "262439 262439   -0.483349978  0.52472087  0.08030313  0.009398517 -0.38658104\n",
       "173376 173376    1.803514185 -1.10406481 -0.50317576 -0.510702339 -1.19422284\n",
       "171388 171388    1.295690867 -3.15604008 -1.58878762 -1.213636691 -1.05169197\n",
       "205187 205187   -2.606415958 -1.98704182  0.57818880  2.921958802  5.12309224\n",
       "98086   98086   -0.859109347  0.40884187  0.08915813  0.949218025 -0.34212423\n",
       "32888   32888   -0.362471932  1.10865546  1.19247210 -0.135080360  0.30744927\n",
       "182168 182168    1.964747917 -1.29000337  0.29176312 -0.218338302 -1.49448450\n",
       "72389   72389    1.295257310  0.40023495 -1.83261628  0.133846131  2.55145234\n",
       "261842 261842    1.789540368 -0.48233102 -0.42261815  1.182891801 -0.46951400\n",
       "23100   23100    1.189027993 -0.15875064 -0.21726641 -0.242398415 -0.46860308\n",
       "15768   15768   -1.265581547  0.97320044  1.13818475  1.973896539  0.84756584\n",
       "157239 157239   -2.399455008 -0.26691056  2.75569174 -2.132111334 -0.46675481\n",
       "270079 270079    1.375658639 -0.86080151 -1.80070987  1.193753552  0.76154150\n",
       "10993   10993    1.284670753 -0.32844123  0.43407216 -0.895203928 -0.24257928\n",
       "25358   25358    1.069112600 -0.08154333  0.64530262  1.500371150 -0.69160191\n",
       "84144   84144    1.196391821 -0.79803741 -0.51835881 -1.015790080 -0.07884796\n",
       "257246 257246    1.520118676 -0.81449120 -1.69389649  0.760903870 -0.05912508\n",
       "9019     9019   -0.597210713  0.81365435  1.58053352  1.441893577  0.36619393\n",
       "103598 103598   -0.939494691  0.84146259  0.86764360  0.814892783 -1.06608088\n",
       "8927     8927    0.001701113  0.37827212  1.51272695  0.867365275 -0.36190049\n",
       "120387 120387   -0.244484073  0.47505381  1.94291414  0.075699659 -0.30167450\n",
       "273804 273804    2.040156956  0.08434168 -1.95609070  0.312373070  0.72002975\n",
       "40098   40098    1.185746226 -0.59979666  0.47567368 -0.089028581 -0.40835330\n",
       "68199   68199   -1.104154772  0.41156689  0.19903772  3.083958595 -1.05437079\n",
       "97097   97097   -0.369160858  0.73010595 -0.29833366 -1.083033323  2.65516183\n",
       "165317 165317   -1.249582793  1.40996118  1.76515182  0.639321706 -0.29727238\n",
       "18446   18446    1.009333350 -0.02685341  1.56324911  2.806652660 -0.75524248\n",
       "112221 112221   -0.624755191  1.27776488  0.89035735  0.725772119  0.29079661\n",
       "268039 268039    2.242342456 -0.90443334 -1.93706493 -1.251952726  0.10713224\n",
       "       V6          V7           V8           V9          ⋯ V21        \n",
       "202933  0.46870320 -0.97677819   0.40989683   1.16624661 ⋯  0.10904330\n",
       "80960   3.41380035 -0.12071883   0.97850508  -0.36845570 ⋯  0.08942416\n",
       "108086  1.72054940 -0.59560764   0.45192120   0.90646325 ⋯ -0.44471412\n",
       "173624  4.22623610 -2.35356555  -4.35915578  -0.55166840 ⋯ -2.89449678\n",
       "151212 -1.01613889  0.06713833  -0.30650042   2.08243589 ⋯ -0.38753247\n",
       "238966  0.28626089 -0.80473627   0.31616539   0.25596806 ⋯  0.67239271\n",
       "137544  0.04468421 -0.67389670   2.35336106   0.40531264 ⋯ -0.14027555\n",
       "257055 -0.22720102  0.27102879  -0.08440989   0.36395306 ⋯ -0.02121870\n",
       "152419  0.87035320 -1.21863049   0.30760549   2.61766698 ⋯ -0.14939835\n",
       "77081  -1.66183167  0.57303242  -0.15342529  -0.44784867 ⋯ -0.15789607\n",
       "204383 -0.49571603  1.37055860  -0.89549003   0.91678133 ⋯  0.13985752\n",
       "167637 -0.53571661 -1.04429876  -0.24282184  -0.87831348 ⋯  0.17431286\n",
       "109563 -0.54326320  0.42775353  -0.28263907  -1.07446194 ⋯ -0.04697655\n",
       "18445  -2.05815636 -2.98297394   5.55440391  -0.34345889 ⋯ -0.07470215\n",
       "280175 -0.83918725 -0.86653792  -0.23988869  -0.05883402 ⋯  0.35026053\n",
       "206486 -0.80650576  1.02489411  -0.14161778  -0.12952014 ⋯ -0.33478088\n",
       "79963  -0.50363065 -0.60660564  -0.06489287  -1.10656855 ⋯ -0.05531011\n",
       "89834  -0.52100507 -1.05733350  -0.09510989  -1.99329705 ⋯  0.12556356\n",
       "141408  0.25414359  0.28262448  -0.21049900   1.04638294 ⋯ -0.23831487\n",
       "102017  0.74749986  0.69497538   0.12495573  -0.15388870 ⋯  0.10158913\n",
       "134255 -1.07253687  0.75208750  -0.12249399  -0.51164601 ⋯ -0.19919412\n",
       "131256 -1.32661153  0.28586229  -0.28630831   0.01488701 ⋯ -0.44839337\n",
       "31423  -0.26876841 -0.10833733  -0.66514103   0.77617117 ⋯  0.58019868\n",
       "184965 -0.26733815 -2.09475064   0.22420962  -0.57129806 ⋯  0.21310198\n",
       "143888 -1.29218795  0.64926881  -0.30212952   0.13420140 ⋯ -0.17796562\n",
       "506    -0.39469852 -0.15139839   0.13503148  -0.00495869 ⋯ -0.12493240\n",
       "172549 -0.20030836 -1.56962972  -2.57415520  -1.36718243 ⋯  2.58251280\n",
       "247448  0.14116769  0.41114649   0.11096779   0.20312479 ⋯ -0.14281021\n",
       "235598  3.33960285 -0.42619983   0.77840122   0.44040410 ⋯ -0.24512572\n",
       "145050 -0.44113549  0.87206311  -0.39574445   0.87072137 ⋯  0.01579792\n",
       "⋮      ⋮           ⋮            ⋮            ⋮           ⋱ ⋮          \n",
       "165166 -1.11530316  1.057988493 -0.247553400 -0.1502256  ⋯ -0.25219618\n",
       "262439 -0.69535422  0.735522170 -0.062585048  0.2837774  ⋯  0.05787920\n",
       "173376 -0.77816922 -0.616533495 -0.071711443  1.8793381  ⋯  0.22176132\n",
       "171388  1.54754625 -0.910726952  0.361499812 -0.7811022  ⋯ -0.18642859\n",
       "205187  4.13079005 -0.047846177  0.126553390 -0.3426817  ⋯ -0.33186067\n",
       "98086   0.47294802  2.418302608 -0.713949977 -0.1815882  ⋯ -0.08121501\n",
       "32888  -0.46782679  0.624556233  0.066097470 -0.7111279  ⋯ -0.22822635\n",
       "182168  0.51452338 -1.492663024  0.224163116  0.4779680  ⋯ -0.37456913\n",
       "72389   3.06013530 -0.285335459  0.756222478 -0.2096612  ⋯ -0.10551321\n",
       "261842  0.15881254 -0.614140380  0.219083100  0.7914581  ⋯  0.30174097\n",
       "23100  -1.30032547  0.278823264 -0.217330218 -0.1781750  ⋯  0.01623764\n",
       "15768   0.58522299  0.207452449  0.626566779 -1.9216518  ⋯  0.18906590\n",
       "157239  0.81375545 -0.543129519  0.376878600  4.1854377  ⋯ -0.38871261\n",
       "270079  0.96386858  0.367475607  0.114641362  0.1829643  ⋯  0.50161847\n",
       "10993   0.50658283 -0.732411313  0.089729376  3.1387839  ⋯ -0.21625462\n",
       "25358  -0.52591938 -0.047113279 -0.019396479  0.6089588  ⋯ -0.24707457\n",
       "84144   0.19293825 -0.190926208 -0.002842119 -1.2718177  ⋯ -0.12943430\n",
       "257246 -1.09519862  0.837516059 -0.533962954  0.1923599  ⋯  0.02543895\n",
       "9019    0.30341644  0.247219120  0.250745206  0.9099256  ⋯ -0.12608001\n",
       "103598  0.37859985  0.768370168  0.392611909 -0.7203533  ⋯  0.36287185\n",
       "8927   -0.45024577  0.053440500 -0.159464740  1.3430395  ⋯ -0.13113074\n",
       "120387  0.28882978 -0.008217914  0.222314651  0.4759177  ⋯ -0.07722869\n",
       "273804 -0.53523439  0.283148486 -0.260581193  0.3963234  ⋯ -0.36736175\n",
       "40098   0.88344079 -0.728451999  0.290727708  1.3485609  ⋯ -0.27708807\n",
       "68199   1.06823273  1.397083802  0.614213549 -1.5377322  ⋯  0.38808843\n",
       "97097   3.19197335  0.035526794  0.945087576 -0.4943888  ⋯ -0.30914858\n",
       "165317 -0.25890604  0.353164812  0.219991568  0.3660926  ⋯ -0.25065492\n",
       "18446   1.04041256 -0.835851176  0.520254861  0.3038745  ⋯  0.10526248\n",
       "112221 -0.29113816  0.337810342  0.313289357 -0.8835960  ⋯  0.06720278\n",
       "268039 -0.02864235 -0.526153162  0.029430037 -0.3671855  ⋯ -0.01119448\n",
       "       V22          V23          V24          V25          V26        \n",
       "202933  0.243707949  0.298573970  0.612687300 -0.44285542  -0.80326897\n",
       "80960  -0.004409285 -0.323765896  1.069778006  0.40274757   1.01149470\n",
       "108086 -0.754591776 -0.103197724 -1.315136102  0.62013231  -0.44529285\n",
       "173624 -0.382690684  0.448544440  0.567280337  0.41148819   0.22584208\n",
       "151212 -0.846273155  0.271807651 -0.181939913 -0.25111173   0.06528868\n",
       "238966 -0.867600351  0.065782570 -1.113619410 -0.10929681  -0.22622155\n",
       "137544 -0.496081534  0.212004034 -0.813967683  0.48120108  -0.72928613\n",
       "257055 -0.059847770  0.014009463  0.054332687  0.17728392   0.55332308\n",
       "152419 -0.155027493  0.228712792 -0.411652017 -0.52406318   0.45862670\n",
       "77081  -0.510704118 -0.185911065  0.161782255  0.73394040  -0.31970752\n",
       "204383  0.901485859 -0.160606350  0.704835756 -1.03803494  -0.07076957\n",
       "167637  0.783308578 -0.104071506 -0.023828040 -0.05120297   0.09425536\n",
       "109563 -0.910574378 -0.529611041  0.396816581  0.17685967   1.01352205\n",
       "18445  -0.830994751 -0.020727064 -0.396385126  0.46322718  -0.33721450\n",
       "280175  1.119633361  0.104073955  0.120212033 -0.11595356  -0.09680984\n",
       "206486 -0.795233029  0.095055807  0.573377392 -0.39779370   0.11177087\n",
       "79963  -0.291074453  0.067857053  0.009341216  0.26736936  -0.48026863\n",
       "89834   0.348400920 -0.160630562  0.555595203  0.23711118  -0.15541094\n",
       "141408  0.236593500  0.266392637 -0.424405464 -0.03377837   0.16335927\n",
       "102017  0.475386084  0.004539185  0.008840962 -0.15395703  -0.22628963\n",
       "134255 -0.483736520  0.011191056  0.709446365 -0.21657782   0.04888982\n",
       "131256 -1.380033357  0.211884179  0.385711189  0.08128012   0.62379648\n",
       "31423  -0.511253441 -0.006697992  0.419400335 -0.26364475   0.22151929\n",
       "184965  0.855824632  0.257434313  0.456981154 -0.72772768  -0.14769156\n",
       "143888 -0.341268416 -0.243600855  0.402804212 -0.37308939  -0.06892196\n",
       "506    -0.449759669  0.135781046  0.185129747  0.12906190   0.17778005\n",
       "172549 -1.156569771  0.287644196  0.004194617  0.94389320  -0.06760296\n",
       "247448 -0.351579220 -0.098011645  0.444138820 -0.25865725  -0.54848676\n",
       "235598 -0.684483305  0.313074896  0.714160048 -0.16483019   0.29600791\n",
       "145050 -0.825729741 -0.418136117 -1.135133669 -0.09848390  -0.08048952\n",
       "⋮      ⋮            ⋮            ⋮            ⋮            ⋮          \n",
       "165166 -0.51265543   0.061350853  0.05852978  -0.467062137  0.13541805\n",
       "262439  0.29187623   0.101448076  0.06041366  -0.886674805  0.11484862\n",
       "173376  0.61502647   0.075564268  0.05450807  -0.378022379  0.72988348\n",
       "171388 -0.75551358  -0.062320599 -1.66811583  -0.531596387 -0.25215088\n",
       "205187  0.58338231  -0.480123517  0.79910705   0.136750832  0.19565713\n",
       "98086   0.49801350  -0.094125392 -0.38240874  -0.202560096 -0.31815241\n",
       "32888  -0.59396820  -0.078125336 -0.03325083  -0.129585629  0.07305984\n",
       "182168 -0.26616393   0.273647869 -0.29236781  -0.561598535  0.52168495\n",
       "72389  -0.38545441  -0.154807647  0.88159064   0.849887575 -0.31181909\n",
       "261842  0.74170429   0.118511634  0.72046376  -0.167761949 -0.62115672\n",
       "23100  -0.14007768  -0.082228612  0.60658672   0.349703459  1.42041961\n",
       "15768   0.10104926  -0.385641969 -0.94829475   0.569212287  0.25938249\n",
       "157239  0.42870492  -0.044625350  0.77962979   0.820854213  0.66894605\n",
       "270079  1.03150790  -0.135462634 -0.32413309   0.018821814 -0.38879685\n",
       "10993  -0.08945351  -0.181656934 -1.35419167   0.600190808 -0.61110628\n",
       "25358  -0.73813843   0.003144041  0.32639896   0.426433868 -0.53105416\n",
       "84144  -0.77654272  -0.103032913 -1.17467554   0.356283100 -0.45754883\n",
       "257246 -0.37603065  -0.077523541 -0.04769727  -0.089882855  0.15617661\n",
       "9019    0.09284108  -0.082699317 -0.05081261  -0.168982514 -0.27602745\n",
       "103598  0.96090779   0.058240566  0.02381212  -0.250910243 -0.24279649\n",
       "8927    0.09733985   0.012975812  0.44145933  -0.405771764  1.24189552\n",
       "120387 -0.08070238  -0.195818114 -0.43630531  -0.077964888  0.33014302\n",
       "273804 -0.99455353   0.228437254  0.01550869  -0.170292987  0.19846583\n",
       "40098  -0.60694371  -0.095952641 -1.26208024   0.222171067  1.05601828\n",
       "68199   0.53154809   0.917606739 -0.03904876  -0.595959790  0.19820358\n",
       "97097  -1.01334130  -0.027108314  0.93512420  -0.001296083  0.08809202\n",
       "165317 -0.64919950  -0.150360358 -0.15801534   0.292287462 -0.63602851\n",
       "18446   0.62123929  -0.078511356  0.24536843   0.459124094  0.21568747\n",
       "112221  0.11197705  -0.207229931 -0.44028816  -0.077663506 -0.36606107\n",
       "268039 -0.16286105   0.116179990 -0.40495452   0.027646184 -0.25692589\n",
       "       V27          V28          Amount hour_of_day\n",
       "202933  0.054102227 -0.020359028  45.00 13.37750000\n",
       "80960  -0.047180148  0.048079411  15.99 16.31583333\n",
       "108086  0.095188535  0.005707190   2.00 19.65472222\n",
       "173624 -0.080746846  0.150268458   1.98  9.76916667\n",
       "151212 -0.100476031 -0.065099798  39.99  2.38916667\n",
       "238966 -0.332302797 -0.132005891   0.77 17.63833333\n",
       "137544 -0.848898661 -0.438493035 141.49 22.83750000\n",
       "257055 -0.119150398 -0.083987103  39.95 19.88361111\n",
       "152419 -0.056448481 -0.059284789  14.95  3.04611111\n",
       "77081   0.021999867  0.087337156  14.62 15.79972222\n",
       "204383 -2.058578763 -1.343173092  35.67 13.57055556\n",
       "167637  0.002620790 -0.017425119 210.00  9.00305556\n",
       "109563 -0.185379163  0.088898106 592.10 19.84361111\n",
       "18445  -0.042126057 -0.282182687  89.99  8.19666667\n",
       "280175  0.015105430 -0.041512102  32.37 23.04611111\n",
       "206486  0.224516991  0.085570944   6.99 13.84111111\n",
       "79963   0.009772274  0.011799622  15.00 16.18555556\n",
       "89834   0.017532684  0.053095804 199.00 17.42916667\n",
       "141408 -0.181432873 -0.451702330  11.50 23.41611111\n",
       "102017 -0.020039257 -0.091340706 105.26 18.89500000\n",
       "134255  0.269740749  0.125690175   2.69 22.42138889\n",
       "131256 -0.105322398  0.003199844  10.94 22.09277778\n",
       "31423   0.316508800  0.047199243 159.14 10.09944444\n",
       "184965  0.054356913 -0.014681516 120.00 11.13083333\n",
       "143888  0.033631465  0.200166112  14.64 23.80611111\n",
       "506    -0.034564615  0.001486565  10.29  0.10361111\n",
       "172549  0.445605625  0.115416013 114.00  9.65027778\n",
       "247448  0.156928069  0.151810449   3.99 18.66083333\n",
       "235598 -0.057090664 -0.067829290  15.76 17.23861111\n",
       "145050 -0.096343897  0.065302451 539.66  0.05277778\n",
       "⋮      ⋮            ⋮            ⋮      ⋮          \n",
       "165166  0.251896553  0.098974431   2.69  8.566944  \n",
       "262439 -0.393971067 -0.197938923  99.95 20.576389  \n",
       "173376 -0.053248322 -0.034731004 122.00  9.738889  \n",
       "171388 -0.021924150 -0.007241881 450.74  9.505000  \n",
       "205187 -0.685803857 -0.303698943 124.24 13.674167  \n",
       "98086   0.186716679  0.087455991 355.84 18.475556  \n",
       "32888   0.245389895  0.085922154   0.89 10.278889  \n",
       "182168  0.032796725 -0.039612832  42.00 10.802500  \n",
       "72389   0.034099181  0.044343542   1.00 15.190833  \n",
       "261842  0.028015209 -0.022920046  75.00 20.500833  \n",
       "23100  -0.163543319 -0.017563892  55.00  9.052222  \n",
       "15768  -0.087804183 -0.083907868  45.61  7.556389  \n",
       "157239  0.441822127  0.020703568  26.00  6.489167  \n",
       "270079 -0.001006059 -0.008415479 281.15 21.530833  \n",
       "10993   0.082040434  0.013991248  11.85  5.259167  \n",
       "25358   0.019032055  0.036309119  69.25  9.325556  \n",
       "84144  -0.027504155  0.009499275 131.00 16.716389  \n",
       "257246 -0.119027603 -0.013524080 293.90 19.908056  \n",
       "9019    0.382013275  0.189762398  18.04  3.485556  \n",
       "103598  0.023922431  0.031888598 203.75 19.091111  \n",
       "8927   -0.017068271  0.027256592  32.13  3.405278  \n",
       "120387  0.038098057  0.023228640  11.50 21.058333  \n",
       "273804 -0.064999625 -0.027468359  39.99 22.029444  \n",
       "40098  -0.029269516  0.003167585  50.25 11.136667  \n",
       "68199   0.201738880  0.213765848 383.11 14.687500  \n",
       "97097   0.242912071  0.093496881   2.58 18.352778  \n",
       "165317  0.414979878  0.276091958   7.99  8.596944  \n",
       "18446   0.056233256  0.013853623   1.52  8.196944  \n",
       "112221  0.045525950  0.063838123   2.49 20.156667  \n",
       "268039 -0.061271662 -0.081100673  16.21 21.287222  "
      ]
     },
     "metadata": {},
     "output_type": "display_data"
    }
   ],
   "source": [
    "predictor_variables"
   ]
  },
  {
   "cell_type": "code",
   "execution_count": 18,
   "id": "7b69b207-622d-4987-bf69-8255159ae394",
   "metadata": {},
   "outputs": [
    {
     "name": "stdout",
     "output_type": "stream",
     "text": [
      "Proportion of positives after ubUnder : 20 % of 1855 observations \n"
     ]
    }
   ],
   "source": [
    "# Randomly undersample the training dataframe to reduce the imbalance\n",
    "# Run undersampled function\n",
    "\n",
    "undersampled_data <- ubBalance(predictor_variables, \n",
    "                               target_variable, \n",
    "                               type='ubUnder',         \n",
    "                               perc = 20,\n",
    "                               verbose = TRUE)"
   ]
  },
  {
   "cell_type": "code",
   "execution_count": 19,
   "id": "e0086fa4-2333-4fb5-813e-e0e5e0290979",
   "metadata": {},
   "outputs": [],
   "source": [
    "# Combine the undersampled dataset\n",
    "# Reset target variable to 'Class'\n",
    "\n",
    "undersampled_combined <- cbind(undersampled_data$X,    \n",
    "                               undersampled_data$Y)\n",
    "\n",
    "names(undersampled_combined)[names(undersampled_combined) == \"undersampled_data$Y\"] <- \"Class\""
   ]
  },
  {
   "cell_type": "code",
   "execution_count": 20,
   "id": "fd8f6562-fe57-45e9-bab1-f7b6bfa68d1f",
   "metadata": {},
   "outputs": [
    {
     "data": {
      "text/html": [
       "<style>\n",
       ".list-inline {list-style: none; margin:0; padding: 0}\n",
       ".list-inline>li {display: inline-block}\n",
       ".list-inline>li:not(:last-child)::after {content: \"\\00b7\"; padding: 0 .5ex}\n",
       "</style>\n",
       "<ol class=list-inline><li>1855</li><li>32</li></ol>\n"
      ],
      "text/latex": [
       "\\begin{enumerate*}\n",
       "\\item 1855\n",
       "\\item 32\n",
       "\\end{enumerate*}\n"
      ],
      "text/markdown": [
       "1. 1855\n",
       "2. 32\n",
       "\n",
       "\n"
      ],
      "text/plain": [
       "[1] 1855   32"
      ]
     },
     "metadata": {},
     "output_type": "display_data"
    }
   ],
   "source": [
    "# Determine the shape of the undersampled dataset\n",
    "\n",
    "dim(undersampled_combined)"
   ]
  },
  {
   "cell_type": "code",
   "execution_count": 21,
   "id": "46ce4979-b6fa-495a-89ac-1dc5de824833",
   "metadata": {},
   "outputs": [
    {
     "data": {
      "text/html": [
       "<table class=\"dataframe\">\n",
       "<caption>A data.frame: 6 × 32</caption>\n",
       "<thead>\n",
       "\t<tr><th></th><th scope=col>trans_ID</th><th scope=col>V1</th><th scope=col>V2</th><th scope=col>V3</th><th scope=col>V4</th><th scope=col>V5</th><th scope=col>V6</th><th scope=col>V7</th><th scope=col>V8</th><th scope=col>V9</th><th scope=col>⋯</th><th scope=col>V22</th><th scope=col>V23</th><th scope=col>V24</th><th scope=col>V25</th><th scope=col>V26</th><th scope=col>V27</th><th scope=col>V28</th><th scope=col>Amount</th><th scope=col>hour_of_day</th><th scope=col>Class</th></tr>\n",
       "\t<tr><th></th><th scope=col>&lt;int&gt;</th><th scope=col>&lt;dbl&gt;</th><th scope=col>&lt;dbl&gt;</th><th scope=col>&lt;dbl&gt;</th><th scope=col>&lt;dbl&gt;</th><th scope=col>&lt;dbl&gt;</th><th scope=col>&lt;dbl&gt;</th><th scope=col>&lt;dbl&gt;</th><th scope=col>&lt;dbl&gt;</th><th scope=col>&lt;dbl&gt;</th><th scope=col>⋯</th><th scope=col>&lt;dbl&gt;</th><th scope=col>&lt;dbl&gt;</th><th scope=col>&lt;dbl&gt;</th><th scope=col>&lt;dbl&gt;</th><th scope=col>&lt;dbl&gt;</th><th scope=col>&lt;dbl&gt;</th><th scope=col>&lt;dbl&gt;</th><th scope=col>&lt;dbl&gt;</th><th scope=col>&lt;dbl&gt;</th><th scope=col>&lt;fct&gt;</th></tr>\n",
       "</thead>\n",
       "<tbody>\n",
       "\t<tr><th scope=row>154634</th><td>154634</td><td>-1.0206317</td><td> 1.49695912</td><td>-4.4909371</td><td> 1.8367271</td><td> 0.6273185</td><td>-2.73556861</td><td>-1.54627364</td><td> 0.45982158</td><td>-0.6827414</td><td>⋯</td><td> 0.860618181</td><td>-0.30466645</td><td>-0.1554996</td><td> 0.4121663</td><td>-0.2200796</td><td> 0.392337584</td><td>-0.02008949</td><td>22.04</td><td> 4.421667</td><td>1</td></tr>\n",
       "\t<tr><th scope=row>159046</th><td>159046</td><td> 2.2314276</td><td>-1.48777913</td><td>-1.2527059</td><td>-1.7585984</td><td>-0.8794419</td><td>-0.09210278</td><td>-1.10725530</td><td>-0.04916456</td><td>-1.4722058</td><td>⋯</td><td>-0.003549076</td><td> 0.16760441</td><td> 0.2623289</td><td>-0.1344063</td><td>-0.1902866</td><td>-0.007435708</td><td>-0.05301781</td><td>50.00</td><td> 7.151111</td><td>0</td></tr>\n",
       "\t<tr><th scope=row>35667</th><td> 35667</td><td>-0.5255856</td><td> 0.70121608</td><td> 1.5904864</td><td> 0.3495494</td><td>-1.1431499</td><td>-0.31024970</td><td>-0.45763558</td><td> 0.58688628</td><td> 0.5680363</td><td>⋯</td><td> 0.101375266</td><td> 0.08317466</td><td> 0.3800191</td><td>-0.5685623</td><td> 0.2020986</td><td>-0.192527220</td><td>-0.02182031</td><td>11.95</td><td>10.615278</td><td>0</td></tr>\n",
       "\t<tr><th scope=row>261666</th><td>261666</td><td>-1.5738729</td><td> 1.29045018</td><td> 0.4471715</td><td>-0.6777669</td><td> 0.2727278</td><td>-0.31429099</td><td> 0.09698290</td><td> 0.58822306</td><td> 0.2503195</td><td>⋯</td><td>-1.188733441</td><td>-0.12251653</td><td> 0.3611805</td><td> 0.5364547</td><td> 0.2652002</td><td> 0.269237991</td><td> 0.10003566</td><td>20.45</td><td>20.480833</td><td>0</td></tr>\n",
       "\t<tr><th scope=row>172613</th><td>172613</td><td>-1.2912338</td><td>-0.08545134</td><td> 0.8210681</td><td>-2.4608133</td><td>-0.3694286</td><td>-0.50874986</td><td>-0.14957962</td><td> 0.75315238</td><td> 0.9798432</td><td>⋯</td><td> 0.645727157</td><td>-0.10731649</td><td>-0.3829527</td><td>-0.2073719</td><td> 0.5407588</td><td> 0.174389026</td><td> 0.06940232</td><td>59.00</td><td> 9.657500</td><td>0</td></tr>\n",
       "\t<tr><th scope=row>155952</th><td>155952</td><td>-1.6087734</td><td> 0.84196546</td><td>-0.6348928</td><td>-0.3570552</td><td> 0.3094024</td><td>-0.95045246</td><td>-0.07741544</td><td> 0.72269904</td><td> 1.0957641</td><td>⋯</td><td>-0.732248882</td><td> 0.70682708</td><td>-0.4288958</td><td>-0.2838498</td><td> 0.1351560</td><td> 0.104887389</td><td>-0.10181733</td><td> 9.81</td><td> 5.685833</td><td>0</td></tr>\n",
       "</tbody>\n",
       "</table>\n"
      ],
      "text/latex": [
       "A data.frame: 6 × 32\n",
       "\\begin{tabular}{r|lllllllllllllllllllll}\n",
       "  & trans\\_ID & V1 & V2 & V3 & V4 & V5 & V6 & V7 & V8 & V9 & ⋯ & V22 & V23 & V24 & V25 & V26 & V27 & V28 & Amount & hour\\_of\\_day & Class\\\\\n",
       "  & <int> & <dbl> & <dbl> & <dbl> & <dbl> & <dbl> & <dbl> & <dbl> & <dbl> & <dbl> & ⋯ & <dbl> & <dbl> & <dbl> & <dbl> & <dbl> & <dbl> & <dbl> & <dbl> & <dbl> & <fct>\\\\\n",
       "\\hline\n",
       "\t154634 & 154634 & -1.0206317 &  1.49695912 & -4.4909371 &  1.8367271 &  0.6273185 & -2.73556861 & -1.54627364 &  0.45982158 & -0.6827414 & ⋯ &  0.860618181 & -0.30466645 & -0.1554996 &  0.4121663 & -0.2200796 &  0.392337584 & -0.02008949 & 22.04 &  4.421667 & 1\\\\\n",
       "\t159046 & 159046 &  2.2314276 & -1.48777913 & -1.2527059 & -1.7585984 & -0.8794419 & -0.09210278 & -1.10725530 & -0.04916456 & -1.4722058 & ⋯ & -0.003549076 &  0.16760441 &  0.2623289 & -0.1344063 & -0.1902866 & -0.007435708 & -0.05301781 & 50.00 &  7.151111 & 0\\\\\n",
       "\t35667 &  35667 & -0.5255856 &  0.70121608 &  1.5904864 &  0.3495494 & -1.1431499 & -0.31024970 & -0.45763558 &  0.58688628 &  0.5680363 & ⋯ &  0.101375266 &  0.08317466 &  0.3800191 & -0.5685623 &  0.2020986 & -0.192527220 & -0.02182031 & 11.95 & 10.615278 & 0\\\\\n",
       "\t261666 & 261666 & -1.5738729 &  1.29045018 &  0.4471715 & -0.6777669 &  0.2727278 & -0.31429099 &  0.09698290 &  0.58822306 &  0.2503195 & ⋯ & -1.188733441 & -0.12251653 &  0.3611805 &  0.5364547 &  0.2652002 &  0.269237991 &  0.10003566 & 20.45 & 20.480833 & 0\\\\\n",
       "\t172613 & 172613 & -1.2912338 & -0.08545134 &  0.8210681 & -2.4608133 & -0.3694286 & -0.50874986 & -0.14957962 &  0.75315238 &  0.9798432 & ⋯ &  0.645727157 & -0.10731649 & -0.3829527 & -0.2073719 &  0.5407588 &  0.174389026 &  0.06940232 & 59.00 &  9.657500 & 0\\\\\n",
       "\t155952 & 155952 & -1.6087734 &  0.84196546 & -0.6348928 & -0.3570552 &  0.3094024 & -0.95045246 & -0.07741544 &  0.72269904 &  1.0957641 & ⋯ & -0.732248882 &  0.70682708 & -0.4288958 & -0.2838498 &  0.1351560 &  0.104887389 & -0.10181733 &  9.81 &  5.685833 & 0\\\\\n",
       "\\end{tabular}\n"
      ],
      "text/markdown": [
       "\n",
       "A data.frame: 6 × 32\n",
       "\n",
       "| <!--/--> | trans_ID &lt;int&gt; | V1 &lt;dbl&gt; | V2 &lt;dbl&gt; | V3 &lt;dbl&gt; | V4 &lt;dbl&gt; | V5 &lt;dbl&gt; | V6 &lt;dbl&gt; | V7 &lt;dbl&gt; | V8 &lt;dbl&gt; | V9 &lt;dbl&gt; | ⋯ ⋯ | V22 &lt;dbl&gt; | V23 &lt;dbl&gt; | V24 &lt;dbl&gt; | V25 &lt;dbl&gt; | V26 &lt;dbl&gt; | V27 &lt;dbl&gt; | V28 &lt;dbl&gt; | Amount &lt;dbl&gt; | hour_of_day &lt;dbl&gt; | Class &lt;fct&gt; |\n",
       "|---|---|---|---|---|---|---|---|---|---|---|---|---|---|---|---|---|---|---|---|---|---|\n",
       "| 154634 | 154634 | -1.0206317 |  1.49695912 | -4.4909371 |  1.8367271 |  0.6273185 | -2.73556861 | -1.54627364 |  0.45982158 | -0.6827414 | ⋯ |  0.860618181 | -0.30466645 | -0.1554996 |  0.4121663 | -0.2200796 |  0.392337584 | -0.02008949 | 22.04 |  4.421667 | 1 |\n",
       "| 159046 | 159046 |  2.2314276 | -1.48777913 | -1.2527059 | -1.7585984 | -0.8794419 | -0.09210278 | -1.10725530 | -0.04916456 | -1.4722058 | ⋯ | -0.003549076 |  0.16760441 |  0.2623289 | -0.1344063 | -0.1902866 | -0.007435708 | -0.05301781 | 50.00 |  7.151111 | 0 |\n",
       "| 35667 |  35667 | -0.5255856 |  0.70121608 |  1.5904864 |  0.3495494 | -1.1431499 | -0.31024970 | -0.45763558 |  0.58688628 |  0.5680363 | ⋯ |  0.101375266 |  0.08317466 |  0.3800191 | -0.5685623 |  0.2020986 | -0.192527220 | -0.02182031 | 11.95 | 10.615278 | 0 |\n",
       "| 261666 | 261666 | -1.5738729 |  1.29045018 |  0.4471715 | -0.6777669 |  0.2727278 | -0.31429099 |  0.09698290 |  0.58822306 |  0.2503195 | ⋯ | -1.188733441 | -0.12251653 |  0.3611805 |  0.5364547 |  0.2652002 |  0.269237991 |  0.10003566 | 20.45 | 20.480833 | 0 |\n",
       "| 172613 | 172613 | -1.2912338 | -0.08545134 |  0.8210681 | -2.4608133 | -0.3694286 | -0.50874986 | -0.14957962 |  0.75315238 |  0.9798432 | ⋯ |  0.645727157 | -0.10731649 | -0.3829527 | -0.2073719 |  0.5407588 |  0.174389026 |  0.06940232 | 59.00 |  9.657500 | 0 |\n",
       "| 155952 | 155952 | -1.6087734 |  0.84196546 | -0.6348928 | -0.3570552 |  0.3094024 | -0.95045246 | -0.07741544 |  0.72269904 |  1.0957641 | ⋯ | -0.732248882 |  0.70682708 | -0.4288958 | -0.2838498 |  0.1351560 |  0.104887389 | -0.10181733 |  9.81 |  5.685833 | 0 |\n",
       "\n"
      ],
      "text/plain": [
       "       trans_ID V1         V2          V3         V4         V5        \n",
       "154634 154634   -1.0206317  1.49695912 -4.4909371  1.8367271  0.6273185\n",
       "159046 159046    2.2314276 -1.48777913 -1.2527059 -1.7585984 -0.8794419\n",
       "35667   35667   -0.5255856  0.70121608  1.5904864  0.3495494 -1.1431499\n",
       "261666 261666   -1.5738729  1.29045018  0.4471715 -0.6777669  0.2727278\n",
       "172613 172613   -1.2912338 -0.08545134  0.8210681 -2.4608133 -0.3694286\n",
       "155952 155952   -1.6087734  0.84196546 -0.6348928 -0.3570552  0.3094024\n",
       "       V6          V7          V8          V9         ⋯ V22         \n",
       "154634 -2.73556861 -1.54627364  0.45982158 -0.6827414 ⋯  0.860618181\n",
       "159046 -0.09210278 -1.10725530 -0.04916456 -1.4722058 ⋯ -0.003549076\n",
       "35667  -0.31024970 -0.45763558  0.58688628  0.5680363 ⋯  0.101375266\n",
       "261666 -0.31429099  0.09698290  0.58822306  0.2503195 ⋯ -1.188733441\n",
       "172613 -0.50874986 -0.14957962  0.75315238  0.9798432 ⋯  0.645727157\n",
       "155952 -0.95045246 -0.07741544  0.72269904  1.0957641 ⋯ -0.732248882\n",
       "       V23         V24        V25        V26        V27          V28        \n",
       "154634 -0.30466645 -0.1554996  0.4121663 -0.2200796  0.392337584 -0.02008949\n",
       "159046  0.16760441  0.2623289 -0.1344063 -0.1902866 -0.007435708 -0.05301781\n",
       "35667   0.08317466  0.3800191 -0.5685623  0.2020986 -0.192527220 -0.02182031\n",
       "261666 -0.12251653  0.3611805  0.5364547  0.2652002  0.269237991  0.10003566\n",
       "172613 -0.10731649 -0.3829527 -0.2073719  0.5407588  0.174389026  0.06940232\n",
       "155952  0.70682708 -0.4288958 -0.2838498  0.1351560  0.104887389 -0.10181733\n",
       "       Amount hour_of_day Class\n",
       "154634 22.04   4.421667   1    \n",
       "159046 50.00   7.151111   0    \n",
       "35667  11.95  10.615278   0    \n",
       "261666 20.45  20.480833   0    \n",
       "172613 59.00   9.657500   0    \n",
       "155952  9.81   5.685833   0    "
      ]
     },
     "metadata": {},
     "output_type": "display_data"
    }
   ],
   "source": [
    "# View the first 6 rows of the undersampled dataset\n",
    "\n",
    "head(undersampled_combined)"
   ]
  },
  {
   "cell_type": "code",
   "execution_count": 44,
   "id": "47b896df-e965-400f-b35d-7644f7b030a7",
   "metadata": {},
   "outputs": [
    {
     "data": {
      "image/png": "[encoded data removed]",
      "text/plain": [
       "plot without title"
      ]
     },
     "metadata": {
      "image/png": {
       "height": 480,
       "width": 720
      }
     },
     "output_type": "display_data"
    }
   ],
   "source": [
    "# Plot the new class distribution on a box chart \n",
    "\n",
    "fig(12, 8)\n",
    "common_theme <- theme(plot.title = element_text(hjust = 0.5, face = \"bold\"))\n",
    "\n",
    "ggplot(data = undersampled_combined, aes(x = Class, \n",
    "                          y = prop.table(stat(count)), fill = Class,\n",
    "                          label = scales::percent(prop.table(stat(count))))) +\n",
    "    geom_bar(position = \"dodge\") + \n",
    "    geom_text(stat = 'count',\n",
    "              position = position_dodge(.9), \n",
    "              vjust = -0.5, \n",
    "              size = 3) + \n",
    "    scale_x_discrete(labels = c(\"non-fraud\", \"fraud\"))+\n",
    "    scale_y_continuous(labels = scales::percent)+\n",
    "    labs(x = 'Class', y = 'Percentage') +\n",
    "    ggtitle(\"Undersampled distribution of class labels\") +\n",
    "    common_theme"
   ]
  },
  {
   "cell_type": "markdown",
   "id": "4d72b349-7b7c-4e99-af7c-dadde0d44cc0",
   "metadata": {},
   "source": [
    "#### Smaller training and validation datasets"
   ]
  },
  {
   "cell_type": "code",
   "execution_count": 22,
   "id": "68c21b7b-2930-4151-9245-02f780ee13b6",
   "metadata": {},
   "outputs": [],
   "source": [
    "# Split undersampled training dataframe into smaller training and validation dataframes \n",
    "\n",
    "# Get the total numer of rows in the undersampled data set.\n",
    "under_nrow <- nrow(undersampled_combined)\n",
    "\n",
    "# Use 75% of the undersampled train data to train the model (small training set)\n",
    "SMALL.train_nrow <- round(0.75*under_nrow)\n",
    "\n",
    "# The remaining 25% of the data is the validation dataframe\n",
    "VAL.train_nrow <- under_nrow - SMALL.train_nrow\n",
    "\n",
    "# Suppose we would like to randomly split the data\n",
    "set.seed(200)\n",
    "\n",
    "# Generate row numbers of the small training set\n",
    "SMALL.train_nrow_indice <- sample(1:under_nrow, size = SMALL.train_nrow, replace = FALSE) \n",
    "\n",
    "# Set up small training and validation set\n",
    "SMALL.train_df <- undersampled_combined[SMALL.train_nrow_indice, ]\n",
    "VAL.train_df <- undersampled_combined[-SMALL.train_nrow_indice, ]"
   ]
  },
  {
   "cell_type": "code",
   "execution_count": 23,
   "id": "61dcc1fa-8b74-434c-a67d-968de7f7facf",
   "metadata": {},
   "outputs": [
    {
     "data": {
      "text/html": [
       "<table class=\"dataframe\">\n",
       "<caption>A data.frame: 6 × 32</caption>\n",
       "<thead>\n",
       "\t<tr><th></th><th scope=col>trans_ID</th><th scope=col>V1</th><th scope=col>V2</th><th scope=col>V3</th><th scope=col>V4</th><th scope=col>V5</th><th scope=col>V6</th><th scope=col>V7</th><th scope=col>V8</th><th scope=col>V9</th><th scope=col>⋯</th><th scope=col>V22</th><th scope=col>V23</th><th scope=col>V24</th><th scope=col>V25</th><th scope=col>V26</th><th scope=col>V27</th><th scope=col>V28</th><th scope=col>Amount</th><th scope=col>hour_of_day</th><th scope=col>Class</th></tr>\n",
       "\t<tr><th></th><th scope=col>&lt;int&gt;</th><th scope=col>&lt;dbl&gt;</th><th scope=col>&lt;dbl&gt;</th><th scope=col>&lt;dbl&gt;</th><th scope=col>&lt;dbl&gt;</th><th scope=col>&lt;dbl&gt;</th><th scope=col>&lt;dbl&gt;</th><th scope=col>&lt;dbl&gt;</th><th scope=col>&lt;dbl&gt;</th><th scope=col>&lt;dbl&gt;</th><th scope=col>⋯</th><th scope=col>&lt;dbl&gt;</th><th scope=col>&lt;dbl&gt;</th><th scope=col>&lt;dbl&gt;</th><th scope=col>&lt;dbl&gt;</th><th scope=col>&lt;dbl&gt;</th><th scope=col>&lt;dbl&gt;</th><th scope=col>&lt;dbl&gt;</th><th scope=col>&lt;dbl&gt;</th><th scope=col>&lt;dbl&gt;</th><th scope=col>&lt;fct&gt;</th></tr>\n",
       "</thead>\n",
       "<tbody>\n",
       "\t<tr><th scope=row>19747</th><td> 19747</td><td>-0.6563373</td><td> 0.8380199</td><td> 1.2656127</td><td>-0.8239001</td><td>-0.72633387</td><td>-0.7304151</td><td>-0.13725253</td><td> 0.5652057916</td><td> 0.05395428</td><td>⋯</td><td> 0.55715533</td><td> 0.03385281</td><td> 0.4591940</td><td>-0.3914025</td><td> 0.90831642</td><td> 0.08902655</td><td> 0.006271033</td><td>  1.00</td><td> 8.478333</td><td>0</td></tr>\n",
       "\t<tr><th scope=row>60988</th><td> 60988</td><td>-0.8291823</td><td> 1.3397147</td><td> 0.5594518</td><td> 0.1576726</td><td>-0.98335952</td><td>-0.8750953</td><td> 0.00345717</td><td> 0.6991901815</td><td>-0.55280449</td><td>⋯</td><td>-0.67032163</td><td> 0.29478853</td><td> 0.3458641</td><td>-0.6304189</td><td>-0.08146074</td><td>-0.34116593</td><td>-0.093674433</td><td> 46.65</td><td>13.776389</td><td>0</td></tr>\n",
       "\t<tr><th scope=row>70196</th><td> 70196</td><td>-1.0107673</td><td>-0.8254967</td><td> 0.6467623</td><td> 0.9860421</td><td> 2.03072239</td><td>-1.6317891</td><td>-0.62487932</td><td>-0.0007924819</td><td>-0.34875894</td><td>⋯</td><td>-0.38869662</td><td> 0.49687993</td><td>-0.3654305</td><td>-1.3160696</td><td> 0.04552378</td><td> 0.18446988</td><td> 0.291328401</td><td>  1.98</td><td>14.932500</td><td>0</td></tr>\n",
       "\t<tr><th scope=row>91419</th><td> 91419</td><td> 1.3751381</td><td>-0.7061138</td><td> 0.5250769</td><td>-1.0784767</td><td>-0.60951808</td><td> 0.7489776</td><td>-1.16334662</td><td> 0.2371325969</td><td>-0.73528484</td><td>⋯</td><td> 1.15469238</td><td>-0.24028769</td><td>-1.0778103</td><td> 0.5149570</td><td> 0.03230959</td><td> 0.05579993</td><td> 0.002230245</td><td>  9.90</td><td>17.628333</td><td>0</td></tr>\n",
       "\t<tr><th scope=row>29000</th><td> 29000</td><td>-4.2037452</td><td>-2.4861469</td><td>-0.5941975</td><td>-0.5608147</td><td>-1.67437712</td><td> 0.9086412</td><td> 2.92994977</td><td> 0.1620639830</td><td>-0.21657251</td><td>⋯</td><td> 0.02446409</td><td> 2.51887866</td><td>-0.2743956</td><td> 0.2072679</td><td> 0.80464873</td><td> 0.61215927</td><td> 0.292025751</td><td>728.00</td><td> 9.797778</td><td>0</td></tr>\n",
       "\t<tr><th scope=row>275993</th><td>275993</td><td>-2.0271354</td><td>-1.1318904</td><td>-1.1351943</td><td> 1.0869626</td><td>-0.01054735</td><td> 0.4237967</td><td> 3.79088017</td><td>-1.1555950982</td><td>-0.06343357</td><td>⋯</td><td> 0.57551970</td><td> 0.49084201</td><td> 0.7565024</td><td>-0.1426854</td><td>-0.60277661</td><td> 0.50871246</td><td>-0.091645526</td><td>634.30</td><td>22.341944</td><td>1</td></tr>\n",
       "</tbody>\n",
       "</table>\n"
      ],
      "text/latex": [
       "A data.frame: 6 × 32\n",
       "\\begin{tabular}{r|lllllllllllllllllllll}\n",
       "  & trans\\_ID & V1 & V2 & V3 & V4 & V5 & V6 & V7 & V8 & V9 & ⋯ & V22 & V23 & V24 & V25 & V26 & V27 & V28 & Amount & hour\\_of\\_day & Class\\\\\n",
       "  & <int> & <dbl> & <dbl> & <dbl> & <dbl> & <dbl> & <dbl> & <dbl> & <dbl> & <dbl> & ⋯ & <dbl> & <dbl> & <dbl> & <dbl> & <dbl> & <dbl> & <dbl> & <dbl> & <dbl> & <fct>\\\\\n",
       "\\hline\n",
       "\t19747 &  19747 & -0.6563373 &  0.8380199 &  1.2656127 & -0.8239001 & -0.72633387 & -0.7304151 & -0.13725253 &  0.5652057916 &  0.05395428 & ⋯ &  0.55715533 &  0.03385281 &  0.4591940 & -0.3914025 &  0.90831642 &  0.08902655 &  0.006271033 &   1.00 &  8.478333 & 0\\\\\n",
       "\t60988 &  60988 & -0.8291823 &  1.3397147 &  0.5594518 &  0.1576726 & -0.98335952 & -0.8750953 &  0.00345717 &  0.6991901815 & -0.55280449 & ⋯ & -0.67032163 &  0.29478853 &  0.3458641 & -0.6304189 & -0.08146074 & -0.34116593 & -0.093674433 &  46.65 & 13.776389 & 0\\\\\n",
       "\t70196 &  70196 & -1.0107673 & -0.8254967 &  0.6467623 &  0.9860421 &  2.03072239 & -1.6317891 & -0.62487932 & -0.0007924819 & -0.34875894 & ⋯ & -0.38869662 &  0.49687993 & -0.3654305 & -1.3160696 &  0.04552378 &  0.18446988 &  0.291328401 &   1.98 & 14.932500 & 0\\\\\n",
       "\t91419 &  91419 &  1.3751381 & -0.7061138 &  0.5250769 & -1.0784767 & -0.60951808 &  0.7489776 & -1.16334662 &  0.2371325969 & -0.73528484 & ⋯ &  1.15469238 & -0.24028769 & -1.0778103 &  0.5149570 &  0.03230959 &  0.05579993 &  0.002230245 &   9.90 & 17.628333 & 0\\\\\n",
       "\t29000 &  29000 & -4.2037452 & -2.4861469 & -0.5941975 & -0.5608147 & -1.67437712 &  0.9086412 &  2.92994977 &  0.1620639830 & -0.21657251 & ⋯ &  0.02446409 &  2.51887866 & -0.2743956 &  0.2072679 &  0.80464873 &  0.61215927 &  0.292025751 & 728.00 &  9.797778 & 0\\\\\n",
       "\t275993 & 275993 & -2.0271354 & -1.1318904 & -1.1351943 &  1.0869626 & -0.01054735 &  0.4237967 &  3.79088017 & -1.1555950982 & -0.06343357 & ⋯ &  0.57551970 &  0.49084201 &  0.7565024 & -0.1426854 & -0.60277661 &  0.50871246 & -0.091645526 & 634.30 & 22.341944 & 1\\\\\n",
       "\\end{tabular}\n"
      ],
      "text/markdown": [
       "\n",
       "A data.frame: 6 × 32\n",
       "\n",
       "| <!--/--> | trans_ID &lt;int&gt; | V1 &lt;dbl&gt; | V2 &lt;dbl&gt; | V3 &lt;dbl&gt; | V4 &lt;dbl&gt; | V5 &lt;dbl&gt; | V6 &lt;dbl&gt; | V7 &lt;dbl&gt; | V8 &lt;dbl&gt; | V9 &lt;dbl&gt; | ⋯ ⋯ | V22 &lt;dbl&gt; | V23 &lt;dbl&gt; | V24 &lt;dbl&gt; | V25 &lt;dbl&gt; | V26 &lt;dbl&gt; | V27 &lt;dbl&gt; | V28 &lt;dbl&gt; | Amount &lt;dbl&gt; | hour_of_day &lt;dbl&gt; | Class &lt;fct&gt; |\n",
       "|---|---|---|---|---|---|---|---|---|---|---|---|---|---|---|---|---|---|---|---|---|---|\n",
       "| 19747 |  19747 | -0.6563373 |  0.8380199 |  1.2656127 | -0.8239001 | -0.72633387 | -0.7304151 | -0.13725253 |  0.5652057916 |  0.05395428 | ⋯ |  0.55715533 |  0.03385281 |  0.4591940 | -0.3914025 |  0.90831642 |  0.08902655 |  0.006271033 |   1.00 |  8.478333 | 0 |\n",
       "| 60988 |  60988 | -0.8291823 |  1.3397147 |  0.5594518 |  0.1576726 | -0.98335952 | -0.8750953 |  0.00345717 |  0.6991901815 | -0.55280449 | ⋯ | -0.67032163 |  0.29478853 |  0.3458641 | -0.6304189 | -0.08146074 | -0.34116593 | -0.093674433 |  46.65 | 13.776389 | 0 |\n",
       "| 70196 |  70196 | -1.0107673 | -0.8254967 |  0.6467623 |  0.9860421 |  2.03072239 | -1.6317891 | -0.62487932 | -0.0007924819 | -0.34875894 | ⋯ | -0.38869662 |  0.49687993 | -0.3654305 | -1.3160696 |  0.04552378 |  0.18446988 |  0.291328401 |   1.98 | 14.932500 | 0 |\n",
       "| 91419 |  91419 |  1.3751381 | -0.7061138 |  0.5250769 | -1.0784767 | -0.60951808 |  0.7489776 | -1.16334662 |  0.2371325969 | -0.73528484 | ⋯ |  1.15469238 | -0.24028769 | -1.0778103 |  0.5149570 |  0.03230959 |  0.05579993 |  0.002230245 |   9.90 | 17.628333 | 0 |\n",
       "| 29000 |  29000 | -4.2037452 | -2.4861469 | -0.5941975 | -0.5608147 | -1.67437712 |  0.9086412 |  2.92994977 |  0.1620639830 | -0.21657251 | ⋯ |  0.02446409 |  2.51887866 | -0.2743956 |  0.2072679 |  0.80464873 |  0.61215927 |  0.292025751 | 728.00 |  9.797778 | 0 |\n",
       "| 275993 | 275993 | -2.0271354 | -1.1318904 | -1.1351943 |  1.0869626 | -0.01054735 |  0.4237967 |  3.79088017 | -1.1555950982 | -0.06343357 | ⋯ |  0.57551970 |  0.49084201 |  0.7565024 | -0.1426854 | -0.60277661 |  0.50871246 | -0.091645526 | 634.30 | 22.341944 | 1 |\n",
       "\n"
      ],
      "text/plain": [
       "       trans_ID V1         V2         V3         V4         V5         \n",
       "19747   19747   -0.6563373  0.8380199  1.2656127 -0.8239001 -0.72633387\n",
       "60988   60988   -0.8291823  1.3397147  0.5594518  0.1576726 -0.98335952\n",
       "70196   70196   -1.0107673 -0.8254967  0.6467623  0.9860421  2.03072239\n",
       "91419   91419    1.3751381 -0.7061138  0.5250769 -1.0784767 -0.60951808\n",
       "29000   29000   -4.2037452 -2.4861469 -0.5941975 -0.5608147 -1.67437712\n",
       "275993 275993   -2.0271354 -1.1318904 -1.1351943  1.0869626 -0.01054735\n",
       "       V6         V7          V8            V9          ⋯ V22        \n",
       "19747  -0.7304151 -0.13725253  0.5652057916  0.05395428 ⋯  0.55715533\n",
       "60988  -0.8750953  0.00345717  0.6991901815 -0.55280449 ⋯ -0.67032163\n",
       "70196  -1.6317891 -0.62487932 -0.0007924819 -0.34875894 ⋯ -0.38869662\n",
       "91419   0.7489776 -1.16334662  0.2371325969 -0.73528484 ⋯  1.15469238\n",
       "29000   0.9086412  2.92994977  0.1620639830 -0.21657251 ⋯  0.02446409\n",
       "275993  0.4237967  3.79088017 -1.1555950982 -0.06343357 ⋯  0.57551970\n",
       "       V23         V24        V25        V26         V27         V28         \n",
       "19747   0.03385281  0.4591940 -0.3914025  0.90831642  0.08902655  0.006271033\n",
       "60988   0.29478853  0.3458641 -0.6304189 -0.08146074 -0.34116593 -0.093674433\n",
       "70196   0.49687993 -0.3654305 -1.3160696  0.04552378  0.18446988  0.291328401\n",
       "91419  -0.24028769 -1.0778103  0.5149570  0.03230959  0.05579993  0.002230245\n",
       "29000   2.51887866 -0.2743956  0.2072679  0.80464873  0.61215927  0.292025751\n",
       "275993  0.49084201  0.7565024 -0.1426854 -0.60277661  0.50871246 -0.091645526\n",
       "       Amount hour_of_day Class\n",
       "19747    1.00  8.478333   0    \n",
       "60988   46.65 13.776389   0    \n",
       "70196    1.98 14.932500   0    \n",
       "91419    9.90 17.628333   0    \n",
       "29000  728.00  9.797778   0    \n",
       "275993 634.30 22.341944   1    "
      ]
     },
     "metadata": {},
     "output_type": "display_data"
    }
   ],
   "source": [
    "# View first 6 rows of small training dataframe \n",
    "\n",
    "head(SMALL.train_df)"
   ]
  },
  {
   "cell_type": "code",
   "execution_count": 24,
   "id": "b1775794-8d4c-4904-8242-a73417755490",
   "metadata": {},
   "outputs": [
    {
     "data": {
      "text/html": [
       "<table class=\"dataframe\">\n",
       "<caption>A data.frame: 6 × 32</caption>\n",
       "<thead>\n",
       "\t<tr><th></th><th scope=col>trans_ID</th><th scope=col>V1</th><th scope=col>V2</th><th scope=col>V3</th><th scope=col>V4</th><th scope=col>V5</th><th scope=col>V6</th><th scope=col>V7</th><th scope=col>V8</th><th scope=col>V9</th><th scope=col>⋯</th><th scope=col>V22</th><th scope=col>V23</th><th scope=col>V24</th><th scope=col>V25</th><th scope=col>V26</th><th scope=col>V27</th><th scope=col>V28</th><th scope=col>Amount</th><th scope=col>hour_of_day</th><th scope=col>Class</th></tr>\n",
       "\t<tr><th></th><th scope=col>&lt;int&gt;</th><th scope=col>&lt;dbl&gt;</th><th scope=col>&lt;dbl&gt;</th><th scope=col>&lt;dbl&gt;</th><th scope=col>&lt;dbl&gt;</th><th scope=col>&lt;dbl&gt;</th><th scope=col>&lt;dbl&gt;</th><th scope=col>&lt;dbl&gt;</th><th scope=col>&lt;dbl&gt;</th><th scope=col>&lt;dbl&gt;</th><th scope=col>⋯</th><th scope=col>&lt;dbl&gt;</th><th scope=col>&lt;dbl&gt;</th><th scope=col>&lt;dbl&gt;</th><th scope=col>&lt;dbl&gt;</th><th scope=col>&lt;dbl&gt;</th><th scope=col>&lt;dbl&gt;</th><th scope=col>&lt;dbl&gt;</th><th scope=col>&lt;dbl&gt;</th><th scope=col>&lt;dbl&gt;</th><th scope=col>&lt;fct&gt;</th></tr>\n",
       "</thead>\n",
       "<tbody>\n",
       "\t<tr><th scope=row>154634</th><td>154634</td><td> -1.0206317</td><td>1.49695912</td><td> -4.4909371</td><td> 1.8367271</td><td>  0.6273185</td><td>-2.7355686</td><td> -1.54627364</td><td> 0.4598216</td><td>-0.68274141</td><td>⋯</td><td> 0.8606182</td><td>-0.30466645</td><td>-0.1554996</td><td> 0.41216629</td><td>-0.2200796</td><td> 0.39233758</td><td>-0.02008949</td><td>22.04</td><td> 4.421667</td><td>1</td></tr>\n",
       "\t<tr><th scope=row>155952</th><td>155952</td><td> -1.6087734</td><td>0.84196546</td><td> -0.6348928</td><td>-0.3570552</td><td>  0.3094024</td><td>-0.9504525</td><td> -0.07741544</td><td> 0.7226990</td><td> 1.09576411</td><td>⋯</td><td>-0.7322489</td><td> 0.70682708</td><td>-0.4288958</td><td>-0.28384982</td><td> 0.1351560</td><td> 0.10488739</td><td>-0.10181733</td><td> 9.81</td><td> 5.685833</td><td>0</td></tr>\n",
       "\t<tr><th scope=row>150678</th><td>150678</td><td>-13.0865194</td><td>7.35214834</td><td>-18.2565761</td><td>10.6485054</td><td>-11.7314765</td><td>-3.6591674</td><td>-14.87365796</td><td> 8.8104727</td><td>-5.41820407</td><td>⋯</td><td>-0.2661618</td><td>-0.41286072</td><td> 0.5199522</td><td>-0.74390896</td><td>-0.1678082</td><td>-2.49830025</td><td>-0.71106615</td><td>30.31</td><td> 2.077500</td><td>1</td></tr>\n",
       "\t<tr><th scope=row>41048</th><td> 41048</td><td> -0.8836085</td><td>1.49986041</td><td>  0.7045651</td><td>-0.2517748</td><td>  0.3905109</td><td>-0.5520028</td><td>  0.67635062</td><td>-0.0598499</td><td> 0.05826039</td><td>⋯</td><td>-0.8557634</td><td>-0.09063564</td><td>-0.5166061</td><td> 0.05765303</td><td> 0.1201359</td><td> 0.32244864</td><td> 0.22339511</td><td> 4.37</td><td>11.252778</td><td>0</td></tr>\n",
       "\t<tr><th scope=row>45733</th><td> 45733</td><td> -3.8430090</td><td>3.37511020</td><td> -5.4928932</td><td> 6.1363776</td><td>  2.7971955</td><td>-2.6461623</td><td> -1.66893106</td><td>-2.6175521</td><td>-3.94584260</td><td>⋯</td><td> 0.7196520</td><td> 0.45112518</td><td>-0.2580937</td><td> 0.65612947</td><td> 0.5566763</td><td> 0.73938321</td><td>-0.20304967</td><td> 1.00</td><td>11.798333</td><td>1</td></tr>\n",
       "\t<tr><th scope=row>170000</th><td>170000</td><td>  2.0760203</td><td>0.06369736</td><td> -2.0494320</td><td> 1.0283798</td><td>  0.8844320</td><td>-0.2410088</td><td>  0.40290458</td><td>-0.1127567</td><td> 0.25235805</td><td>⋯</td><td> 0.1631978</td><td>-0.12364120</td><td>-1.1949015</td><td> 0.52369136</td><td>-0.4333701</td><td>-0.02859916</td><td>-0.08789943</td><td> 1.00</td><td> 9.324167</td><td>0</td></tr>\n",
       "</tbody>\n",
       "</table>\n"
      ],
      "text/latex": [
       "A data.frame: 6 × 32\n",
       "\\begin{tabular}{r|lllllllllllllllllllll}\n",
       "  & trans\\_ID & V1 & V2 & V3 & V4 & V5 & V6 & V7 & V8 & V9 & ⋯ & V22 & V23 & V24 & V25 & V26 & V27 & V28 & Amount & hour\\_of\\_day & Class\\\\\n",
       "  & <int> & <dbl> & <dbl> & <dbl> & <dbl> & <dbl> & <dbl> & <dbl> & <dbl> & <dbl> & ⋯ & <dbl> & <dbl> & <dbl> & <dbl> & <dbl> & <dbl> & <dbl> & <dbl> & <dbl> & <fct>\\\\\n",
       "\\hline\n",
       "\t154634 & 154634 &  -1.0206317 & 1.49695912 &  -4.4909371 &  1.8367271 &   0.6273185 & -2.7355686 &  -1.54627364 &  0.4598216 & -0.68274141 & ⋯ &  0.8606182 & -0.30466645 & -0.1554996 &  0.41216629 & -0.2200796 &  0.39233758 & -0.02008949 & 22.04 &  4.421667 & 1\\\\\n",
       "\t155952 & 155952 &  -1.6087734 & 0.84196546 &  -0.6348928 & -0.3570552 &   0.3094024 & -0.9504525 &  -0.07741544 &  0.7226990 &  1.09576411 & ⋯ & -0.7322489 &  0.70682708 & -0.4288958 & -0.28384982 &  0.1351560 &  0.10488739 & -0.10181733 &  9.81 &  5.685833 & 0\\\\\n",
       "\t150678 & 150678 & -13.0865194 & 7.35214834 & -18.2565761 & 10.6485054 & -11.7314765 & -3.6591674 & -14.87365796 &  8.8104727 & -5.41820407 & ⋯ & -0.2661618 & -0.41286072 &  0.5199522 & -0.74390896 & -0.1678082 & -2.49830025 & -0.71106615 & 30.31 &  2.077500 & 1\\\\\n",
       "\t41048 &  41048 &  -0.8836085 & 1.49986041 &   0.7045651 & -0.2517748 &   0.3905109 & -0.5520028 &   0.67635062 & -0.0598499 &  0.05826039 & ⋯ & -0.8557634 & -0.09063564 & -0.5166061 &  0.05765303 &  0.1201359 &  0.32244864 &  0.22339511 &  4.37 & 11.252778 & 0\\\\\n",
       "\t45733 &  45733 &  -3.8430090 & 3.37511020 &  -5.4928932 &  6.1363776 &   2.7971955 & -2.6461623 &  -1.66893106 & -2.6175521 & -3.94584260 & ⋯ &  0.7196520 &  0.45112518 & -0.2580937 &  0.65612947 &  0.5566763 &  0.73938321 & -0.20304967 &  1.00 & 11.798333 & 1\\\\\n",
       "\t170000 & 170000 &   2.0760203 & 0.06369736 &  -2.0494320 &  1.0283798 &   0.8844320 & -0.2410088 &   0.40290458 & -0.1127567 &  0.25235805 & ⋯ &  0.1631978 & -0.12364120 & -1.1949015 &  0.52369136 & -0.4333701 & -0.02859916 & -0.08789943 &  1.00 &  9.324167 & 0\\\\\n",
       "\\end{tabular}\n"
      ],
      "text/markdown": [
       "\n",
       "A data.frame: 6 × 32\n",
       "\n",
       "| <!--/--> | trans_ID &lt;int&gt; | V1 &lt;dbl&gt; | V2 &lt;dbl&gt; | V3 &lt;dbl&gt; | V4 &lt;dbl&gt; | V5 &lt;dbl&gt; | V6 &lt;dbl&gt; | V7 &lt;dbl&gt; | V8 &lt;dbl&gt; | V9 &lt;dbl&gt; | ⋯ ⋯ | V22 &lt;dbl&gt; | V23 &lt;dbl&gt; | V24 &lt;dbl&gt; | V25 &lt;dbl&gt; | V26 &lt;dbl&gt; | V27 &lt;dbl&gt; | V28 &lt;dbl&gt; | Amount &lt;dbl&gt; | hour_of_day &lt;dbl&gt; | Class &lt;fct&gt; |\n",
       "|---|---|---|---|---|---|---|---|---|---|---|---|---|---|---|---|---|---|---|---|---|---|\n",
       "| 154634 | 154634 |  -1.0206317 | 1.49695912 |  -4.4909371 |  1.8367271 |   0.6273185 | -2.7355686 |  -1.54627364 |  0.4598216 | -0.68274141 | ⋯ |  0.8606182 | -0.30466645 | -0.1554996 |  0.41216629 | -0.2200796 |  0.39233758 | -0.02008949 | 22.04 |  4.421667 | 1 |\n",
       "| 155952 | 155952 |  -1.6087734 | 0.84196546 |  -0.6348928 | -0.3570552 |   0.3094024 | -0.9504525 |  -0.07741544 |  0.7226990 |  1.09576411 | ⋯ | -0.7322489 |  0.70682708 | -0.4288958 | -0.28384982 |  0.1351560 |  0.10488739 | -0.10181733 |  9.81 |  5.685833 | 0 |\n",
       "| 150678 | 150678 | -13.0865194 | 7.35214834 | -18.2565761 | 10.6485054 | -11.7314765 | -3.6591674 | -14.87365796 |  8.8104727 | -5.41820407 | ⋯ | -0.2661618 | -0.41286072 |  0.5199522 | -0.74390896 | -0.1678082 | -2.49830025 | -0.71106615 | 30.31 |  2.077500 | 1 |\n",
       "| 41048 |  41048 |  -0.8836085 | 1.49986041 |   0.7045651 | -0.2517748 |   0.3905109 | -0.5520028 |   0.67635062 | -0.0598499 |  0.05826039 | ⋯ | -0.8557634 | -0.09063564 | -0.5166061 |  0.05765303 |  0.1201359 |  0.32244864 |  0.22339511 |  4.37 | 11.252778 | 0 |\n",
       "| 45733 |  45733 |  -3.8430090 | 3.37511020 |  -5.4928932 |  6.1363776 |   2.7971955 | -2.6461623 |  -1.66893106 | -2.6175521 | -3.94584260 | ⋯ |  0.7196520 |  0.45112518 | -0.2580937 |  0.65612947 |  0.5566763 |  0.73938321 | -0.20304967 |  1.00 | 11.798333 | 1 |\n",
       "| 170000 | 170000 |   2.0760203 | 0.06369736 |  -2.0494320 |  1.0283798 |   0.8844320 | -0.2410088 |   0.40290458 | -0.1127567 |  0.25235805 | ⋯ |  0.1631978 | -0.12364120 | -1.1949015 |  0.52369136 | -0.4333701 | -0.02859916 | -0.08789943 |  1.00 |  9.324167 | 0 |\n",
       "\n"
      ],
      "text/plain": [
       "       trans_ID V1          V2         V3          V4         V5         \n",
       "154634 154634    -1.0206317 1.49695912  -4.4909371  1.8367271   0.6273185\n",
       "155952 155952    -1.6087734 0.84196546  -0.6348928 -0.3570552   0.3094024\n",
       "150678 150678   -13.0865194 7.35214834 -18.2565761 10.6485054 -11.7314765\n",
       "41048   41048    -0.8836085 1.49986041   0.7045651 -0.2517748   0.3905109\n",
       "45733   45733    -3.8430090 3.37511020  -5.4928932  6.1363776   2.7971955\n",
       "170000 170000     2.0760203 0.06369736  -2.0494320  1.0283798   0.8844320\n",
       "       V6         V7           V8         V9          ⋯ V22        V23        \n",
       "154634 -2.7355686  -1.54627364  0.4598216 -0.68274141 ⋯  0.8606182 -0.30466645\n",
       "155952 -0.9504525  -0.07741544  0.7226990  1.09576411 ⋯ -0.7322489  0.70682708\n",
       "150678 -3.6591674 -14.87365796  8.8104727 -5.41820407 ⋯ -0.2661618 -0.41286072\n",
       "41048  -0.5520028   0.67635062 -0.0598499  0.05826039 ⋯ -0.8557634 -0.09063564\n",
       "45733  -2.6461623  -1.66893106 -2.6175521 -3.94584260 ⋯  0.7196520  0.45112518\n",
       "170000 -0.2410088   0.40290458 -0.1127567  0.25235805 ⋯  0.1631978 -0.12364120\n",
       "       V24        V25         V26        V27         V28         Amount\n",
       "154634 -0.1554996  0.41216629 -0.2200796  0.39233758 -0.02008949 22.04 \n",
       "155952 -0.4288958 -0.28384982  0.1351560  0.10488739 -0.10181733  9.81 \n",
       "150678  0.5199522 -0.74390896 -0.1678082 -2.49830025 -0.71106615 30.31 \n",
       "41048  -0.5166061  0.05765303  0.1201359  0.32244864  0.22339511  4.37 \n",
       "45733  -0.2580937  0.65612947  0.5566763  0.73938321 -0.20304967  1.00 \n",
       "170000 -1.1949015  0.52369136 -0.4333701 -0.02859916 -0.08789943  1.00 \n",
       "       hour_of_day Class\n",
       "154634  4.421667   1    \n",
       "155952  5.685833   0    \n",
       "150678  2.077500   1    \n",
       "41048  11.252778   0    \n",
       "45733  11.798333   1    \n",
       "170000  9.324167   0    "
      ]
     },
     "metadata": {},
     "output_type": "display_data"
    }
   ],
   "source": [
    "# View first 6 rows of validation dataframe \n",
    "\n",
    "head(VAL.train_df)"
   ]
  },
  {
   "cell_type": "code",
   "execution_count": 25,
   "id": "dd423420-b4d6-419d-b28d-70964a2e2443",
   "metadata": {},
   "outputs": [
    {
     "name": "stderr",
     "output_type": "stream",
     "text": [
      "Number of rows in SMALL train dataframe: 1391\n",
      "\n",
      "Number of rows in VAL train dataframe: 464\n",
      "\n",
      "Number of rows in undersampled train dataframe: 1855\n",
      "\n"
     ]
    }
   ],
   "source": [
    "message(\"Number of rows in SMALL train dataframe: \", SMALL.train_nrow)\n",
    "message(\"Number of rows in VAL train dataframe: \", VAL.train_nrow)\n",
    "message(\"Number of rows in undersampled train dataframe: \", under_nrow)"
   ]
  },
  {
   "cell_type": "code",
   "execution_count": 39,
   "id": "b18f28b4-98b1-434b-99c6-be5511a06222",
   "metadata": {},
   "outputs": [
    {
     "data": {
      "text/html": [
       "<style>\n",
       ".list-inline {list-style: none; margin:0; padding: 0}\n",
       ".list-inline>li {display: inline-block}\n",
       ".list-inline>li:not(:last-child)::after {content: \"\\00b7\"; padding: 0 .5ex}\n",
       "</style>\n",
       "<ol class=list-inline><li>1391</li><li>32</li></ol>\n"
      ],
      "text/latex": [
       "\\begin{enumerate*}\n",
       "\\item 1391\n",
       "\\item 32\n",
       "\\end{enumerate*}\n"
      ],
      "text/markdown": [
       "1. 1391\n",
       "2. 32\n",
       "\n",
       "\n"
      ],
      "text/plain": [
       "[1] 1391   32"
      ]
     },
     "metadata": {},
     "output_type": "display_data"
    },
    {
     "data": {
      "text/html": [
       "<style>\n",
       ".list-inline {list-style: none; margin:0; padding: 0}\n",
       ".list-inline>li {display: inline-block}\n",
       ".list-inline>li:not(:last-child)::after {content: \"\\00b7\"; padding: 0 .5ex}\n",
       "</style>\n",
       "<ol class=list-inline><li>464</li><li>32</li></ol>\n"
      ],
      "text/latex": [
       "\\begin{enumerate*}\n",
       "\\item 464\n",
       "\\item 32\n",
       "\\end{enumerate*}\n"
      ],
      "text/markdown": [
       "1. 464\n",
       "2. 32\n",
       "\n",
       "\n"
      ],
      "text/plain": [
       "[1] 464  32"
      ]
     },
     "metadata": {},
     "output_type": "display_data"
    }
   ],
   "source": [
    "# View the shapes of the small train and validation datasets \n",
    "\n",
    "dim(SMALL.train_df)\n",
    "dim(VAL.train_df)"
   ]
  },
  {
   "cell_type": "markdown",
   "id": "f5a91bf7-0e3a-4e2b-957a-66831ab9eedd",
   "metadata": {},
   "source": [
    "### Prediction models "
   ]
  },
  {
   "cell_type": "markdown",
   "id": "452f47b9-dfc2-4a84-a8ea-ba8a1ec848e6",
   "metadata": {},
   "source": [
    "#### Model 1: Decision Tree "
   ]
  },
  {
   "cell_type": "code",
   "execution_count": 40,
   "id": "d5f9bc63-a89f-40e6-8d4e-aef8d7b8cc27",
   "metadata": {},
   "outputs": [],
   "source": [
    "# Train the decision tree model \n",
    "\n",
    "treeModel.1 = rpart(Class ~ . , data = SMALL.train_df)"
   ]
  },
  {
   "cell_type": "code",
   "execution_count": 41,
   "id": "3ff91543-a4f7-4adc-9318-021487fd9b40",
   "metadata": {},
   "outputs": [
    {
     "data": {
      "image/png": "[encoded data removed]",
      "text/plain": [
       "plot without title"
      ]
     },
     "metadata": {
      "image/png": {
       "height": 420,
       "width": 420
      }
     },
     "output_type": "display_data"
    }
   ],
   "source": [
    "# Plot the decision tree\n",
    "\n",
    "rpart.plot(treeModel.1)"
   ]
  },
  {
   "cell_type": "code",
   "execution_count": 42,
   "id": "c0f18401-c520-407b-af6d-bb1c5711965e",
   "metadata": {},
   "outputs": [],
   "source": [
    "# Make predictions based on the trained decision tree model \n",
    "\n",
    "pred.dt.m1 <- predict(treeModel.1, VAL.train_df, type ='class')"
   ]
  },
  {
   "cell_type": "code",
   "execution_count": 44,
   "id": "47b4ca49-8044-4654-81fe-cbca8a92764f",
   "metadata": {},
   "outputs": [
    {
     "data": {
      "text/plain": [
       "Confusion Matrix and Statistics\n",
       "\n",
       "          Reference\n",
       "Prediction   0   1\n",
       "         0 358   5\n",
       "         1  12  89\n",
       "                                         \n",
       "               Accuracy : 0.9634         \n",
       "                 95% CI : (0.942, 0.9785)\n",
       "    No Information Rate : 0.7974         \n",
       "    P-Value [Acc > NIR] : <2e-16         \n",
       "                                         \n",
       "                  Kappa : 0.8897         \n",
       "                                         \n",
       " Mcnemar's Test P-Value : 0.1456         \n",
       "                                         \n",
       "            Sensitivity : 0.9468         \n",
       "            Specificity : 0.9676         \n",
       "         Pos Pred Value : 0.8812         \n",
       "         Neg Pred Value : 0.9862         \n",
       "             Prevalence : 0.2026         \n",
       "         Detection Rate : 0.1918         \n",
       "   Detection Prevalence : 0.2177         \n",
       "      Balanced Accuracy : 0.9572         \n",
       "                                         \n",
       "       'Positive' Class : 1              \n",
       "                                         "
      ]
     },
     "metadata": {},
     "output_type": "display_data"
    }
   ],
   "source": [
    "# Create a confusion matrix \n",
    "\n",
    "cm.dt.m1 <- confusionMatrix(VAL.train_df$Class, pred.dt.m1, positive = '1')\n",
    "cm.dt.m1"
   ]
  },
  {
   "cell_type": "code",
   "execution_count": 46,
   "id": "10a7e8d2-c7bf-4c34-94bb-6daacac802be",
   "metadata": {},
   "outputs": [
    {
     "data": {
      "text/html": [
       "0.976807639836289"
      ],
      "text/latex": [
       "0.976807639836289"
      ],
      "text/markdown": [
       "0.976807639836289"
      ],
      "text/plain": [
       "[1] 0.9768076"
      ]
     },
     "metadata": {},
     "output_type": "display_data"
    }
   ],
   "source": [
    "# Determine the F1 score for the decision tree model \n",
    "\n",
    "F1.dt.m1 <- F1_Score(VAL.train_df$Class, pred.dt.m1)\n",
    "F1.dt.m1"
   ]
  },
  {
   "cell_type": "code",
   "execution_count": 47,
   "id": "7f2fd2cb-2e07-4dc6-a7a4-8e9c66216f56",
   "metadata": {},
   "outputs": [
    {
     "data": {
      "text/plain": [
       "Area under the curve (AUC): 0.934"
      ]
     },
     "metadata": {},
     "output_type": "display_data"
    },
    {
     "data": {
      "image/png": "[encoded data removed]",
      "text/plain": [
       "Plot with title “ROC curve”"
      ]
     },
     "metadata": {
      "image/png": {
       "height": 420,
       "width": 420
      }
     },
     "output_type": "display_data"
    }
   ],
   "source": [
    "# Create a ROC curve and generate the AUC score for the decision tree model \n",
    "\n",
    "roc.curve(VAL.train_df$Class, pred.dt.m1, plotit = TRUE, col = \"blue\")\n",
    "auc.dt.m1 <- roc.curve(VAL.train_df$Class, pred.dt.m1, plotit = FALSE)"
   ]
  },
  {
   "cell_type": "code",
   "execution_count": 173,
   "id": "80627a29-02f4-4aa7-a46d-deacd5601113",
   "metadata": {
    "collapsed": true,
    "jupyter": {
     "outputs_hidden": true
    },
    "tags": []
   },
   "outputs": [
    {
     "name": "stdout",
     "output_type": "stream",
     "text": [
      "Call:\n",
      "rpart(formula = Class ~ ., data = SMALL.train_df)\n",
      "  n= 1391 \n",
      "\n",
      "          CP nsplit rel error    xerror       xstd\n",
      "1 0.81144781      0 1.0000000 1.0000000 0.05145966\n",
      "2 0.01178451      1 0.1885522 0.1952862 0.02510204\n",
      "3 0.01000000      3 0.1649832 0.2020202 0.02551201\n",
      "\n",
      "Variable importance\n",
      "V14 V10 V17 V12 V11 V16  V4 \n",
      " 20  17  16  16  16  14   1 \n",
      "\n",
      "Node number 1: 1391 observations,    complexity param=0.8114478\n",
      "  predicted class=0  expected loss=0.2135155  P(node) =1\n",
      "    class counts:  1094   297\n",
      "   probabilities: 0.786 0.214 \n",
      "  left son=2 (1132 obs) right son=3 (259 obs)\n",
      "  Primary splits:\n",
      "      V14 < -2.786909  to the right, improve=359.7001, (0 missing)\n",
      "      V10 < -1.954046  to the right, improve=336.0335, (0 missing)\n",
      "      V12 < -3.055907  to the right, improve=324.4075, (0 missing)\n",
      "      V17 < -1.577939  to the right, improve=317.2214, (0 missing)\n",
      "      V11 < 1.87857    to the left,  improve=307.6952, (0 missing)\n",
      "  Surrogate splits:\n",
      "      V10 < -2.131034  to the right, agree=0.975, adj=0.865, (0 split)\n",
      "      V17 < -1.577939  to the right, agree=0.965, adj=0.815, (0 split)\n",
      "      V12 < -3.055907  to the right, agree=0.964, adj=0.807, (0 split)\n",
      "      V11 < 1.87857    to the left,  agree=0.963, adj=0.803, (0 split)\n",
      "      V16 < -1.903558  to the right, agree=0.945, adj=0.703, (0 split)\n",
      "\n",
      "Node number 2: 1132 observations,    complexity param=0.01178451\n",
      "  predicted class=0  expected loss=0.04151943  P(node) =0.813803\n",
      "    class counts:  1085    47\n",
      "   probabilities: 0.958 0.042 \n",
      "  left son=4 (1050 obs) right son=5 (82 obs)\n",
      "  Primary splits:\n",
      "      V4  < 2.229085   to the left,  improve=10.096760, (0 missing)\n",
      "      V12 < -3.222876  to the right, improve= 9.371332, (0 missing)\n",
      "      V14 < -1.418558  to the right, improve= 7.744038, (0 missing)\n",
      "      V17 < 1.412589   to the left,  improve= 6.647316, (0 missing)\n",
      "      V22 < 1.758672   to the left,  improve= 3.789818, (0 missing)\n",
      "  Surrogate splits:\n",
      "      Amount < 0.015      to the right, agree=0.936, adj=0.110, (0 split)\n",
      "      V12    < -3.254569  to the right, agree=0.933, adj=0.073, (0 split)\n",
      "      V17    < -3.271383  to the right, agree=0.932, adj=0.061, (0 split)\n",
      "      V1     < -6.993984  to the right, agree=0.931, adj=0.049, (0 split)\n",
      "      V2     < -8.692631  to the right, agree=0.930, adj=0.037, (0 split)\n",
      "\n",
      "Node number 3: 259 observations\n",
      "  predicted class=1  expected loss=0.03474903  P(node) =0.186197\n",
      "    class counts:     9   250\n",
      "   probabilities: 0.035 0.965 \n",
      "\n",
      "Node number 4: 1050 observations\n",
      "  predicted class=0  expected loss=0.02285714  P(node) =0.7548526\n",
      "    class counts:  1026    24\n",
      "   probabilities: 0.977 0.023 \n",
      "\n",
      "Node number 5: 82 observations,    complexity param=0.01178451\n",
      "  predicted class=0  expected loss=0.2804878  P(node) =0.0589504\n",
      "    class counts:    59    23\n",
      "   probabilities: 0.720 0.280 \n",
      "  left son=10 (63 obs) right son=11 (19 obs)\n",
      "  Primary splits:\n",
      "      V14 < -1.098279  to the right, improve=8.061638, (0 missing)\n",
      "      V10 < -0.0793793 to the right, improve=6.471488, (0 missing)\n",
      "      V12 < -2.75788   to the right, improve=6.266480, (0 missing)\n",
      "      V16 < -0.6828966 to the right, improve=6.147561, (0 missing)\n",
      "      V20 < 0.8046375  to the left,  improve=6.147561, (0 missing)\n",
      "  Surrogate splits:\n",
      "      V17 < 1.499234   to the left,  agree=0.854, adj=0.368, (0 split)\n",
      "      V4  < 4.671719   to the left,  agree=0.817, adj=0.211, (0 split)\n",
      "      V18 < 1.086777   to the left,  agree=0.817, adj=0.211, (0 split)\n",
      "      V5  < 1.305266   to the left,  agree=0.805, adj=0.158, (0 split)\n",
      "      V9  < -2.329873  to the right, agree=0.805, adj=0.158, (0 split)\n",
      "\n",
      "Node number 10: 63 observations\n",
      "  predicted class=0  expected loss=0.1587302  P(node) =0.04529116\n",
      "    class counts:    53    10\n",
      "   probabilities: 0.841 0.159 \n",
      "\n",
      "Node number 11: 19 observations\n",
      "  predicted class=1  expected loss=0.3157895  P(node) =0.01365924\n",
      "    class counts:     6    13\n",
      "   probabilities: 0.316 0.684 \n",
      "\n"
     ]
    }
   ],
   "source": [
    "# Generate the summary for the decision trees\n",
    "# Determine feature importance \n",
    "\n",
    "summary(treeModel.1)"
   ]
  },
  {
   "cell_type": "code",
   "execution_count": 49,
   "id": "79251dcd-e38c-4a68-a97d-00c87fa5a403",
   "metadata": {},
   "outputs": [
    {
     "data": {
      "text/html": [
       "<table class=\"dataframe\">\n",
       "<caption>A data.frame: 1 × 3</caption>\n",
       "<thead>\n",
       "\t<tr><th scope=col>F1</th><th scope=col>AUC</th><th scope=col>Model</th></tr>\n",
       "\t<tr><th scope=col>&lt;dbl&gt;</th><th scope=col>&lt;dbl&gt;</th><th scope=col>&lt;chr&gt;</th></tr>\n",
       "</thead>\n",
       "<tbody>\n",
       "\t<tr><td>0.9768076</td><td>0.934</td><td>DT Model 1</td></tr>\n",
       "</tbody>\n",
       "</table>\n"
      ],
      "text/latex": [
       "A data.frame: 1 × 3\n",
       "\\begin{tabular}{lll}\n",
       " F1 & AUC & Model\\\\\n",
       " <dbl> & <dbl> & <chr>\\\\\n",
       "\\hline\n",
       "\t 0.9768076 & 0.934 & DT Model 1\\\\\n",
       "\\end{tabular}\n"
      ],
      "text/markdown": [
       "\n",
       "A data.frame: 1 × 3\n",
       "\n",
       "| F1 &lt;dbl&gt; | AUC &lt;dbl&gt; | Model &lt;chr&gt; |\n",
       "|---|---|---|\n",
       "| 0.9768076 | 0.934 | DT Model 1 |\n",
       "\n"
      ],
      "text/plain": [
       "  F1        AUC   Model     \n",
       "1 0.9768076 0.934 DT Model 1"
      ]
     },
     "metadata": {},
     "output_type": "display_data"
    }
   ],
   "source": [
    "# Create a table to store the results \n",
    "\n",
    "model.results <- data.frame(F1 = F1.dt.m1, AUC = 0.934, Model=\"DT Model 1\")\n",
    "model.results"
   ]
  },
  {
   "cell_type": "markdown",
   "id": "f4aa0ac1-b236-40fd-9b5c-8990e4dd8f1a",
   "metadata": {},
   "source": [
    "#### Model 2: Random Forest "
   ]
  },
  {
   "cell_type": "code",
   "execution_count": 151,
   "id": "9167350f-3548-4665-98c2-c842dc49f443",
   "metadata": {},
   "outputs": [
    {
     "name": "stdout",
     "output_type": "stream",
     "text": [
      "\n",
      "Call:\n",
      " randomForest(formula = Class ~ ., data = SMALL.train_df) \n",
      "               Type of random forest: classification\n",
      "                     Number of trees: 500\n",
      "No. of variables tried at each split: 5\n",
      "\n",
      "        OOB estimate of  error rate: 3.24%\n",
      "Confusion matrix:\n",
      "     0   1 class.error\n",
      "0 1115   6 0.005352364\n",
      "1   39 231 0.144444444\n"
     ]
    }
   ],
   "source": [
    "# Train the random forest model \n",
    "\n",
    "rfModel.2 <- randomForest(Class ~ . , data = SMALL.train_df)\n",
    "print(rfModel.2)"
   ]
  },
  {
   "cell_type": "code",
   "execution_count": 152,
   "id": "c6edd4ff-1abd-4449-86c1-662a7e350f42",
   "metadata": {},
   "outputs": [
    {
     "data": {
      "image/png": "[encoded data removed]",
      "text/plain": [
       "Plot with title “Top 10 Most Important Variables”"
      ]
     },
     "metadata": {
      "image/png": {
       "height": 240,
       "width": 300
      }
     },
     "output_type": "display_data"
    }
   ],
   "source": [
    "# Plot the importance of each variable.\n",
    "\n",
    "options(repr.plot.width=5, repr.plot.height=4)\n",
    "varImpPlot(rfModel.2,\n",
    "          sort = T,\n",
    "           n.var=10,\n",
    "           main=\"Top 10 Most Important Variables\")"
   ]
  },
  {
   "cell_type": "code",
   "execution_count": 153,
   "id": "cb1d85bb-a54f-475f-ae99-a4ee26cf7b04",
   "metadata": {},
   "outputs": [],
   "source": [
    "# Make predictions based on the trained random forest model \n",
    "\n",
    "pred.rf.m2 <- predict(rfModel.2, VAL.train_df)"
   ]
  },
  {
   "cell_type": "code",
   "execution_count": 154,
   "id": "5c1911b5-641c-4ac0-8697-ac9ea04513c0",
   "metadata": {},
   "outputs": [
    {
     "data": {
      "text/plain": [
       "Confusion Matrix and Statistics\n",
       "\n",
       "          Reference\n",
       "Prediction   0   1\n",
       "         0 359   4\n",
       "         1  10  91\n",
       "                                          \n",
       "               Accuracy : 0.9698          \n",
       "                 95% CI : (0.9499, 0.9834)\n",
       "    No Information Rate : 0.7953          \n",
       "    P-Value [Acc > NIR] : <2e-16          \n",
       "                                          \n",
       "                  Kappa : 0.9095          \n",
       "                                          \n",
       " Mcnemar's Test P-Value : 0.1814          \n",
       "                                          \n",
       "            Sensitivity : 0.9579          \n",
       "            Specificity : 0.9729          \n",
       "         Pos Pred Value : 0.9010          \n",
       "         Neg Pred Value : 0.9890          \n",
       "             Prevalence : 0.2047          \n",
       "         Detection Rate : 0.1961          \n",
       "   Detection Prevalence : 0.2177          \n",
       "      Balanced Accuracy : 0.9654          \n",
       "                                          \n",
       "       'Positive' Class : 1               \n",
       "                                          "
      ]
     },
     "metadata": {},
     "output_type": "display_data"
    }
   ],
   "source": [
    "# Create a confusion matrix \n",
    "\n",
    "cm.rf.m2 <- confusionMatrix(VAL.train_df$Class, pred.rf.m2, positive = '1')\n",
    "cm.rf.m2"
   ]
  },
  {
   "cell_type": "code",
   "execution_count": 155,
   "id": "f2f0ff98-90d8-4f0b-9e3e-a5400b97a3c6",
   "metadata": {},
   "outputs": [
    {
     "data": {
      "text/html": [
       "0.980874316939891"
      ],
      "text/latex": [
       "0.980874316939891"
      ],
      "text/markdown": [
       "0.980874316939891"
      ],
      "text/plain": [
       "[1] 0.9808743"
      ]
     },
     "metadata": {},
     "output_type": "display_data"
    }
   ],
   "source": [
    "# Determine the F1 score for the random forest model \n",
    "\n",
    "F1.rf.m2 <- F1_Score(VAL.train_df$Class, pred.rf.m2)\n",
    "F1.rf.m2"
   ]
  },
  {
   "cell_type": "code",
   "execution_count": 156,
   "id": "4a07e40d-2b57-436d-a18a-047e7fe0569f",
   "metadata": {},
   "outputs": [
    {
     "data": {
      "text/plain": [
       "Area under the curve (AUC): 0.945"
      ]
     },
     "metadata": {},
     "output_type": "display_data"
    },
    {
     "data": {
      "image/png": "[encoded data removed]",
      "text/plain": [
       "Plot with title “ROC curve”"
      ]
     },
     "metadata": {
      "image/png": {
       "height": 240,
       "width": 300
      }
     },
     "output_type": "display_data"
    }
   ],
   "source": [
    "# Create a ROC curve and generate the AUC score for the random forest model \n",
    "\n",
    "roc.curve(VAL.train_df$Class, pred.rf.m2, plotit = TRUE, col = \"blue\")"
   ]
  },
  {
   "cell_type": "code",
   "execution_count": 157,
   "id": "bb3a742d-74fd-42a6-b310-ab56c0dad57f",
   "metadata": {},
   "outputs": [
    {
     "data": {
      "text/html": [
       "<table class=\"dataframe\">\n",
       "<caption>A data.frame: 2 × 3</caption>\n",
       "<thead>\n",
       "\t<tr><th scope=col>F1</th><th scope=col>AUC</th><th scope=col>Model</th></tr>\n",
       "\t<tr><th scope=col>&lt;dbl&gt;</th><th scope=col>&lt;dbl&gt;</th><th scope=col>&lt;chr&gt;</th></tr>\n",
       "</thead>\n",
       "<tbody>\n",
       "\t<tr><td>0.9768076</td><td>0.934</td><td>DT Model 1</td></tr>\n",
       "\t<tr><td>0.9808743</td><td>0.945</td><td>RF Model 2</td></tr>\n",
       "</tbody>\n",
       "</table>\n"
      ],
      "text/latex": [
       "A data.frame: 2 × 3\n",
       "\\begin{tabular}{lll}\n",
       " F1 & AUC & Model\\\\\n",
       " <dbl> & <dbl> & <chr>\\\\\n",
       "\\hline\n",
       "\t 0.9768076 & 0.934 & DT Model 1\\\\\n",
       "\t 0.9808743 & 0.945 & RF Model 2\\\\\n",
       "\\end{tabular}\n"
      ],
      "text/markdown": [
       "\n",
       "A data.frame: 2 × 3\n",
       "\n",
       "| F1 &lt;dbl&gt; | AUC &lt;dbl&gt; | Model &lt;chr&gt; |\n",
       "|---|---|---|\n",
       "| 0.9768076 | 0.934 | DT Model 1 |\n",
       "| 0.9808743 | 0.945 | RF Model 2 |\n",
       "\n"
      ],
      "text/plain": [
       "  F1        AUC   Model     \n",
       "1 0.9768076 0.934 DT Model 1\n",
       "2 0.9808743 0.945 RF Model 2"
      ]
     },
     "metadata": {},
     "output_type": "display_data"
    }
   ],
   "source": [
    "model.results.2 <- rbind(model.results, data.frame(F1 = F1.rf.m2, AUC = 0.945, Model=\"RF Model 2\"))\n",
    "model.results.2"
   ]
  },
  {
   "cell_type": "code",
   "execution_count": 158,
   "id": "15b0c855-c4f4-4067-a93c-1f1eeb739373",
   "metadata": {},
   "outputs": [
    {
     "data": {
      "text/plain": [
       "Confusion Matrix and Statistics\n",
       "\n",
       "          Reference\n",
       "Prediction   0   1\n",
       "         0 361   2\n",
       "         1  10  91\n",
       "                                          \n",
       "               Accuracy : 0.9741          \n",
       "                 95% CI : (0.9553, 0.9866)\n",
       "    No Information Rate : 0.7996          \n",
       "    P-Value [Acc > NIR] : < 2e-16         \n",
       "                                          \n",
       "                  Kappa : 0.9218          \n",
       "                                          \n",
       " Mcnemar's Test P-Value : 0.04331         \n",
       "                                          \n",
       "            Sensitivity : 0.9785          \n",
       "            Specificity : 0.9730          \n",
       "         Pos Pred Value : 0.9010          \n",
       "         Neg Pred Value : 0.9945          \n",
       "             Prevalence : 0.2004          \n",
       "         Detection Rate : 0.1961          \n",
       "   Detection Prevalence : 0.2177          \n",
       "      Balanced Accuracy : 0.9758          \n",
       "                                          \n",
       "       'Positive' Class : 1               \n",
       "                                          "
      ]
     },
     "metadata": {},
     "output_type": "display_data"
    },
    {
     "data": {
      "text/plain": [
       "Area under the curve (AUC): 0.948"
      ]
     },
     "metadata": {},
     "output_type": "display_data"
    },
    {
     "data": {
      "image/png": "[encoded data removed]",
      "text/plain": [
       "Plot with title “ROC curve”"
      ]
     },
     "metadata": {
      "image/png": {
       "height": 240,
       "width": 300
      }
     },
     "output_type": "display_data"
    }
   ],
   "source": [
    "# Refining the random forest model using feature importance \n",
    "# Train the model on the top ten features \n",
    "\n",
    "# Train the model with top 10 most important features \n",
    "rfModel.2.Trim10 <- randomForest(Class ~  V14 + V10 + V12 + V17 + V11 + V4 + V16 + V3 + V7 + V2, \n",
    "                            data = SMALL.train_df)\n",
    "\n",
    "# Make predictions on the validation set \n",
    "pred.m2.Trim10 <- predict(rfModel.2.Trim10, VAL.train_df)\n",
    "\n",
    "# Create a confusion matrix \n",
    "cm.rf.Trim10 <- confusionMatrix(VAL.train_df$Class, pred.m2.Trim10, positive = '1')\n",
    "cm.rf.Trim10\n",
    "\n",
    "# Determine the f1 score of the results \n",
    "F1_rf.Trim10 <- F1_Score(VAL.train_df$Class, pred.m2.Trim10)\n",
    "\n",
    "# Create a ROC curve and generate the AUC score for the results \n",
    "roc.curve(VAL.train_df$Class, pred.m2.Trim10, plotit = TRUE, col = \"blue\")"
   ]
  },
  {
   "cell_type": "code",
   "execution_count": 160,
   "id": "6dfbb161-2d5f-4c5f-a081-47ef3caaf90f",
   "metadata": {},
   "outputs": [
    {
     "data": {
      "text/html": [
       "<table class=\"dataframe\">\n",
       "<caption>A data.frame: 3 × 3</caption>\n",
       "<thead>\n",
       "\t<tr><th scope=col>F1</th><th scope=col>AUC</th><th scope=col>Model</th></tr>\n",
       "\t<tr><th scope=col>&lt;dbl&gt;</th><th scope=col>&lt;dbl&gt;</th><th scope=col>&lt;chr&gt;</th></tr>\n",
       "</thead>\n",
       "<tbody>\n",
       "\t<tr><td>0.9768076</td><td>0.934</td><td>DT Model 1       </td></tr>\n",
       "\t<tr><td>0.9808743</td><td>0.945</td><td>RF Model 2       </td></tr>\n",
       "\t<tr><td>0.9836512</td><td>0.948</td><td> RF (10 features)</td></tr>\n",
       "</tbody>\n",
       "</table>\n"
      ],
      "text/latex": [
       "A data.frame: 3 × 3\n",
       "\\begin{tabular}{lll}\n",
       " F1 & AUC & Model\\\\\n",
       " <dbl> & <dbl> & <chr>\\\\\n",
       "\\hline\n",
       "\t 0.9768076 & 0.934 & DT Model 1       \\\\\n",
       "\t 0.9808743 & 0.945 & RF Model 2       \\\\\n",
       "\t 0.9836512 & 0.948 &  RF (10 features)\\\\\n",
       "\\end{tabular}\n"
      ],
      "text/markdown": [
       "\n",
       "A data.frame: 3 × 3\n",
       "\n",
       "| F1 &lt;dbl&gt; | AUC &lt;dbl&gt; | Model &lt;chr&gt; |\n",
       "|---|---|---|\n",
       "| 0.9768076 | 0.934 | DT Model 1        |\n",
       "| 0.9808743 | 0.945 | RF Model 2        |\n",
       "| 0.9836512 | 0.948 |  RF (10 features) |\n",
       "\n"
      ],
      "text/plain": [
       "  F1        AUC   Model            \n",
       "1 0.9768076 0.934 DT Model 1       \n",
       "2 0.9808743 0.945 RF Model 2       \n",
       "3 0.9836512 0.948  RF (10 features)"
      ]
     },
     "metadata": {},
     "output_type": "display_data"
    }
   ],
   "source": [
    "# Combine the results into the results table \n",
    "model.results.3 <- rbind(model.results.2, data.frame(F1 = F1_rf.Trim10, AUC = 0.948, Model=\" RF (10 features)\"))\n",
    "model.results.3"
   ]
  },
  {
   "cell_type": "code",
   "execution_count": 161,
   "id": "a71458e3-c2ed-451b-af99-652509682cfe",
   "metadata": {},
   "outputs": [],
   "source": [
    "# 10 features performed less well than all features together \n",
    "# Determine whether there is an optimal feature number for Random Forest model \n",
    "\n",
    "# TOP 9 FEATURES \n",
    "rfModel.2.Trim9 <- randomForest(Class ~  V14 + V10 + V12 + V17 + V11 + V4 + V16 + V3 + V7, \n",
    "                            data = SMALL.train_df)\n",
    " \n",
    "pred.m2.Trim9 <- predict(rfModel.2.Trim9, VAL.train_df)\n",
    "\n",
    "F1_rf.Trim9 <- F1_Score(VAL.train_df$Class, pred.m2.Trim9)\n",
    "\n",
    "#___________________\n",
    "\n",
    "\n",
    "# TOP 8 FEATURES \n",
    "rfModel.2.Trim8 <- randomForest(Class ~  V14 + V10 + V12 + V17 + V11 + V4 + V16 + V3, \n",
    "                            data = SMALL.train_df)\n",
    " \n",
    "pred.m2.Trim8 <- predict(rfModel.2.Trim8, VAL.train_df)\n",
    "\n",
    "F1_rf.Trim8 <- F1_Score(VAL.train_df$Class, pred.m2.Trim8)\n",
    "\n",
    "\n",
    "#___________________\n",
    "# TOP 7 FEATURES \n",
    "rfModel.2.Trim7 <- randomForest(Class ~  V14 + V10 + V12 + V17 + V11 + V4 + V16, \n",
    "                            data = SMALL.train_df)\n",
    " \n",
    "pred.m2.Trim7 <- predict(rfModel.2.Trim7, VAL.train_df)\n",
    "\n",
    "F1_rf.Trim7 <- F1_Score(VAL.train_df$Class, pred.m2.Trim7)\n",
    "\n",
    "\n",
    "#___________________\n",
    "# TOP 6 FEATURES \n",
    "rfModel.2.Trim6 <- randomForest(Class ~  V14 + V10 + V12 + V17 + V11 + V4, \n",
    "                            data = SMALL.train_df)\n",
    " \n",
    "pred.m2.Trim6 <- predict(rfModel.2.Trim6, VAL.train_df)\n",
    "\n",
    "F1_rf.Trim6 <- F1_Score(VAL.train_df$Class, pred.m2.Trim6)\n",
    "\n",
    "\n",
    "#___________________\n",
    "# TOP 5 FEATURES \n",
    "rfModel.2.Trim5 <- randomForest(Class ~  V14 + V10 + V12 + V17 + V11, \n",
    "                            data = SMALL.train_df)\n",
    " \n",
    "pred.m2.Trim5 <- predict(rfModel.2.Trim5, VAL.train_df)\n",
    "\n",
    "F1_rf.Trim5 <- F1_Score(VAL.train_df$Class, pred.m2.Trim5)\n",
    "\n",
    "\n",
    "#___________________\n",
    "# TOP 4 FEATURES \n",
    "rfModel.2.Trim4 <- randomForest(Class ~  V14 + V10 + V12 + V17, \n",
    "                            data = SMALL.train_df)\n",
    " \n",
    "pred.m2.Trim4 <- predict(rfModel.2.Trim4, VAL.train_df)\n",
    "\n",
    "F1_rf.Trim4 <- F1_Score(VAL.train_df$Class, pred.m2.Trim4)\n",
    "\n",
    "\n",
    "#___________________\n",
    "# TOP 3 FEATURES \n",
    "rfModel.2.Trim3 <- randomForest(Class ~  V14 + V10 + V12, \n",
    "                            data = SMALL.train_df)\n",
    " \n",
    "pred.m2.Trim3 <- predict(rfModel.2.Trim3, VAL.train_df)\n",
    "\n",
    "F1_rf.Trim3 <- F1_Score(VAL.train_df$Class, pred.m2.Trim3)\n",
    "\n",
    "\n",
    "#___________________\n",
    "# TOP 2 FEATURES \n",
    "rfModel.2.Trim2 <- randomForest(Class ~  V14 + V10, \n",
    "                            data = SMALL.train_df)\n",
    " \n",
    "pred.m2.Trim2 <- predict(rfModel.2.Trim2, VAL.train_df)\n",
    "\n",
    "F1_rf.Trim2 <- F1_Score(VAL.train_df$Class, pred.m2.Trim2)\n",
    "\n",
    "\n",
    "#___________________\n",
    "# TOP FEATURE\n",
    "rfModel.2.Trim1 <- randomForest(Class ~  V14, \n",
    "                            data = SMALL.train_df)\n",
    " \n",
    "pred.m2.Trim1 <- predict(rfModel.2.Trim1, VAL.train_df)\n",
    "\n",
    "F1_rf.Trim1 <- F1_Score(VAL.train_df$Class, pred.m2.Trim1)"
   ]
  },
  {
   "cell_type": "code",
   "execution_count": 162,
   "id": "8889abcf-f2d1-4193-a156-5f8774644cbd",
   "metadata": {},
   "outputs": [
    {
     "data": {
      "image/png": "[encoded data removed]",
      "text/plain": [
       "plot without title"
      ]
     },
     "metadata": {
      "image/png": {
       "height": 180,
       "width": 240
      }
     },
     "output_type": "display_data"
    }
   ],
   "source": [
    "# Create a graph of the F1 scores to determine the optimal number of features to include in the model\n",
    "\n",
    "# build dataframe of number of variables and scores\n",
    "numVariables <- c(1,2,3,4,5,6,7,8,9,10,30)\n",
    "F1_Scores <- c(F1_rf.Trim1, F1_rf.Trim2, F1_rf.Trim3, F1_rf.Trim4, F1_rf.Trim5, \n",
    "               F1_rf.Trim6, F1_rf.Trim7, F1_rf.Trim8, F1_rf.Trim9, F1_rf.Trim10, F1.rf.m2)\n",
    "variablePerf <- data.frame(numVariables, F1_Scores)\n",
    "\n",
    "# plot score performance against number of variables\n",
    "options(repr.plot.width=4, repr.plot.height=3)\n",
    "ggplot(variablePerf, aes(numVariables, F1_Scores)) + geom_point() + labs(x = \"Number of Variables\", y = \"F1 Score\", title = \"F1 Score Performance\")"
   ]
  },
  {
   "cell_type": "code",
   "execution_count": 164,
   "id": "433c56dc-355a-4628-84a7-0c8f6477f044",
   "metadata": {},
   "outputs": [
    {
     "data": {
      "text/plain": [
       "Confusion Matrix and Statistics\n",
       "\n",
       "          Reference\n",
       "Prediction   0   1\n",
       "         0 363   0\n",
       "         1  10  91\n",
       "                                          \n",
       "               Accuracy : 0.9784          \n",
       "                 95% CI : (0.9607, 0.9896)\n",
       "    No Information Rate : 0.8039          \n",
       "    P-Value [Acc > NIR] : < 2.2e-16       \n",
       "                                          \n",
       "                  Kappa : 0.9344          \n",
       "                                          \n",
       " Mcnemar's Test P-Value : 0.004427        \n",
       "                                          \n",
       "            Sensitivity : 1.0000          \n",
       "            Specificity : 0.9732          \n",
       "         Pos Pred Value : 0.9010          \n",
       "         Neg Pred Value : 1.0000          \n",
       "             Prevalence : 0.1961          \n",
       "         Detection Rate : 0.1961          \n",
       "   Detection Prevalence : 0.2177          \n",
       "      Balanced Accuracy : 0.9866          \n",
       "                                          \n",
       "       'Positive' Class : 1               \n",
       "                                          "
      ]
     },
     "metadata": {},
     "output_type": "display_data"
    },
    {
     "data": {
      "text/plain": [
       "Area under the curve (AUC): 0.950"
      ]
     },
     "metadata": {},
     "output_type": "display_data"
    },
    {
     "data": {
      "image/png": "[encoded data removed]",
      "text/plain": [
       "Plot with title “ROC curve”"
      ]
     },
     "metadata": {
      "image/png": {
       "height": 180,
       "width": 240
      }
     },
     "output_type": "display_data"
    }
   ],
   "source": [
    "# The graph shows 7 variables perform best \n",
    "# Creating F1 and AUC scores for 7 variables \n",
    "\n",
    "# Create a confusion matrix \n",
    "cm.rf.Trim7 <- confusionMatrix(VAL.train_df$Class, pred.m2.Trim7, positive = '1')\n",
    "cm.rf.Trim7\n",
    "\n",
    "# Create a ROC curve and generate the AUC score for the results \n",
    "roc.curve(VAL.train_df$Class, pred.m2.Trim7, plotit = TRUE, col = \"blue\")"
   ]
  },
  {
   "cell_type": "code",
   "execution_count": 165,
   "id": "7f11b8b4-da38-410c-a33b-6766fcee649f",
   "metadata": {},
   "outputs": [
    {
     "data": {
      "text/html": [
       "<table class=\"dataframe\">\n",
       "<caption>A data.frame: 4 × 3</caption>\n",
       "<thead>\n",
       "\t<tr><th scope=col>F1</th><th scope=col>AUC</th><th scope=col>Model</th></tr>\n",
       "\t<tr><th scope=col>&lt;dbl&gt;</th><th scope=col>&lt;dbl&gt;</th><th scope=col>&lt;chr&gt;</th></tr>\n",
       "</thead>\n",
       "<tbody>\n",
       "\t<tr><td>0.9768076</td><td>0.934</td><td>DT Model 1       </td></tr>\n",
       "\t<tr><td>0.9808743</td><td>0.945</td><td>RF Model 2       </td></tr>\n",
       "\t<tr><td>0.9836512</td><td>0.948</td><td> RF (10 features)</td></tr>\n",
       "\t<tr><td>0.9864130</td><td>0.950</td><td> RF (7 features) </td></tr>\n",
       "</tbody>\n",
       "</table>\n"
      ],
      "text/latex": [
       "A data.frame: 4 × 3\n",
       "\\begin{tabular}{lll}\n",
       " F1 & AUC & Model\\\\\n",
       " <dbl> & <dbl> & <chr>\\\\\n",
       "\\hline\n",
       "\t 0.9768076 & 0.934 & DT Model 1       \\\\\n",
       "\t 0.9808743 & 0.945 & RF Model 2       \\\\\n",
       "\t 0.9836512 & 0.948 &  RF (10 features)\\\\\n",
       "\t 0.9864130 & 0.950 &  RF (7 features) \\\\\n",
       "\\end{tabular}\n"
      ],
      "text/markdown": [
       "\n",
       "A data.frame: 4 × 3\n",
       "\n",
       "| F1 &lt;dbl&gt; | AUC &lt;dbl&gt; | Model &lt;chr&gt; |\n",
       "|---|---|---|\n",
       "| 0.9768076 | 0.934 | DT Model 1        |\n",
       "| 0.9808743 | 0.945 | RF Model 2        |\n",
       "| 0.9836512 | 0.948 |  RF (10 features) |\n",
       "| 0.9864130 | 0.950 |  RF (7 features)  |\n",
       "\n"
      ],
      "text/plain": [
       "  F1        AUC   Model            \n",
       "1 0.9768076 0.934 DT Model 1       \n",
       "2 0.9808743 0.945 RF Model 2       \n",
       "3 0.9836512 0.948  RF (10 features)\n",
       "4 0.9864130 0.950  RF (7 features) "
      ]
     },
     "metadata": {},
     "output_type": "display_data"
    }
   ],
   "source": [
    "# Combine the results into the results table \n",
    "model.results.4 <- rbind(model.results.3, data.frame(F1 = F1_rf.Trim7, AUC = 0.950, Model=\" RF (7 features)\"))\n",
    "model.results.4"
   ]
  },
  {
   "cell_type": "code",
   "execution_count": 168,
   "id": "e6201d26-dd19-49f2-bff4-86cec0a6cee6",
   "metadata": {},
   "outputs": [
    {
     "data": {
      "image/png": "[encoded data removed]",
      "text/plain": [
       "Plot with title “rfModel.2.Trim7”"
      ]
     },
     "metadata": {
      "image/png": {
       "height": 240,
       "width": 360
      }
     },
     "output_type": "display_data"
    }
   ],
   "source": [
    "fig(6,4)\n",
    "plot(rfModel.2.Trim7)"
   ]
  },
  {
   "cell_type": "markdown",
   "id": "39d39320-b926-4d61-8abd-e53a8b5b89c9",
   "metadata": {},
   "source": [
    "#### Model 3: KNN"
   ]
  },
  {
   "cell_type": "code",
   "execution_count": 169,
   "id": "b75a0643-63d4-4968-9d39-c3e36c163bae",
   "metadata": {},
   "outputs": [],
   "source": [
    "# Train the KNN algorithm \n",
    "\n",
    "knn.m3 <- knn(train = SMALL.train_df[,-32], test = VAL.train_df[,-32], cl = SMALL.train_df$Class, k = 5)"
   ]
  },
  {
   "cell_type": "code",
   "execution_count": 170,
   "id": "84f0f93f-e2bc-472a-aa14-879fad58212d",
   "metadata": {},
   "outputs": [
    {
     "data": {
      "text/plain": [
       "Confusion Matrix and Statistics\n",
       "\n",
       "          Reference\n",
       "Prediction   0   1\n",
       "         0 346  73\n",
       "         1  17  28\n",
       "                                         \n",
       "               Accuracy : 0.806          \n",
       "                 95% CI : (0.7671, 0.841)\n",
       "    No Information Rate : 0.7823         \n",
       "    P-Value [Acc > NIR] : 0.1178         \n",
       "                                         \n",
       "                  Kappa : 0.288          \n",
       "                                         \n",
       " Mcnemar's Test P-Value : 6.731e-09      \n",
       "                                         \n",
       "            Sensitivity : 0.27723        \n",
       "            Specificity : 0.95317        \n",
       "         Pos Pred Value : 0.62222        \n",
       "         Neg Pred Value : 0.82578        \n",
       "             Prevalence : 0.21767        \n",
       "         Detection Rate : 0.06034        \n",
       "   Detection Prevalence : 0.09698        \n",
       "      Balanced Accuracy : 0.61520        \n",
       "                                         \n",
       "       'Positive' Class : 1              \n",
       "                                         "
      ]
     },
     "metadata": {},
     "output_type": "display_data"
    }
   ],
   "source": [
    "# Confusion matrix for KNN model \n",
    "\n",
    "cm.rf.m3 <- confusionMatrix(knn.m3, VAL.train_df$Class, positive = '1')\n",
    "cm.rf.m3"
   ]
  },
  {
   "cell_type": "code",
   "execution_count": 171,
   "id": "58afcbfc-20cd-4dfb-8995-515a30a74272",
   "metadata": {},
   "outputs": [
    {
     "data": {
      "text/html": [
       "0.884910485933504"
      ],
      "text/latex": [
       "0.884910485933504"
      ],
      "text/markdown": [
       "0.884910485933504"
      ],
      "text/plain": [
       "[1] 0.8849105"
      ]
     },
     "metadata": {},
     "output_type": "display_data"
    }
   ],
   "source": [
    "# F1 Score for the KNN model \n",
    "\n",
    "F1.knn.m3 <- F1_Score(VAL.train_df$Class, knn.m3)\n",
    "F1.knn.m3"
   ]
  },
  {
   "cell_type": "code",
   "execution_count": 172,
   "id": "a7865e66-bb3e-43d4-a2dd-c0c00feb6ebf",
   "metadata": {},
   "outputs": [
    {
     "data": {
      "text/plain": [
       "Area under the curve (AUC): 0.615"
      ]
     },
     "metadata": {},
     "output_type": "display_data"
    },
    {
     "data": {
      "image/png": "[encoded data removed]",
      "text/plain": [
       "Plot with title “ROC curve”"
      ]
     },
     "metadata": {
      "image/png": {
       "height": 240,
       "width": 360
      }
     },
     "output_type": "display_data"
    }
   ],
   "source": [
    "# Create a ROC curve and generate the AUC score for the KNN model \n",
    "\n",
    "roc.curve(VAL.train_df$Class, knn.m3, plotit = TRUE, col = \"blue\")"
   ]
  },
  {
   "cell_type": "code",
   "execution_count": 173,
   "id": "7ed76097-9b9e-4fe5-9ef1-0117ace47308",
   "metadata": {},
   "outputs": [
    {
     "data": {
      "text/html": [
       "<table class=\"dataframe\">\n",
       "<caption>A data.frame: 5 × 3</caption>\n",
       "<thead>\n",
       "\t<tr><th scope=col>F1</th><th scope=col>AUC</th><th scope=col>Model</th></tr>\n",
       "\t<tr><th scope=col>&lt;dbl&gt;</th><th scope=col>&lt;dbl&gt;</th><th scope=col>&lt;chr&gt;</th></tr>\n",
       "</thead>\n",
       "<tbody>\n",
       "\t<tr><td>0.9768076</td><td>0.934</td><td>DT Model 1       </td></tr>\n",
       "\t<tr><td>0.9808743</td><td>0.945</td><td>RF Model 2       </td></tr>\n",
       "\t<tr><td>0.9836512</td><td>0.948</td><td> RF (10 features)</td></tr>\n",
       "\t<tr><td>0.9864130</td><td>0.950</td><td> RF (7 features) </td></tr>\n",
       "\t<tr><td>0.8849105</td><td>0.615</td><td> KNN Model 3     </td></tr>\n",
       "</tbody>\n",
       "</table>\n"
      ],
      "text/latex": [
       "A data.frame: 5 × 3\n",
       "\\begin{tabular}{lll}\n",
       " F1 & AUC & Model\\\\\n",
       " <dbl> & <dbl> & <chr>\\\\\n",
       "\\hline\n",
       "\t 0.9768076 & 0.934 & DT Model 1       \\\\\n",
       "\t 0.9808743 & 0.945 & RF Model 2       \\\\\n",
       "\t 0.9836512 & 0.948 &  RF (10 features)\\\\\n",
       "\t 0.9864130 & 0.950 &  RF (7 features) \\\\\n",
       "\t 0.8849105 & 0.615 &  KNN Model 3     \\\\\n",
       "\\end{tabular}\n"
      ],
      "text/markdown": [
       "\n",
       "A data.frame: 5 × 3\n",
       "\n",
       "| F1 &lt;dbl&gt; | AUC &lt;dbl&gt; | Model &lt;chr&gt; |\n",
       "|---|---|---|\n",
       "| 0.9768076 | 0.934 | DT Model 1        |\n",
       "| 0.9808743 | 0.945 | RF Model 2        |\n",
       "| 0.9836512 | 0.948 |  RF (10 features) |\n",
       "| 0.9864130 | 0.950 |  RF (7 features)  |\n",
       "| 0.8849105 | 0.615 |  KNN Model 3      |\n",
       "\n"
      ],
      "text/plain": [
       "  F1        AUC   Model            \n",
       "1 0.9768076 0.934 DT Model 1       \n",
       "2 0.9808743 0.945 RF Model 2       \n",
       "3 0.9836512 0.948  RF (10 features)\n",
       "4 0.9864130 0.950  RF (7 features) \n",
       "5 0.8849105 0.615  KNN Model 3     "
      ]
     },
     "metadata": {},
     "output_type": "display_data"
    }
   ],
   "source": [
    "# Combine the results into the results table \n",
    "model.results.5 <- rbind(model.results.4, data.frame(F1 = F1.knn.m3, AUC = 0.615, Model=\" KNN Model 3\"))\n",
    "model.results.5"
   ]
  },
  {
   "cell_type": "markdown",
   "id": "2a351a55-6710-46c6-9cb4-5dc0d10acbcb",
   "metadata": {},
   "source": [
    "#### Model 4: XGBoost "
   ]
  },
  {
   "cell_type": "code",
   "execution_count": 174,
   "id": "8d11ddaa-4b49-40e2-b67d-3ad309b6c5f1",
   "metadata": {},
   "outputs": [],
   "source": [
    "# Perform data preparation for XGBoost model \n",
    "# XGBoost Model can only deal with numeric numbers/matrix, so we convert all variables to matrix first\n",
    "\n",
    "# Only include predictor variables \n",
    "xsmalltrain.xgb <- model.matrix(~ 0 + ., data = SMALL.train_df[,-32]) \n",
    "# Only include target variable\n",
    "ysmalltrain.xgb <- as.vector(SMALL.train_df$Class) \n",
    "\n",
    "xvalid.xgb <- model.matrix(~ 0 + ., data = VAL.train_df[,-32])\n",
    "yvalid.xgb <- as.vector(VAL.train_df$Class)"
   ]
  },
  {
   "cell_type": "code",
   "execution_count": 175,
   "id": "4ab48d8b-bf0e-4cfe-a3cd-129dc3d7107d",
   "metadata": {},
   "outputs": [],
   "source": [
    "# Train the XGBoost model\n",
    "\n",
    "xgb <- xgboost(xsmalltrain.xgb, \n",
    "                     ysmalltrain.xgb, \n",
    "                   max.depth = 3, \n",
    "                     nthread = 3, \n",
    "                     nround = 200, \n",
    "                     objective = \"binary:logistic\",\n",
    "                     eval_metric='logloss',\n",
    "                     verbose = 0)"
   ]
  },
  {
   "cell_type": "code",
   "execution_count": 176,
   "id": "a0e9e65b-c7da-41f9-83de-c93ae144baca",
   "metadata": {},
   "outputs": [
    {
     "data": {
      "text/html": [
       "<table class=\"dataframe\">\n",
       "<caption>A data.table: 6 × 4</caption>\n",
       "<thead>\n",
       "\t<tr><th scope=col>Feature</th><th scope=col>Gain</th><th scope=col>Cover</th><th scope=col>Frequency</th></tr>\n",
       "\t<tr><th scope=col>&lt;chr&gt;</th><th scope=col>&lt;dbl&gt;</th><th scope=col>&lt;dbl&gt;</th><th scope=col>&lt;dbl&gt;</th></tr>\n",
       "</thead>\n",
       "<tbody>\n",
       "\t<tr><td>V14</td><td>0.69276150</td><td>0.23680635</td><td>0.06986900</td></tr>\n",
       "\t<tr><td>V4 </td><td>0.05381944</td><td>0.08349190</td><td>0.06404658</td></tr>\n",
       "\t<tr><td>V10</td><td>0.03186349</td><td>0.05196328</td><td>0.04512373</td></tr>\n",
       "\t<tr><td>V17</td><td>0.03096013</td><td>0.10063551</td><td>0.02183406</td></tr>\n",
       "\t<tr><td>V20</td><td>0.01780371</td><td>0.06840692</td><td>0.03056769</td></tr>\n",
       "\t<tr><td>V19</td><td>0.01780270</td><td>0.04526110</td><td>0.05676856</td></tr>\n",
       "</tbody>\n",
       "</table>\n"
      ],
      "text/latex": [
       "A data.table: 6 × 4\n",
       "\\begin{tabular}{llll}\n",
       " Feature & Gain & Cover & Frequency\\\\\n",
       " <chr> & <dbl> & <dbl> & <dbl>\\\\\n",
       "\\hline\n",
       "\t V14 & 0.69276150 & 0.23680635 & 0.06986900\\\\\n",
       "\t V4  & 0.05381944 & 0.08349190 & 0.06404658\\\\\n",
       "\t V10 & 0.03186349 & 0.05196328 & 0.04512373\\\\\n",
       "\t V17 & 0.03096013 & 0.10063551 & 0.02183406\\\\\n",
       "\t V20 & 0.01780371 & 0.06840692 & 0.03056769\\\\\n",
       "\t V19 & 0.01780270 & 0.04526110 & 0.05676856\\\\\n",
       "\\end{tabular}\n"
      ],
      "text/markdown": [
       "\n",
       "A data.table: 6 × 4\n",
       "\n",
       "| Feature &lt;chr&gt; | Gain &lt;dbl&gt; | Cover &lt;dbl&gt; | Frequency &lt;dbl&gt; |\n",
       "|---|---|---|---|\n",
       "| V14 | 0.69276150 | 0.23680635 | 0.06986900 |\n",
       "| V4  | 0.05381944 | 0.08349190 | 0.06404658 |\n",
       "| V10 | 0.03186349 | 0.05196328 | 0.04512373 |\n",
       "| V17 | 0.03096013 | 0.10063551 | 0.02183406 |\n",
       "| V20 | 0.01780371 | 0.06840692 | 0.03056769 |\n",
       "| V19 | 0.01780270 | 0.04526110 | 0.05676856 |\n",
       "\n"
      ],
      "text/plain": [
       "  Feature Gain       Cover      Frequency \n",
       "1 V14     0.69276150 0.23680635 0.06986900\n",
       "2 V4      0.05381944 0.08349190 0.06404658\n",
       "3 V10     0.03186349 0.05196328 0.04512373\n",
       "4 V17     0.03096013 0.10063551 0.02183406\n",
       "5 V20     0.01780371 0.06840692 0.03056769\n",
       "6 V19     0.01780270 0.04526110 0.05676856"
      ]
     },
     "metadata": {},
     "output_type": "display_data"
    },
    {
     "data": {
      "image/png": "[encoded data removed]",
      "text/plain": [
       "plot without title"
      ]
     },
     "metadata": {
      "image/png": {
       "height": 480,
       "width": 720
      }
     },
     "output_type": "display_data"
    }
   ],
   "source": [
    "# Determine feature importance for the model \n",
    "\n",
    "importance.xgb <- xgb.importance(feature_names = colnames(xsmalltrain.xgb), model = xgb)\n",
    "head(importance.xgb)\n",
    "\n",
    "fig(12,8)\n",
    "xgb.plot.importance(importance_matrix = importance.xgb)"
   ]
  },
  {
   "cell_type": "code",
   "execution_count": 128,
   "id": "80b743a6-c0b4-46cf-8137-a627c1ea45a3",
   "metadata": {
    "tags": []
   },
   "outputs": [],
   "source": [
    "# Predict the XGBoost model \n",
    "\n",
    "xgb.pred <- predict(xgb, xvalid.xgb)"
   ]
  },
  {
   "cell_type": "code",
   "execution_count": 129,
   "id": "4ad62e0b-4ef8-4864-af3e-445203c8b637",
   "metadata": {},
   "outputs": [],
   "source": [
    "# Convert prediction to numeric type\n",
    "\n",
    "xgb.prediction <- as.numeric(xgb.pred > 0.5)"
   ]
  },
  {
   "cell_type": "code",
   "execution_count": 130,
   "id": "b3272f03-37c6-486e-b7e4-aa5209cacf6b",
   "metadata": {
    "tags": []
   },
   "outputs": [
    {
     "data": {
      "text/plain": [
       "Confusion Matrix and Statistics\n",
       "\n",
       "          Reference\n",
       "Prediction   0   1\n",
       "         0 357   6\n",
       "         1  10  91\n",
       "                                          \n",
       "               Accuracy : 0.9655          \n",
       "                 95% CI : (0.9446, 0.9802)\n",
       "    No Information Rate : 0.7909          \n",
       "    P-Value [Acc > NIR] : <2e-16          \n",
       "                                          \n",
       "                  Kappa : 0.8973          \n",
       "                                          \n",
       " Mcnemar's Test P-Value : 0.4533          \n",
       "                                          \n",
       "            Sensitivity : 0.9381          \n",
       "            Specificity : 0.9728          \n",
       "         Pos Pred Value : 0.9010          \n",
       "         Neg Pred Value : 0.9835          \n",
       "             Prevalence : 0.2091          \n",
       "         Detection Rate : 0.1961          \n",
       "   Detection Prevalence : 0.2177          \n",
       "      Balanced Accuracy : 0.9554          \n",
       "                                          \n",
       "       'Positive' Class : 1               \n",
       "                                          "
      ]
     },
     "metadata": {},
     "output_type": "display_data"
    }
   ],
   "source": [
    "# Create confusion matrix for xgb model \n",
    "\n",
    "cm.xgb.m4 <- confusionMatrix(VAL.train_df$Class, as.factor(xgb.prediction), positive = '1')\n",
    "cm.xgb.m4"
   ]
  },
  {
   "cell_type": "code",
   "execution_count": 133,
   "id": "541de0c0-ffbe-49a4-90c0-f678dda8bf0d",
   "metadata": {},
   "outputs": [
    {
     "data": {
      "text/html": [
       "0.978082191780822"
      ],
      "text/latex": [
       "0.978082191780822"
      ],
      "text/markdown": [
       "0.978082191780822"
      ],
      "text/plain": [
       "[1] 0.9780822"
      ]
     },
     "metadata": {},
     "output_type": "display_data"
    }
   ],
   "source": [
    "# Determine the F score for the XGBoost model \n",
    "\n",
    "F1.xgb.m4 <- F1_Score(xgb.prediction, VAL.train_df$Class)\n",
    "F1.xgb.m4"
   ]
  },
  {
   "cell_type": "code",
   "execution_count": 137,
   "id": "905e62df-0dfd-42be-874b-bcde2ceae8f8",
   "metadata": {},
   "outputs": [
    {
     "data": {
      "text/plain": [
       "Area under the curve (AUC): 0.992"
      ]
     },
     "metadata": {},
     "output_type": "display_data"
    },
    {
     "data": {
      "image/png": "[encoded data removed]",
      "text/plain": [
       "Plot with title “ROC curve”"
      ]
     },
     "metadata": {
      "image/png": {
       "height": 480,
       "width": 720
      }
     },
     "output_type": "display_data"
    }
   ],
   "source": [
    "# Create a ROC curve and generate the AUC score for the XGBoost model \n",
    "\n",
    "roc.curve(yvalid.xgb, xgb.pred, plotit = TRUE, col = \"blue\")"
   ]
  },
  {
   "cell_type": "code",
   "execution_count": 177,
   "id": "6ee9922e-1cdd-49d6-b9ff-c6e19f6c4ab0",
   "metadata": {},
   "outputs": [
    {
     "data": {
      "text/html": [
       "<table class=\"dataframe\">\n",
       "<caption>A data.frame: 6 × 3</caption>\n",
       "<thead>\n",
       "\t<tr><th scope=col>F1</th><th scope=col>AUC</th><th scope=col>Model</th></tr>\n",
       "\t<tr><th scope=col>&lt;dbl&gt;</th><th scope=col>&lt;dbl&gt;</th><th scope=col>&lt;chr&gt;</th></tr>\n",
       "</thead>\n",
       "<tbody>\n",
       "\t<tr><td>0.9768076</td><td>0.934</td><td>DT Model 1       </td></tr>\n",
       "\t<tr><td>0.9808743</td><td>0.945</td><td>RF Model 2       </td></tr>\n",
       "\t<tr><td>0.9836512</td><td>0.948</td><td> RF (10 features)</td></tr>\n",
       "\t<tr><td>0.9864130</td><td>0.950</td><td> RF (7 features) </td></tr>\n",
       "\t<tr><td>0.8849105</td><td>0.615</td><td> KNN Model 3     </td></tr>\n",
       "\t<tr><td>0.9780822</td><td>0.992</td><td> XGBoost Model 4 </td></tr>\n",
       "</tbody>\n",
       "</table>\n"
      ],
      "text/latex": [
       "A data.frame: 6 × 3\n",
       "\\begin{tabular}{lll}\n",
       " F1 & AUC & Model\\\\\n",
       " <dbl> & <dbl> & <chr>\\\\\n",
       "\\hline\n",
       "\t 0.9768076 & 0.934 & DT Model 1       \\\\\n",
       "\t 0.9808743 & 0.945 & RF Model 2       \\\\\n",
       "\t 0.9836512 & 0.948 &  RF (10 features)\\\\\n",
       "\t 0.9864130 & 0.950 &  RF (7 features) \\\\\n",
       "\t 0.8849105 & 0.615 &  KNN Model 3     \\\\\n",
       "\t 0.9780822 & 0.992 &  XGBoost Model 4 \\\\\n",
       "\\end{tabular}\n"
      ],
      "text/markdown": [
       "\n",
       "A data.frame: 6 × 3\n",
       "\n",
       "| F1 &lt;dbl&gt; | AUC &lt;dbl&gt; | Model &lt;chr&gt; |\n",
       "|---|---|---|\n",
       "| 0.9768076 | 0.934 | DT Model 1        |\n",
       "| 0.9808743 | 0.945 | RF Model 2        |\n",
       "| 0.9836512 | 0.948 |  RF (10 features) |\n",
       "| 0.9864130 | 0.950 |  RF (7 features)  |\n",
       "| 0.8849105 | 0.615 |  KNN Model 3      |\n",
       "| 0.9780822 | 0.992 |  XGBoost Model 4  |\n",
       "\n"
      ],
      "text/plain": [
       "  F1        AUC   Model            \n",
       "1 0.9768076 0.934 DT Model 1       \n",
       "2 0.9808743 0.945 RF Model 2       \n",
       "3 0.9836512 0.948  RF (10 features)\n",
       "4 0.9864130 0.950  RF (7 features) \n",
       "5 0.8849105 0.615  KNN Model 3     \n",
       "6 0.9780822 0.992  XGBoost Model 4 "
      ]
     },
     "metadata": {},
     "output_type": "display_data"
    }
   ],
   "source": [
    "# Combine the results into the results table \n",
    "model.results.6 <- rbind(model.results.5, data.frame(F1 = F1.xgb.m4, AUC = 0.992, Model=\" XGBoost Model 4\"))\n",
    "model.results.6"
   ]
  },
  {
   "cell_type": "code",
   "execution_count": 138,
   "id": "0a800246-96bb-41c5-83f0-acbb5381d457",
   "metadata": {
    "tags": []
   },
   "outputs": [
    {
     "data": {
      "text/plain": [
       "Area under the curve (AUC): 0.986"
      ]
     },
     "metadata": {},
     "output_type": "display_data"
    },
    {
     "data": {
      "image/png": "[encoded data removed]",
      "text/plain": [
       "Plot with title “ROC curve”"
      ]
     },
     "metadata": {
      "image/png": {
       "height": 480,
       "width": 720
      }
     },
     "output_type": "display_data"
    }
   ],
   "source": [
    "# Refining the XGBoost model using feature importance \n",
    "# Train the model on the top ten features \n",
    "\n",
    "# Only include predictor variables in the x datasets \n",
    "xsmalltrain.xgb.Trim10 <- model.matrix(~ 0 + ., data = SMALL.train_df[, c('V14', 'V4', 'V10', 'V17', 'V20', 'V19', 'V13', 'V23', 'V7', 'V21')]) \n",
    "xvalid.xgb.Trim10 <- model.matrix(~ 0 + ., data = VAL.train_df[, c('V14', 'V4', 'V10', 'V17', 'V20', 'V19', 'V13', 'V23', 'V7', 'V21')])\n",
    "\n",
    "# Train the XGBoost on the top 10 features \n",
    "xgb.Trim10 <- xgboost(xsmalltrain.xgb.Trim10, \n",
    "                     ysmalltrain.xgb, \n",
    "                   max.depth = 3, \n",
    "                     nthread = 3, \n",
    "                     nround = 200, \n",
    "                     objective = \"binary:logistic\",\n",
    "                     eval_metric='logloss',\n",
    "                     verbose = 0)\n",
    "\n",
    "xgb.pred.Trim10 <- predict(xgb.Trim10, xvalid.xgb.Trim10)\n",
    "xgb.prediction.Trim10 <- as.numeric(xgb.pred.Trim10 > 0.5)\n",
    "\n",
    "\n",
    "# Determine the F score for the XGBoost model (10 features)\n",
    "F1.xgb.Trim10 <- F1_Score(xgb.prediction.Trim10, VAL.train_df$Class)\n",
    "\n",
    "# Create a ROC curve and generate the AUC score for the XGBoost model\n",
    "roc.curve(yvalid.xgb, xgb.pred.Trim10, plotit = TRUE, col = \"blue\")"
   ]
  },
  {
   "cell_type": "code",
   "execution_count": 178,
   "id": "39b1873d-bca6-47af-a287-d67b6e015d90",
   "metadata": {},
   "outputs": [
    {
     "data": {
      "text/html": [
       "<table class=\"dataframe\">\n",
       "<caption>A data.frame: 7 × 3</caption>\n",
       "<thead>\n",
       "\t<tr><th scope=col>F1</th><th scope=col>AUC</th><th scope=col>Model</th></tr>\n",
       "\t<tr><th scope=col>&lt;dbl&gt;</th><th scope=col>&lt;dbl&gt;</th><th scope=col>&lt;chr&gt;</th></tr>\n",
       "</thead>\n",
       "<tbody>\n",
       "\t<tr><td>0.9768076</td><td>0.934</td><td>DT Model 1            </td></tr>\n",
       "\t<tr><td>0.9808743</td><td>0.945</td><td>RF Model 2            </td></tr>\n",
       "\t<tr><td>0.9836512</td><td>0.948</td><td> RF (10 features)     </td></tr>\n",
       "\t<tr><td>0.9864130</td><td>0.950</td><td> RF (7 features)      </td></tr>\n",
       "\t<tr><td>0.8849105</td><td>0.615</td><td> KNN Model 3          </td></tr>\n",
       "\t<tr><td>0.9780822</td><td>0.992</td><td> XGBoost Model 4      </td></tr>\n",
       "\t<tr><td>0.9780220</td><td>0.986</td><td> XGBoost (10 features)</td></tr>\n",
       "</tbody>\n",
       "</table>\n"
      ],
      "text/latex": [
       "A data.frame: 7 × 3\n",
       "\\begin{tabular}{lll}\n",
       " F1 & AUC & Model\\\\\n",
       " <dbl> & <dbl> & <chr>\\\\\n",
       "\\hline\n",
       "\t 0.9768076 & 0.934 & DT Model 1            \\\\\n",
       "\t 0.9808743 & 0.945 & RF Model 2            \\\\\n",
       "\t 0.9836512 & 0.948 &  RF (10 features)     \\\\\n",
       "\t 0.9864130 & 0.950 &  RF (7 features)      \\\\\n",
       "\t 0.8849105 & 0.615 &  KNN Model 3          \\\\\n",
       "\t 0.9780822 & 0.992 &  XGBoost Model 4      \\\\\n",
       "\t 0.9780220 & 0.986 &  XGBoost (10 features)\\\\\n",
       "\\end{tabular}\n"
      ],
      "text/markdown": [
       "\n",
       "A data.frame: 7 × 3\n",
       "\n",
       "| F1 &lt;dbl&gt; | AUC &lt;dbl&gt; | Model &lt;chr&gt; |\n",
       "|---|---|---|\n",
       "| 0.9768076 | 0.934 | DT Model 1             |\n",
       "| 0.9808743 | 0.945 | RF Model 2             |\n",
       "| 0.9836512 | 0.948 |  RF (10 features)      |\n",
       "| 0.9864130 | 0.950 |  RF (7 features)       |\n",
       "| 0.8849105 | 0.615 |  KNN Model 3           |\n",
       "| 0.9780822 | 0.992 |  XGBoost Model 4       |\n",
       "| 0.9780220 | 0.986 |  XGBoost (10 features) |\n",
       "\n"
      ],
      "text/plain": [
       "  F1        AUC   Model                 \n",
       "1 0.9768076 0.934 DT Model 1            \n",
       "2 0.9808743 0.945 RF Model 2            \n",
       "3 0.9836512 0.948  RF (10 features)     \n",
       "4 0.9864130 0.950  RF (7 features)      \n",
       "5 0.8849105 0.615  KNN Model 3          \n",
       "6 0.9780822 0.992  XGBoost Model 4      \n",
       "7 0.9780220 0.986  XGBoost (10 features)"
      ]
     },
     "metadata": {},
     "output_type": "display_data"
    }
   ],
   "source": [
    "# Add the results to the results table \n",
    "\n",
    "model.results.7 <- rbind(model.results.6, data.frame(F1 = F1.xgb.Trim10, AUC = 0.986, Model=\" XGBoost (10 features)\"))\n",
    "model.results.7"
   ]
  },
  {
   "cell_type": "code",
   "execution_count": 145,
   "id": "e5f2175a-c1c9-4fc4-b84a-db0797cde84b",
   "metadata": {},
   "outputs": [],
   "source": [
    "# 10 features performed less well than all features together \n",
    "# Determine whether there is an optimal feature number for XGBoost model between 1-10\n",
    "\n",
    "# TOP 9 FEATURES \n",
    "xsmalltrain.xgb.Trim9 <- model.matrix(~ 0 + ., data = SMALL.train_df[, c('V14', 'V4', 'V10', 'V17', 'V20', 'V19', 'V13', 'V23', 'V7')]) \n",
    "xvalid.xgb.Trim9 <- model.matrix(~ 0 + ., data = VAL.train_df[, c('V14', 'V4', 'V10', 'V17', 'V20', 'V19', 'V13', 'V23', 'V7')])\n",
    "\n",
    "xgb.Trim9 <- xgboost(xsmalltrain.xgb.Trim9, \n",
    "                     ysmalltrain.xgb, \n",
    "                   max.depth = 3, \n",
    "                     nthread = 3, \n",
    "                     nround = 200, \n",
    "                     objective = \"binary:logistic\",\n",
    "                     eval_metric='logloss',\n",
    "                     verbose = 0)\n",
    "\n",
    "xgb.pred.Trim9 <- predict(xgb.Trim9, xvalid.xgb.Trim9)\n",
    "xgb.prediction.Trim9 <- as.numeric(xgb.pred.Trim9 > 0.5)\n",
    "\n",
    "F1.xgb.Trim9 <- F1_Score(xgb.prediction.Trim9, VAL.train_df$Class)\n",
    "\n",
    "#___________________\n",
    "\n",
    "\n",
    "# TOP 8 FEATURES \n",
    "xsmalltrain.xgb.Trim8 <- model.matrix(~ 0 + ., data = SMALL.train_df[, c('V14', 'V4', 'V10', 'V17', 'V20', 'V19', 'V13', 'V23')]) \n",
    "xvalid.xgb.Trim8 <- model.matrix(~ 0 + ., data = VAL.train_df[, c('V14', 'V4', 'V10', 'V17', 'V20', 'V19', 'V13', 'V23')])\n",
    "\n",
    "xgb.Trim8 <- xgboost(xsmalltrain.xgb.Trim8, \n",
    "                     ysmalltrain.xgb, \n",
    "                   max.depth = 3, \n",
    "                     nthread = 3, \n",
    "                     nround = 200, \n",
    "                     objective = \"binary:logistic\",\n",
    "                     eval_metric='logloss',\n",
    "                     verbose = 0)\n",
    "\n",
    "xgb.pred.Trim8 <- predict(xgb.Trim8, xvalid.xgb.Trim8)\n",
    "xgb.prediction.Trim8 <- as.numeric(xgb.pred.Trim8 > 0.5)\n",
    "\n",
    "F1.xgb.Trim8 <- F1_Score(xgb.prediction.Trim8, VAL.train_df$Class)\n",
    "\n",
    "\n",
    "#___________________\n",
    "# TOP 7 FEATURES \n",
    "xsmalltrain.xgb.Trim7 <- model.matrix(~ 0 + ., data = SMALL.train_df[, c('V14', 'V4', 'V10', 'V17', 'V20', 'V19', 'V13')]) \n",
    "xvalid.xgb.Trim7 <- model.matrix(~ 0 + ., data = VAL.train_df[, c('V14', 'V4', 'V10', 'V17', 'V20', 'V19', 'V13')])\n",
    "\n",
    "xgb.Trim7 <- xgboost(xsmalltrain.xgb.Trim7, \n",
    "                     ysmalltrain.xgb, \n",
    "                   max.depth = 3, \n",
    "                     nthread = 3, \n",
    "                     nround = 200, \n",
    "                     objective = \"binary:logistic\",\n",
    "                     eval_metric='logloss',\n",
    "                     verbose = 0)\n",
    "\n",
    "xgb.pred.Trim7 <- predict(xgb.Trim7, xvalid.xgb.Trim7)\n",
    "xgb.prediction.Trim7 <- as.numeric(xgb.pred.Trim7 > 0.5)\n",
    "\n",
    "F1.xgb.Trim7 <- F1_Score(xgb.prediction.Trim7, VAL.train_df$Class)\n",
    "\n",
    "\n",
    "#___________________\n",
    "# TOP 6 FEATURES \n",
    "xsmalltrain.xgb.Trim6 <- model.matrix(~ 0 + ., data = SMALL.train_df[, c('V14', 'V4', 'V10', 'V17', 'V20', 'V19')]) \n",
    "xvalid.xgb.Trim6 <- model.matrix(~ 0 + ., data = VAL.train_df[, c('V14', 'V4', 'V10', 'V17', 'V20', 'V19')])\n",
    "\n",
    "xgb.Trim6 <- xgboost(xsmalltrain.xgb.Trim6, \n",
    "                     ysmalltrain.xgb, \n",
    "                   max.depth = 3, \n",
    "                     nthread = 3, \n",
    "                     nround = 200, \n",
    "                     objective = \"binary:logistic\",\n",
    "                     eval_metric='logloss',\n",
    "                     verbose = 0)\n",
    "\n",
    "xgb.pred.Trim6 <- predict(xgb.Trim6, xvalid.xgb.Trim6)\n",
    "xgb.prediction.Trim6 <- as.numeric(xgb.pred.Trim6 > 0.5)\n",
    "\n",
    "F1.xgb.Trim6 <- F1_Score(xgb.prediction.Trim6, VAL.train_df$Class)\n",
    "\n",
    "\n",
    "#___________________\n",
    "# TOP 5 FEATURES \n",
    "xsmalltrain.xgb.Trim5 <- model.matrix(~ 0 + ., data = SMALL.train_df[, c('V14', 'V4', 'V10', 'V17', 'V20')]) \n",
    "xvalid.xgb.Trim5 <- model.matrix(~ 0 + ., data = VAL.train_df[, c('V14', 'V4', 'V10', 'V17', 'V20')])\n",
    "\n",
    "xgb.Trim5 <- xgboost(xsmalltrain.xgb.Trim5, \n",
    "                     ysmalltrain.xgb, \n",
    "                   max.depth = 3, \n",
    "                     nthread = 3, \n",
    "                     nround = 200, \n",
    "                     objective = \"binary:logistic\",\n",
    "                     eval_metric='logloss',\n",
    "                     verbose = 0)\n",
    "\n",
    "xgb.pred.Trim5 <- predict(xgb.Trim5, xvalid.xgb.Trim5)\n",
    "xgb.prediction.Trim5 <- as.numeric(xgb.pred.Trim5 > 0.5)\n",
    "\n",
    "F1.xgb.Trim5 <- F1_Score(xgb.prediction.Trim5, VAL.train_df$Class)\n",
    "\n",
    "\n",
    "#___________________\n",
    "# TOP 4 FEATURES \n",
    "xsmalltrain.xgb.Trim4 <- model.matrix(~ 0 + ., data = SMALL.train_df[, c('V14', 'V4', 'V10', 'V17')]) \n",
    "xvalid.xgb.Trim4 <- model.matrix(~ 0 + ., data = VAL.train_df[, c('V14', 'V4', 'V10', 'V17')])\n",
    "\n",
    "xgb.Trim4 <- xgboost(xsmalltrain.xgb.Trim4, \n",
    "                     ysmalltrain.xgb, \n",
    "                   max.depth = 3, \n",
    "                     nthread = 3, \n",
    "                     nround = 200, \n",
    "                     objective = \"binary:logistic\",\n",
    "                     eval_metric='logloss',\n",
    "                     verbose = 0)\n",
    "\n",
    "xgb.pred.Trim4 <- predict(xgb.Trim4, xvalid.xgb.Trim4)\n",
    "xgb.prediction.Trim4 <- as.numeric(xgb.pred.Trim4 > 0.5)\n",
    "\n",
    "F1.xgb.Trim4 <- F1_Score(xgb.prediction.Trim4, VAL.train_df$Class)\n",
    "\n",
    "\n",
    "#___________________\n",
    "# TOP 3 FEATURES \n",
    "xsmalltrain.xgb.Trim3 <- model.matrix(~ 0 + ., data = SMALL.train_df[, c('V14', 'V4', 'V10')]) \n",
    "xvalid.xgb.Trim3 <- model.matrix(~ 0 + ., data = VAL.train_df[, c('V14', 'V4', 'V10')])\n",
    "\n",
    "xgb.Trim3 <- xgboost(xsmalltrain.xgb.Trim3, \n",
    "                     ysmalltrain.xgb, \n",
    "                   max.depth = 3, \n",
    "                     nthread = 3, \n",
    "                     nround = 200, \n",
    "                     objective = \"binary:logistic\",\n",
    "                     eval_metric='logloss',\n",
    "                     verbose = 0)\n",
    "\n",
    "xgb.pred.Trim3 <- predict(xgb.Trim3, xvalid.xgb.Trim3)\n",
    "xgb.prediction.Trim3 <- as.numeric(xgb.pred.Trim3 > 0.5)\n",
    "\n",
    "F1.xgb.Trim3 <- F1_Score(xgb.prediction.Trim3, VAL.train_df$Class)\n",
    "\n",
    "\n",
    "#___________________\n",
    "# TOP 2 FEATURES \n",
    "xsmalltrain.xgb.Trim2 <- model.matrix(~ 0 + ., data = SMALL.train_df[, c('V14', 'V4')]) \n",
    "xvalid.xgb.Trim2 <- model.matrix(~ 0 + ., data = VAL.train_df[, c('V14', 'V4')])\n",
    "\n",
    "xgb.Trim2 <- xgboost(xsmalltrain.xgb.Trim2, \n",
    "                     ysmalltrain.xgb, \n",
    "                   max.depth = 3, \n",
    "                     nthread = 3, \n",
    "                     nround = 200, \n",
    "                     objective = \"binary:logistic\",\n",
    "                     eval_metric='logloss',\n",
    "                     verbose = 0)\n",
    "\n",
    "xgb.pred.Trim2 <- predict(xgb.Trim2, xvalid.xgb.Trim2)\n",
    "xgb.prediction.Trim2 <- as.numeric(xgb.pred.Trim2 > 0.5)\n",
    "\n",
    "F1.xgb.Trim2 <- F1_Score(xgb.prediction.Trim2, VAL.train_df$Class)"
   ]
  },
  {
   "cell_type": "code",
   "execution_count": 148,
   "id": "475cfe1f-06bb-430a-beb8-ee77697653d1",
   "metadata": {},
   "outputs": [
    {
     "data": {
      "image/png": "[encoded data removed]",
      "text/plain": [
       "plot without title"
      ]
     },
     "metadata": {
      "image/png": {
       "height": 480,
       "width": 720
      }
     },
     "output_type": "display_data"
    }
   ],
   "source": [
    "# Create a graph of the F1 scores to determine the optimal number of features to include in the model\n",
    "\n",
    "# build dataframe of number of variables and scores\n",
    "numVariables.xgb <- c(2,3,4,5,6,7,8,9,10,30)\n",
    "F1_Scores.xgb <- c(F1.xgb.Trim2, F1.xgb.Trim3, F1.xgb.Trim4, F1.xgb.Trim5, F1.xgb.Trim6, \n",
    "               F1.xgb.Trim7, F1.xgb.Trim8, F1.xgb.Trim9, F1.xgb.Trim10, F1.xgb.m4)\n",
    "variablePerf.xgb <- data.frame(numVariables.xgb, F1_Scores.xgb)\n",
    "\n",
    "# plot score performance against number of variables\n",
    "fig(12,8)\n",
    "# options(repr.plot.width=4, repr.plot.height=3)\n",
    "ggplot(variablePerf.xgb, aes(numVariables.xgb, F1_Scores.xgb)) + geom_point() + labs(x = \"Number of Variables\", y = \"F1 Score\", title = \"F1 Score Performance\")"
   ]
  },
  {
   "cell_type": "code",
   "execution_count": 149,
   "id": "ee098221-e95e-4dbf-8b7c-97ae26454f00",
   "metadata": {},
   "outputs": [
    {
     "data": {
      "text/plain": [
       "Area under the curve (AUC): 0.979"
      ]
     },
     "metadata": {},
     "output_type": "display_data"
    },
    {
     "data": {
      "image/png": "[encoded data removed]",
      "text/plain": [
       "Plot with title “ROC curve”"
      ]
     },
     "metadata": {
      "image/png": {
       "height": 480,
       "width": 720
      }
     },
     "output_type": "display_data"
    }
   ],
   "source": [
    "# The graph shows that 4 variables perform best on the F1 score \n",
    "\n",
    "# Create a ROC curve and generate the AUC score for the XGBoost model\n",
    "roc.curve(yvalid.xgb, xgb.pred.Trim4, plotit = TRUE, col = \"blue\")"
   ]
  },
  {
   "cell_type": "code",
   "execution_count": 179,
   "id": "c39666ff-5b44-47c7-bbbe-f5f771cb76a5",
   "metadata": {},
   "outputs": [
    {
     "data": {
      "text/html": [
       "<table class=\"dataframe\">\n",
       "<caption>A data.frame: 8 × 3</caption>\n",
       "<thead>\n",
       "\t<tr><th scope=col>F1</th><th scope=col>AUC</th><th scope=col>Model</th></tr>\n",
       "\t<tr><th scope=col>&lt;dbl&gt;</th><th scope=col>&lt;dbl&gt;</th><th scope=col>&lt;chr&gt;</th></tr>\n",
       "</thead>\n",
       "<tbody>\n",
       "\t<tr><td>0.9768076</td><td>0.934</td><td>DT Model 1            </td></tr>\n",
       "\t<tr><td>0.9808743</td><td>0.945</td><td>RF Model 2            </td></tr>\n",
       "\t<tr><td>0.9836512</td><td>0.948</td><td> RF (10 features)     </td></tr>\n",
       "\t<tr><td>0.9864130</td><td>0.950</td><td> RF (7 features)      </td></tr>\n",
       "\t<tr><td>0.8849105</td><td>0.615</td><td> KNN Model 3          </td></tr>\n",
       "\t<tr><td>0.9780822</td><td>0.992</td><td> XGBoost Model 4      </td></tr>\n",
       "\t<tr><td>0.9780220</td><td>0.986</td><td> XGBoost (10 features)</td></tr>\n",
       "\t<tr><td>0.9809264</td><td>0.979</td><td> XGBoost (4 features) </td></tr>\n",
       "</tbody>\n",
       "</table>\n"
      ],
      "text/latex": [
       "A data.frame: 8 × 3\n",
       "\\begin{tabular}{lll}\n",
       " F1 & AUC & Model\\\\\n",
       " <dbl> & <dbl> & <chr>\\\\\n",
       "\\hline\n",
       "\t 0.9768076 & 0.934 & DT Model 1            \\\\\n",
       "\t 0.9808743 & 0.945 & RF Model 2            \\\\\n",
       "\t 0.9836512 & 0.948 &  RF (10 features)     \\\\\n",
       "\t 0.9864130 & 0.950 &  RF (7 features)      \\\\\n",
       "\t 0.8849105 & 0.615 &  KNN Model 3          \\\\\n",
       "\t 0.9780822 & 0.992 &  XGBoost Model 4      \\\\\n",
       "\t 0.9780220 & 0.986 &  XGBoost (10 features)\\\\\n",
       "\t 0.9809264 & 0.979 &  XGBoost (4 features) \\\\\n",
       "\\end{tabular}\n"
      ],
      "text/markdown": [
       "\n",
       "A data.frame: 8 × 3\n",
       "\n",
       "| F1 &lt;dbl&gt; | AUC &lt;dbl&gt; | Model &lt;chr&gt; |\n",
       "|---|---|---|\n",
       "| 0.9768076 | 0.934 | DT Model 1             |\n",
       "| 0.9808743 | 0.945 | RF Model 2             |\n",
       "| 0.9836512 | 0.948 |  RF (10 features)      |\n",
       "| 0.9864130 | 0.950 |  RF (7 features)       |\n",
       "| 0.8849105 | 0.615 |  KNN Model 3           |\n",
       "| 0.9780822 | 0.992 |  XGBoost Model 4       |\n",
       "| 0.9780220 | 0.986 |  XGBoost (10 features) |\n",
       "| 0.9809264 | 0.979 |  XGBoost (4 features)  |\n",
       "\n"
      ],
      "text/plain": [
       "  F1        AUC   Model                 \n",
       "1 0.9768076 0.934 DT Model 1            \n",
       "2 0.9808743 0.945 RF Model 2            \n",
       "3 0.9836512 0.948  RF (10 features)     \n",
       "4 0.9864130 0.950  RF (7 features)      \n",
       "5 0.8849105 0.615  KNN Model 3          \n",
       "6 0.9780822 0.992  XGBoost Model 4      \n",
       "7 0.9780220 0.986  XGBoost (10 features)\n",
       "8 0.9809264 0.979  XGBoost (4 features) "
      ]
     },
     "metadata": {},
     "output_type": "display_data"
    }
   ],
   "source": [
    "model.results.8 <- rbind(model.results.7, data.frame(F1 = F1.xgb.Trim4, AUC = 0.979, Model=\" XGBoost (4 features)\"))\n",
    "model.results.8"
   ]
  },
  {
   "cell_type": "markdown",
   "id": "08720ba2-82dc-4dac-b296-ab38d103eaf0",
   "metadata": {},
   "source": [
    "#### Ensemble model - Stacking models"
   ]
  },
  {
   "cell_type": "code",
   "execution_count": 180,
   "id": "34da4da6-329c-4583-bfbf-0dd2d93533c1",
   "metadata": {},
   "outputs": [],
   "source": [
    "# Fit the stacking model to:\n",
    "# 1. the decision tree model \n",
    "# 2. the 7 features random forest model \n",
    "# 3. the xgboost model (because it has the best AUC score)\n",
    "\n",
    "M1 <- rpart(Class ~ . , data = SMALL.train_df)\n",
    "\n",
    "M2 <- randomForest(Class ~  V14 + V10 + V12 + V17 + V11 + V4 + V16, \n",
    "                            data = SMALL.train_df)\n",
    "\n",
    "M3 <- xgboost(xsmalltrain.xgb, \n",
    "                     ysmalltrain.xgb, \n",
    "                   max.depth = 3, \n",
    "                     nthread = 3, \n",
    "                     nround = 200, \n",
    "                     objective = \"binary:logistic\",\n",
    "                     eval_metric='logloss',\n",
    "                     verbose = 0)"
   ]
  },
  {
   "cell_type": "code",
   "execution_count": null,
   "id": "2efd07d2-5776-4bab-b3b4-59c66e4db8f6",
   "metadata": {},
   "outputs": [],
   "source": [
    "# Make predicions for each of the models \n",
    "\n",
    "M1.predict <- predict(M1, VAL.train_df, type ='class')\n",
    "\n",
    "M2.predict <- predict(M2, VAL.train_df)\n",
    "\n",
    "M3.predict <- predict(M3, xvalid.xgb) \n",
    "M3.predict <- as.numeric(M3.predict > 0.5) "
   ]
  }
 ],
 "metadata": {
  "kernelspec": {
   "display_name": "R",
   "language": "R",
   "name": "ir"
  },
  "language_info": {
   "codemirror_mode": "r",
   "file_extension": ".r",
   "mimetype": "text/x-r-source",
   "name": "R",
   "pygments_lexer": "r",
   "version": "4.1.0"
  }
 },
 "nbformat": 4,
 "nbformat_minor": 5
}
